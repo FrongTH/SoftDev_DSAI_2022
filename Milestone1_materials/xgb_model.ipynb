{
 "cells": [
  {
   "cell_type": "markdown",
   "metadata": {},
   "source": [
    "Import Library useful"
   ]
  },
  {
   "cell_type": "code",
   "execution_count": 57,
   "metadata": {},
   "outputs": [],
   "source": [
    "import pandas as pd\n",
    "import seaborn as sns\n",
    "import numpy as np\n",
    "\n",
    "from sklearn.model_selection import train_test_split\n",
    "from sklearn.pipeline import Pipeline\n",
    "from sklearn.compose import ColumnTransformer\n",
    "\n",
    "#Imputation of missing values\n",
    "from sklearn.impute import KNNImputer\n",
    "\n",
    "#Preprocessing scaler, one-hot\n",
    "from sklearn.preprocessing import StandardScaler, OneHotEncoder, RobustScaler, MinMaxScaler, MaxAbsScaler\n",
    "\n",
    "#Model\n",
    "from sklearn.neural_network import MLPClassifier\n",
    "from sklearn.linear_model import SGDClassifier, LogisticRegression\n",
    "from xgboost import XGBClassifier\n",
    "from sklearn.tree import DecisionTreeClassifier\n",
    "\n",
    "# Metrics and graph\n",
    "from sklearn.metrics import confusion_matrix, f1_score, ConfusionMatrixDisplay, classification_report\n",
    "import matplotlib.pyplot as plt\n",
    "%matplotlib inline"
   ]
  },
  {
   "cell_type": "markdown",
   "metadata": {},
   "source": [
    "Import data and description"
   ]
  },
  {
   "cell_type": "code",
   "execution_count": 58,
   "metadata": {},
   "outputs": [
    {
     "data": {
      "text/html": [
       "<div>\n",
       "<style scoped>\n",
       "    .dataframe tbody tr th:only-of-type {\n",
       "        vertical-align: middle;\n",
       "    }\n",
       "\n",
       "    .dataframe tbody tr th {\n",
       "        vertical-align: top;\n",
       "    }\n",
       "\n",
       "    .dataframe thead th {\n",
       "        text-align: right;\n",
       "    }\n",
       "</style>\n",
       "<table border=\"1\" class=\"dataframe\">\n",
       "  <thead>\n",
       "    <tr style=\"text-align: right;\">\n",
       "      <th></th>\n",
       "      <th>Status of existing checking account</th>\n",
       "      <th>Duration in month</th>\n",
       "      <th>Credit history</th>\n",
       "      <th>Purpose</th>\n",
       "      <th>Credit amount</th>\n",
       "      <th>Savings account/bonds</th>\n",
       "      <th>Present employment since</th>\n",
       "      <th>Installment rate in percentage of disposable income</th>\n",
       "      <th>Personal status and sex</th>\n",
       "      <th>Other debtors / guarantors</th>\n",
       "      <th>...</th>\n",
       "      <th>Property</th>\n",
       "      <th>Age in years</th>\n",
       "      <th>Other installment plans</th>\n",
       "      <th>Housing</th>\n",
       "      <th>Number of existing credits at this bank</th>\n",
       "      <th>Job</th>\n",
       "      <th>Number of people being liable to provide maintenance for</th>\n",
       "      <th>Telephone</th>\n",
       "      <th>foreign worker</th>\n",
       "      <th>actual classification</th>\n",
       "    </tr>\n",
       "  </thead>\n",
       "  <tbody>\n",
       "    <tr>\n",
       "      <th>0</th>\n",
       "      <td>A11</td>\n",
       "      <td>6</td>\n",
       "      <td>A34</td>\n",
       "      <td>A43</td>\n",
       "      <td>1169</td>\n",
       "      <td>A65</td>\n",
       "      <td>A75</td>\n",
       "      <td>4</td>\n",
       "      <td>A93</td>\n",
       "      <td>A101</td>\n",
       "      <td>...</td>\n",
       "      <td>A121</td>\n",
       "      <td>67</td>\n",
       "      <td>A143</td>\n",
       "      <td>A152</td>\n",
       "      <td>2</td>\n",
       "      <td>A173</td>\n",
       "      <td>1</td>\n",
       "      <td>A192</td>\n",
       "      <td>A201</td>\n",
       "      <td>1</td>\n",
       "    </tr>\n",
       "    <tr>\n",
       "      <th>1</th>\n",
       "      <td>A12</td>\n",
       "      <td>48</td>\n",
       "      <td>A32</td>\n",
       "      <td>A43</td>\n",
       "      <td>5951</td>\n",
       "      <td>A61</td>\n",
       "      <td>A73</td>\n",
       "      <td>2</td>\n",
       "      <td>A92</td>\n",
       "      <td>A101</td>\n",
       "      <td>...</td>\n",
       "      <td>A121</td>\n",
       "      <td>22</td>\n",
       "      <td>A143</td>\n",
       "      <td>A152</td>\n",
       "      <td>1</td>\n",
       "      <td>A173</td>\n",
       "      <td>1</td>\n",
       "      <td>A191</td>\n",
       "      <td>A201</td>\n",
       "      <td>2</td>\n",
       "    </tr>\n",
       "    <tr>\n",
       "      <th>2</th>\n",
       "      <td>A14</td>\n",
       "      <td>12</td>\n",
       "      <td>A34</td>\n",
       "      <td>A46</td>\n",
       "      <td>2096</td>\n",
       "      <td>A61</td>\n",
       "      <td>A74</td>\n",
       "      <td>2</td>\n",
       "      <td>A93</td>\n",
       "      <td>A101</td>\n",
       "      <td>...</td>\n",
       "      <td>A121</td>\n",
       "      <td>49</td>\n",
       "      <td>A143</td>\n",
       "      <td>A152</td>\n",
       "      <td>1</td>\n",
       "      <td>A172</td>\n",
       "      <td>2</td>\n",
       "      <td>A191</td>\n",
       "      <td>A201</td>\n",
       "      <td>1</td>\n",
       "    </tr>\n",
       "    <tr>\n",
       "      <th>3</th>\n",
       "      <td>A11</td>\n",
       "      <td>42</td>\n",
       "      <td>A32</td>\n",
       "      <td>A42</td>\n",
       "      <td>7882</td>\n",
       "      <td>A61</td>\n",
       "      <td>A74</td>\n",
       "      <td>2</td>\n",
       "      <td>A93</td>\n",
       "      <td>A103</td>\n",
       "      <td>...</td>\n",
       "      <td>A122</td>\n",
       "      <td>45</td>\n",
       "      <td>A143</td>\n",
       "      <td>A153</td>\n",
       "      <td>1</td>\n",
       "      <td>A173</td>\n",
       "      <td>2</td>\n",
       "      <td>A191</td>\n",
       "      <td>A201</td>\n",
       "      <td>1</td>\n",
       "    </tr>\n",
       "    <tr>\n",
       "      <th>4</th>\n",
       "      <td>A11</td>\n",
       "      <td>24</td>\n",
       "      <td>A33</td>\n",
       "      <td>A40</td>\n",
       "      <td>4870</td>\n",
       "      <td>A61</td>\n",
       "      <td>A73</td>\n",
       "      <td>3</td>\n",
       "      <td>A93</td>\n",
       "      <td>A101</td>\n",
       "      <td>...</td>\n",
       "      <td>A124</td>\n",
       "      <td>53</td>\n",
       "      <td>A143</td>\n",
       "      <td>A153</td>\n",
       "      <td>2</td>\n",
       "      <td>A173</td>\n",
       "      <td>2</td>\n",
       "      <td>A191</td>\n",
       "      <td>A201</td>\n",
       "      <td>2</td>\n",
       "    </tr>\n",
       "  </tbody>\n",
       "</table>\n",
       "<p>5 rows × 21 columns</p>\n",
       "</div>"
      ],
      "text/plain": [
       "  Status of existing checking account  Duration in month Credit history  \\\n",
       "0                                 A11                  6            A34   \n",
       "1                                 A12                 48            A32   \n",
       "2                                 A14                 12            A34   \n",
       "3                                 A11                 42            A32   \n",
       "4                                 A11                 24            A33   \n",
       "\n",
       "  Purpose  Credit amount Savings account/bonds Present employment since  \\\n",
       "0     A43           1169                   A65                      A75   \n",
       "1     A43           5951                   A61                      A73   \n",
       "2     A46           2096                   A61                      A74   \n",
       "3     A42           7882                   A61                      A74   \n",
       "4     A40           4870                   A61                      A73   \n",
       "\n",
       "   Installment rate in percentage of disposable income  \\\n",
       "0                                                  4     \n",
       "1                                                  2     \n",
       "2                                                  2     \n",
       "3                                                  2     \n",
       "4                                                  3     \n",
       "\n",
       "  Personal status and sex Other debtors / guarantors  ...  Property  \\\n",
       "0                     A93                       A101  ...      A121   \n",
       "1                     A92                       A101  ...      A121   \n",
       "2                     A93                       A101  ...      A121   \n",
       "3                     A93                       A103  ...      A122   \n",
       "4                     A93                       A101  ...      A124   \n",
       "\n",
       "  Age in years  Other installment plans Housing  \\\n",
       "0           67                     A143    A152   \n",
       "1           22                     A143    A152   \n",
       "2           49                     A143    A152   \n",
       "3           45                     A143    A153   \n",
       "4           53                     A143    A153   \n",
       "\n",
       "  Number of existing credits at this bank   Job  \\\n",
       "0                                       2  A173   \n",
       "1                                       1  A173   \n",
       "2                                       1  A172   \n",
       "3                                       1  A173   \n",
       "4                                       2  A173   \n",
       "\n",
       "  Number of people being liable to provide maintenance for  Telephone  \\\n",
       "0                                                  1             A192   \n",
       "1                                                  1             A191   \n",
       "2                                                  2             A191   \n",
       "3                                                  2             A191   \n",
       "4                                                  2             A191   \n",
       "\n",
       "  foreign worker actual classification  \n",
       "0           A201                     1  \n",
       "1           A201                     2  \n",
       "2           A201                     1  \n",
       "3           A201                     1  \n",
       "4           A201                     2  \n",
       "\n",
       "[5 rows x 21 columns]"
      ]
     },
     "execution_count": 58,
     "metadata": {},
     "output_type": "execute_result"
    }
   ],
   "source": [
    "#data link https://archive.ics.uci.edu/ml/datasets/Statlog+%28German+Credit+Data%29\\n\",\n",
    "header_column = [\"Status of existing checking account\",\n",
    "                \"Duration in month\",\n",
    "                \"Credit history\",\n",
    "                \"Purpose\",\n",
    "                \"Credit amount\",\n",
    "                \"Savings account/bonds\",\n",
    "                \"Present employment since\",\n",
    "                \"Installment rate in percentage of disposable income\",\n",
    "                \"Personal status and sex\",\n",
    "                \"Other debtors / guarantors\",\n",
    "                \"Present residence since\",\n",
    "                \"Property\",\n",
    "                \"Age in years\",\n",
    "                \"Other installment plans\",\n",
    "                \"Housing\",\n",
    "                \"Number of existing credits at this bank\",\n",
    "                \"Job\",\n",
    "                \"Number of people being liable to provide maintenance for\",\n",
    "                \"Telephone\",\n",
    "                \"foreign worker\",\n",
    "                \"actual classification\"]\n",
    "data = pd.read_csv(\"D:\\Frong\\Github\\software development\\SC348810-Software-Development-and-Project-Management-for-Data-Science-and-Artificial-Intelligence\\data\\german_data.txt\", sep = \" \", names = header_column)\n",
    "df = pd.DataFrame(data = data)\n",
    "\n",
    "#Check data\n",
    "df.head()"
   ]
  },
  {
   "cell_type": "code",
   "execution_count": 59,
   "metadata": {},
   "outputs": [
    {
     "name": "stdout",
     "output_type": "stream",
     "text": [
      "<class 'pandas.core.frame.DataFrame'>\n",
      "RangeIndex: 1000 entries, 0 to 999\n",
      "Data columns (total 21 columns):\n",
      " #   Column                                                    Non-Null Count  Dtype \n",
      "---  ------                                                    --------------  ----- \n",
      " 0   Status of existing checking account                       1000 non-null   object\n",
      " 1   Duration in month                                         1000 non-null   int64 \n",
      " 2   Credit history                                            1000 non-null   object\n",
      " 3   Purpose                                                   1000 non-null   object\n",
      " 4   Credit amount                                             1000 non-null   int64 \n",
      " 5   Savings account/bonds                                     1000 non-null   object\n",
      " 6   Present employment since                                  1000 non-null   object\n",
      " 7   Installment rate in percentage of disposable income       1000 non-null   int64 \n",
      " 8   Personal status and sex                                   1000 non-null   object\n",
      " 9   Other debtors / guarantors                                1000 non-null   object\n",
      " 10  Present residence since                                   1000 non-null   int64 \n",
      " 11  Property                                                  1000 non-null   object\n",
      " 12  Age in years                                              1000 non-null   int64 \n",
      " 13  Other installment plans                                   1000 non-null   object\n",
      " 14  Housing                                                   1000 non-null   object\n",
      " 15  Number of existing credits at this bank                   1000 non-null   int64 \n",
      " 16  Job                                                       1000 non-null   object\n",
      " 17  Number of people being liable to provide maintenance for  1000 non-null   int64 \n",
      " 18  Telephone                                                 1000 non-null   object\n",
      " 19  foreign worker                                            1000 non-null   object\n",
      " 20  actual classification                                     1000 non-null   int64 \n",
      "dtypes: int64(8), object(13)\n",
      "memory usage: 164.2+ KB\n"
     ]
    }
   ],
   "source": [
    "df.info()"
   ]
  },
  {
   "cell_type": "markdown",
   "metadata": {},
   "source": [
    "Change object -> category\n",
    "\n",
    ": Category dtype better than object when you train model."
   ]
  },
  {
   "cell_type": "code",
   "execution_count": 60,
   "metadata": {},
   "outputs": [
    {
     "name": "stdout",
     "output_type": "stream",
     "text": [
      "<class 'pandas.core.frame.DataFrame'>\n",
      "RangeIndex: 1000 entries, 0 to 999\n",
      "Data columns (total 21 columns):\n",
      " #   Column                                                    Non-Null Count  Dtype   \n",
      "---  ------                                                    --------------  -----   \n",
      " 0   Status of existing checking account                       1000 non-null   category\n",
      " 1   Duration in month                                         1000 non-null   int64   \n",
      " 2   Credit history                                            1000 non-null   category\n",
      " 3   Purpose                                                   1000 non-null   category\n",
      " 4   Credit amount                                             1000 non-null   int64   \n",
      " 5   Savings account/bonds                                     1000 non-null   category\n",
      " 6   Present employment since                                  1000 non-null   category\n",
      " 7   Installment rate in percentage of disposable income       1000 non-null   int64   \n",
      " 8   Personal status and sex                                   1000 non-null   category\n",
      " 9   Other debtors / guarantors                                1000 non-null   category\n",
      " 10  Present residence since                                   1000 non-null   int64   \n",
      " 11  Property                                                  1000 non-null   category\n",
      " 12  Age in years                                              1000 non-null   int64   \n",
      " 13  Other installment plans                                   1000 non-null   category\n",
      " 14  Housing                                                   1000 non-null   category\n",
      " 15  Number of existing credits at this bank                   1000 non-null   int64   \n",
      " 16  Job                                                       1000 non-null   category\n",
      " 17  Number of people being liable to provide maintenance for  1000 non-null   int64   \n",
      " 18  Telephone                                                 1000 non-null   category\n",
      " 19  foreign worker                                            1000 non-null   category\n",
      " 20  actual classification                                     1000 non-null   int64   \n",
      "dtypes: category(13), int64(8)\n",
      "memory usage: 77.7 KB\n"
     ]
    }
   ],
   "source": [
    "#Change dtype object -> category\n",
    "df_cat = df.copy()\n",
    "for col_name in df_cat.columns:\n",
    "    if np.dtype(df_cat[col_name]) == \"object\":\n",
    "        df_cat[col_name] = df_cat[col_name].astype(\"category\")\n",
    "df_cat.info()"
   ]
  },
  {
   "cell_type": "markdown",
   "metadata": {},
   "source": [
    "***Actual class \n",
    "\n",
    ": 0 -> bad\n",
    "\n",
    ": 1 -> good"
   ]
  },
  {
   "cell_type": "markdown",
   "metadata": {},
   "source": [
    "Data management"
   ]
  },
  {
   "cell_type": "code",
   "execution_count": 61,
   "metadata": {},
   "outputs": [
    {
     "name": "stderr",
     "output_type": "stream",
     "text": [
      "C:\\Users\\FRONG\\AppData\\Local\\Temp\\ipykernel_24452\\2126606599.py:21: SettingWithCopyWarning: \n",
      "A value is trying to be set on a copy of a slice from a DataFrame\n",
      "\n",
      "See the caveats in the documentation: https://pandas.pydata.org/pandas-docs/stable/user_guide/indexing.html#returning-a-view-versus-a-copy\n",
      "  df_cat[\"actual classification\"][index] = 0\n"
     ]
    }
   ],
   "source": [
    "#When you random value from library, A values will be same point at the different time.\n",
    "SEED = 0 \n",
    "\n",
    "#Define target and feature from dataframe.\n",
    "TARGET = \"actual classification\"\n",
    "FEATURES = df_cat.columns.drop(TARGET)\n",
    "\n",
    "#Select data columns name only dtype 'number'\n",
    "NUMERICAL = df_cat[FEATURES].select_dtypes('number').columns\n",
    "\n",
    "#Select data coulumn name only dtype 'category'\n",
    "CATEGORICAL = pd.Index(np.setdiff1d(FEATURES, NUMERICAL)) # np.setdiff1d(a, b) -> return unique values in a that b value not in a Ex. [1, 2, 3], [3, 4] => [1, 2]\n",
    "\n",
    "#Change string to float\n",
    "for column_name in df_cat[CATEGORICAL]:\n",
    "    df_cat[column_name] = df_cat[column_name].cat.codes\n",
    "\n",
    "#Change Class 0-> bad, 1-> good\n",
    "for index, val in enumerate(df_cat[\"actual classification\"]):\n",
    "    if val == 2:\n",
    "        df_cat[\"actual classification\"][index] = 0\n",
    "\n",
    "input = df_cat.drop(columns=TARGET)\n",
    "target = df_cat[TARGET]"
   ]
  },
  {
   "cell_type": "markdown",
   "metadata": {},
   "source": [
    "Pipline"
   ]
  },
  {
   "cell_type": "code",
   "execution_count": 62,
   "metadata": {},
   "outputs": [],
   "source": [
    "#Numerical_pipline\n",
    "numerical_pipe = Pipeline([\n",
    "    ('imputer', KNNImputer(n_neighbors = 7, weights = 'uniform')), #Method to solve missing values\n",
    "    ('scaler', MaxAbsScaler()) #Change scale on data\n",
    "])\n",
    "\n",
    "categorical_pipe = Pipeline([\n",
    "    ('imputer', KNNImputer(n_neighbors = 7, weights = 'uniform')),\n",
    "    ('encoder', OneHotEncoder())  #Extract data to one-hot to each columns\n",
    "])\n",
    "\n",
    "#numerical and cateforical add to preprocessor\n",
    "preprocessor = ColumnTransformer(\n",
    "    transformers=[\n",
    "    ('num', numerical_pipe, NUMERICAL),\n",
    "    ('cat', categorical_pipe, CATEGORICAL)\n",
    "])"
   ]
  },
  {
   "cell_type": "code",
   "execution_count": 63,
   "metadata": {},
   "outputs": [],
   "source": [
    "X_train, X_test, y_train, y_test = train_test_split(input, target, test_size=.25, random_state=SEED, \n",
    "                                    stratify=df_cat[TARGET]) #Dividing data to train and test set"
   ]
  },
  {
   "cell_type": "code",
   "execution_count": 64,
   "metadata": {},
   "outputs": [],
   "source": [
    "target_names = ['bad', 'good']"
   ]
  },
  {
   "cell_type": "markdown",
   "metadata": {},
   "source": [
    "Extreme Gradient Boosting"
   ]
  },
  {
   "cell_type": "code",
   "execution_count": 65,
   "metadata": {},
   "outputs": [
    {
     "data": {
      "text/html": [
       "<style>#sk-container-id-6 {color: black;background-color: white;}#sk-container-id-6 pre{padding: 0;}#sk-container-id-6 div.sk-toggleable {background-color: white;}#sk-container-id-6 label.sk-toggleable__label {cursor: pointer;display: block;width: 100%;margin-bottom: 0;padding: 0.3em;box-sizing: border-box;text-align: center;}#sk-container-id-6 label.sk-toggleable__label-arrow:before {content: \"▸\";float: left;margin-right: 0.25em;color: #696969;}#sk-container-id-6 label.sk-toggleable__label-arrow:hover:before {color: black;}#sk-container-id-6 div.sk-estimator:hover label.sk-toggleable__label-arrow:before {color: black;}#sk-container-id-6 div.sk-toggleable__content {max-height: 0;max-width: 0;overflow: hidden;text-align: left;background-color: #f0f8ff;}#sk-container-id-6 div.sk-toggleable__content pre {margin: 0.2em;color: black;border-radius: 0.25em;background-color: #f0f8ff;}#sk-container-id-6 input.sk-toggleable__control:checked~div.sk-toggleable__content {max-height: 200px;max-width: 100%;overflow: auto;}#sk-container-id-6 input.sk-toggleable__control:checked~label.sk-toggleable__label-arrow:before {content: \"▾\";}#sk-container-id-6 div.sk-estimator input.sk-toggleable__control:checked~label.sk-toggleable__label {background-color: #d4ebff;}#sk-container-id-6 div.sk-label input.sk-toggleable__control:checked~label.sk-toggleable__label {background-color: #d4ebff;}#sk-container-id-6 input.sk-hidden--visually {border: 0;clip: rect(1px 1px 1px 1px);clip: rect(1px, 1px, 1px, 1px);height: 1px;margin: -1px;overflow: hidden;padding: 0;position: absolute;width: 1px;}#sk-container-id-6 div.sk-estimator {font-family: monospace;background-color: #f0f8ff;border: 1px dotted black;border-radius: 0.25em;box-sizing: border-box;margin-bottom: 0.5em;}#sk-container-id-6 div.sk-estimator:hover {background-color: #d4ebff;}#sk-container-id-6 div.sk-parallel-item::after {content: \"\";width: 100%;border-bottom: 1px solid gray;flex-grow: 1;}#sk-container-id-6 div.sk-label:hover label.sk-toggleable__label {background-color: #d4ebff;}#sk-container-id-6 div.sk-serial::before {content: \"\";position: absolute;border-left: 1px solid gray;box-sizing: border-box;top: 0;bottom: 0;left: 50%;z-index: 0;}#sk-container-id-6 div.sk-serial {display: flex;flex-direction: column;align-items: center;background-color: white;padding-right: 0.2em;padding-left: 0.2em;position: relative;}#sk-container-id-6 div.sk-item {position: relative;z-index: 1;}#sk-container-id-6 div.sk-parallel {display: flex;align-items: stretch;justify-content: center;background-color: white;position: relative;}#sk-container-id-6 div.sk-item::before, #sk-container-id-6 div.sk-parallel-item::before {content: \"\";position: absolute;border-left: 1px solid gray;box-sizing: border-box;top: 0;bottom: 0;left: 50%;z-index: -1;}#sk-container-id-6 div.sk-parallel-item {display: flex;flex-direction: column;z-index: 1;position: relative;background-color: white;}#sk-container-id-6 div.sk-parallel-item:first-child::after {align-self: flex-end;width: 50%;}#sk-container-id-6 div.sk-parallel-item:last-child::after {align-self: flex-start;width: 50%;}#sk-container-id-6 div.sk-parallel-item:only-child::after {width: 0;}#sk-container-id-6 div.sk-dashed-wrapped {border: 1px dashed gray;margin: 0 0.4em 0.5em 0.4em;box-sizing: border-box;padding-bottom: 0.4em;background-color: white;}#sk-container-id-6 div.sk-label label {font-family: monospace;font-weight: bold;display: inline-block;line-height: 1.2em;}#sk-container-id-6 div.sk-label-container {text-align: center;}#sk-container-id-6 div.sk-container {/* jupyter's `normalize.less` sets `[hidden] { display: none; }` but bootstrap.min.css set `[hidden] { display: none !important; }` so we also need the `!important` here to be able to override the default hidden behavior on the sphinx rendered scikit-learn.org. See: https://github.com/scikit-learn/scikit-learn/issues/21755 */display: inline-block !important;position: relative;}#sk-container-id-6 div.sk-text-repr-fallback {display: none;}</style><div id=\"sk-container-id-6\" class=\"sk-top-container\"><div class=\"sk-text-repr-fallback\"><pre>Pipeline(steps=[(&#x27;preprocessor&#x27;,\n",
       "                 ColumnTransformer(transformers=[(&#x27;num&#x27;,\n",
       "                                                  Pipeline(steps=[(&#x27;imputer&#x27;,\n",
       "                                                                   KNNImputer(n_neighbors=7)),\n",
       "                                                                  (&#x27;scaler&#x27;,\n",
       "                                                                   MaxAbsScaler())]),\n",
       "                                                  Index([&#x27;Duration in month&#x27;, &#x27;Credit amount&#x27;,\n",
       "       &#x27;Installment rate in percentage of disposable income&#x27;,\n",
       "       &#x27;Present residence since&#x27;, &#x27;Age in years&#x27;,\n",
       "       &#x27;Number of existing credits at this bank&#x27;,\n",
       "       &#x27;Number of people being liable to provide m...\n",
       "                               gamma=0, gpu_id=-1, grow_policy=&#x27;depthwise&#x27;,\n",
       "                               importance_type=None, interaction_constraints=&#x27;&#x27;,\n",
       "                               learning_rate=0.300000012, max_bin=256,\n",
       "                               max_cat_to_onehot=4, max_delta_step=0,\n",
       "                               max_depth=6, max_leaves=0, min_child_weight=1,\n",
       "                               missing=nan, monotone_constraints=&#x27;()&#x27;,\n",
       "                               n_estimators=100, n_jobs=0, num_parallel_tree=1,\n",
       "                               predictor=&#x27;auto&#x27;, random_state=0, reg_alpha=0,\n",
       "                               reg_lambda=1, ...))])</pre><b>In a Jupyter environment, please rerun this cell to show the HTML representation or trust the notebook. <br />On GitHub, the HTML representation is unable to render, please try loading this page with nbviewer.org.</b></div><div class=\"sk-container\" hidden><div class=\"sk-item sk-dashed-wrapped\"><div class=\"sk-label-container\"><div class=\"sk-label sk-toggleable\"><input class=\"sk-toggleable__control sk-hidden--visually\" id=\"sk-estimator-id-46\" type=\"checkbox\" ><label for=\"sk-estimator-id-46\" class=\"sk-toggleable__label sk-toggleable__label-arrow\">Pipeline</label><div class=\"sk-toggleable__content\"><pre>Pipeline(steps=[(&#x27;preprocessor&#x27;,\n",
       "                 ColumnTransformer(transformers=[(&#x27;num&#x27;,\n",
       "                                                  Pipeline(steps=[(&#x27;imputer&#x27;,\n",
       "                                                                   KNNImputer(n_neighbors=7)),\n",
       "                                                                  (&#x27;scaler&#x27;,\n",
       "                                                                   MaxAbsScaler())]),\n",
       "                                                  Index([&#x27;Duration in month&#x27;, &#x27;Credit amount&#x27;,\n",
       "       &#x27;Installment rate in percentage of disposable income&#x27;,\n",
       "       &#x27;Present residence since&#x27;, &#x27;Age in years&#x27;,\n",
       "       &#x27;Number of existing credits at this bank&#x27;,\n",
       "       &#x27;Number of people being liable to provide m...\n",
       "                               gamma=0, gpu_id=-1, grow_policy=&#x27;depthwise&#x27;,\n",
       "                               importance_type=None, interaction_constraints=&#x27;&#x27;,\n",
       "                               learning_rate=0.300000012, max_bin=256,\n",
       "                               max_cat_to_onehot=4, max_delta_step=0,\n",
       "                               max_depth=6, max_leaves=0, min_child_weight=1,\n",
       "                               missing=nan, monotone_constraints=&#x27;()&#x27;,\n",
       "                               n_estimators=100, n_jobs=0, num_parallel_tree=1,\n",
       "                               predictor=&#x27;auto&#x27;, random_state=0, reg_alpha=0,\n",
       "                               reg_lambda=1, ...))])</pre></div></div></div><div class=\"sk-serial\"><div class=\"sk-item sk-dashed-wrapped\"><div class=\"sk-label-container\"><div class=\"sk-label sk-toggleable\"><input class=\"sk-toggleable__control sk-hidden--visually\" id=\"sk-estimator-id-47\" type=\"checkbox\" ><label for=\"sk-estimator-id-47\" class=\"sk-toggleable__label sk-toggleable__label-arrow\">preprocessor: ColumnTransformer</label><div class=\"sk-toggleable__content\"><pre>ColumnTransformer(transformers=[(&#x27;num&#x27;,\n",
       "                                 Pipeline(steps=[(&#x27;imputer&#x27;,\n",
       "                                                  KNNImputer(n_neighbors=7)),\n",
       "                                                 (&#x27;scaler&#x27;, MaxAbsScaler())]),\n",
       "                                 Index([&#x27;Duration in month&#x27;, &#x27;Credit amount&#x27;,\n",
       "       &#x27;Installment rate in percentage of disposable income&#x27;,\n",
       "       &#x27;Present residence since&#x27;, &#x27;Age in years&#x27;,\n",
       "       &#x27;Number of existing credits at this bank&#x27;,\n",
       "       &#x27;Number of people being liable to provide maintenance for&#x27;],\n",
       "      dtype=&#x27;object&#x27;)),\n",
       "                                (&#x27;cat&#x27;,\n",
       "                                 Pipeline(steps=[(&#x27;imputer&#x27;,\n",
       "                                                  KNNImputer(n_neighbors=7)),\n",
       "                                                 (&#x27;encoder&#x27;, OneHotEncoder())]),\n",
       "                                 Index([&#x27;Credit history&#x27;, &#x27;Housing&#x27;, &#x27;Job&#x27;, &#x27;Other debtors / guarantors&#x27;,\n",
       "       &#x27;Other installment plans&#x27;, &#x27;Personal status and sex&#x27;,\n",
       "       &#x27;Present employment since&#x27;, &#x27;Property&#x27;, &#x27;Purpose&#x27;,\n",
       "       &#x27;Savings account/bonds&#x27;, &#x27;Status of existing checking account&#x27;,\n",
       "       &#x27;Telephone&#x27;, &#x27;foreign worker&#x27;],\n",
       "      dtype=&#x27;object&#x27;))])</pre></div></div></div><div class=\"sk-parallel\"><div class=\"sk-parallel-item\"><div class=\"sk-item\"><div class=\"sk-label-container\"><div class=\"sk-label sk-toggleable\"><input class=\"sk-toggleable__control sk-hidden--visually\" id=\"sk-estimator-id-48\" type=\"checkbox\" ><label for=\"sk-estimator-id-48\" class=\"sk-toggleable__label sk-toggleable__label-arrow\">num</label><div class=\"sk-toggleable__content\"><pre>Index([&#x27;Duration in month&#x27;, &#x27;Credit amount&#x27;,\n",
       "       &#x27;Installment rate in percentage of disposable income&#x27;,\n",
       "       &#x27;Present residence since&#x27;, &#x27;Age in years&#x27;,\n",
       "       &#x27;Number of existing credits at this bank&#x27;,\n",
       "       &#x27;Number of people being liable to provide maintenance for&#x27;],\n",
       "      dtype=&#x27;object&#x27;)</pre></div></div></div><div class=\"sk-serial\"><div class=\"sk-item\"><div class=\"sk-serial\"><div class=\"sk-item\"><div class=\"sk-estimator sk-toggleable\"><input class=\"sk-toggleable__control sk-hidden--visually\" id=\"sk-estimator-id-49\" type=\"checkbox\" ><label for=\"sk-estimator-id-49\" class=\"sk-toggleable__label sk-toggleable__label-arrow\">KNNImputer</label><div class=\"sk-toggleable__content\"><pre>KNNImputer(n_neighbors=7)</pre></div></div></div><div class=\"sk-item\"><div class=\"sk-estimator sk-toggleable\"><input class=\"sk-toggleable__control sk-hidden--visually\" id=\"sk-estimator-id-50\" type=\"checkbox\" ><label for=\"sk-estimator-id-50\" class=\"sk-toggleable__label sk-toggleable__label-arrow\">MaxAbsScaler</label><div class=\"sk-toggleable__content\"><pre>MaxAbsScaler()</pre></div></div></div></div></div></div></div></div><div class=\"sk-parallel-item\"><div class=\"sk-item\"><div class=\"sk-label-container\"><div class=\"sk-label sk-toggleable\"><input class=\"sk-toggleable__control sk-hidden--visually\" id=\"sk-estimator-id-51\" type=\"checkbox\" ><label for=\"sk-estimator-id-51\" class=\"sk-toggleable__label sk-toggleable__label-arrow\">cat</label><div class=\"sk-toggleable__content\"><pre>Index([&#x27;Credit history&#x27;, &#x27;Housing&#x27;, &#x27;Job&#x27;, &#x27;Other debtors / guarantors&#x27;,\n",
       "       &#x27;Other installment plans&#x27;, &#x27;Personal status and sex&#x27;,\n",
       "       &#x27;Present employment since&#x27;, &#x27;Property&#x27;, &#x27;Purpose&#x27;,\n",
       "       &#x27;Savings account/bonds&#x27;, &#x27;Status of existing checking account&#x27;,\n",
       "       &#x27;Telephone&#x27;, &#x27;foreign worker&#x27;],\n",
       "      dtype=&#x27;object&#x27;)</pre></div></div></div><div class=\"sk-serial\"><div class=\"sk-item\"><div class=\"sk-serial\"><div class=\"sk-item\"><div class=\"sk-estimator sk-toggleable\"><input class=\"sk-toggleable__control sk-hidden--visually\" id=\"sk-estimator-id-52\" type=\"checkbox\" ><label for=\"sk-estimator-id-52\" class=\"sk-toggleable__label sk-toggleable__label-arrow\">KNNImputer</label><div class=\"sk-toggleable__content\"><pre>KNNImputer(n_neighbors=7)</pre></div></div></div><div class=\"sk-item\"><div class=\"sk-estimator sk-toggleable\"><input class=\"sk-toggleable__control sk-hidden--visually\" id=\"sk-estimator-id-53\" type=\"checkbox\" ><label for=\"sk-estimator-id-53\" class=\"sk-toggleable__label sk-toggleable__label-arrow\">OneHotEncoder</label><div class=\"sk-toggleable__content\"><pre>OneHotEncoder()</pre></div></div></div></div></div></div></div></div></div></div><div class=\"sk-item\"><div class=\"sk-estimator sk-toggleable\"><input class=\"sk-toggleable__control sk-hidden--visually\" id=\"sk-estimator-id-54\" type=\"checkbox\" ><label for=\"sk-estimator-id-54\" class=\"sk-toggleable__label sk-toggleable__label-arrow\">XGBClassifier</label><div class=\"sk-toggleable__content\"><pre>XGBClassifier(base_score=0.5, booster=&#x27;gbtree&#x27;, callbacks=None,\n",
       "              colsample_bylevel=1, colsample_bynode=1, colsample_bytree=1,\n",
       "              early_stopping_rounds=None, enable_categorical=False,\n",
       "              eval_metric=None, gamma=0, gpu_id=-1, grow_policy=&#x27;depthwise&#x27;,\n",
       "              importance_type=None, interaction_constraints=&#x27;&#x27;,\n",
       "              learning_rate=0.300000012, max_bin=256, max_cat_to_onehot=4,\n",
       "              max_delta_step=0, max_depth=6, max_leaves=0, min_child_weight=1,\n",
       "              missing=nan, monotone_constraints=&#x27;()&#x27;, n_estimators=100,\n",
       "              n_jobs=0, num_parallel_tree=1, predictor=&#x27;auto&#x27;, random_state=0,\n",
       "              reg_alpha=0, reg_lambda=1, ...)</pre></div></div></div></div></div></div></div>"
      ],
      "text/plain": [
       "Pipeline(steps=[('preprocessor',\n",
       "                 ColumnTransformer(transformers=[('num',\n",
       "                                                  Pipeline(steps=[('imputer',\n",
       "                                                                   KNNImputer(n_neighbors=7)),\n",
       "                                                                  ('scaler',\n",
       "                                                                   MaxAbsScaler())]),\n",
       "                                                  Index(['Duration in month', 'Credit amount',\n",
       "       'Installment rate in percentage of disposable income',\n",
       "       'Present residence since', 'Age in years',\n",
       "       'Number of existing credits at this bank',\n",
       "       'Number of people being liable to provide m...\n",
       "                               gamma=0, gpu_id=-1, grow_policy='depthwise',\n",
       "                               importance_type=None, interaction_constraints='',\n",
       "                               learning_rate=0.300000012, max_bin=256,\n",
       "                               max_cat_to_onehot=4, max_delta_step=0,\n",
       "                               max_depth=6, max_leaves=0, min_child_weight=1,\n",
       "                               missing=nan, monotone_constraints='()',\n",
       "                               n_estimators=100, n_jobs=0, num_parallel_tree=1,\n",
       "                               predictor='auto', random_state=0, reg_alpha=0,\n",
       "                               reg_lambda=1, ...))])"
      ]
     },
     "execution_count": 65,
     "metadata": {},
     "output_type": "execute_result"
    }
   ],
   "source": [
    "#Create Pipline of model\n",
    "XGB_pipeline = Pipeline([\n",
    "    ('preprocessor', preprocessor),\n",
    "    ('model', XGBClassifier())\n",
    "])\n",
    "\n",
    "#Train model\n",
    "XGB_pipeline.fit(X_train, y_train)"
   ]
  },
  {
   "cell_type": "code",
   "execution_count": 66,
   "metadata": {},
   "outputs": [
    {
     "name": "stdout",
     "output_type": "stream",
     "text": [
      "accuracy:  0.792\n",
      "f1_score:  0.7773850377487989\n"
     ]
    }
   ],
   "source": [
    "#Predictation of model to test dataset and measure\n",
    "y_pred = XGB_pipeline.predict(X_test)\n",
    "accuracy = XGB_pipeline.score(X_test, y_test)\n",
    "\n",
    "print(\"accuracy: \",accuracy)\n",
    "print(\"f1_score: \",f1_score(y_test, y_pred, average=\"weighted\"))"
   ]
  },
  {
   "cell_type": "code",
   "execution_count": 67,
   "metadata": {},
   "outputs": [
    {
     "name": "stdout",
     "output_type": "stream",
     "text": [
      "              precision    recall  f1-score   support\n",
      "\n",
      "         bad       0.73      0.48      0.58        75\n",
      "        good       0.81      0.93      0.86       175\n",
      "\n",
      "    accuracy                           0.79       250\n",
      "   macro avg       0.77      0.70      0.72       250\n",
      "weighted avg       0.78      0.79      0.78       250\n",
      "\n"
     ]
    }
   ],
   "source": [
    "#Check confusiong matrix\n",
    "print(classification_report(y_test, y_pred, target_names=target_names))"
   ]
  },
  {
   "cell_type": "code",
   "execution_count": 68,
   "metadata": {},
   "outputs": [
    {
     "data": {
      "image/png": "[encoded data removed]",
      "text/plain": [
       "<Figure size 432x288 with 2 Axes>"
      ]
     },
     "metadata": {
      "needs_background": "light"
     },
     "output_type": "display_data"
    },
    {
     "name": "stdout",
     "output_type": "stream",
     "text": [
      "Total test data ->  250\n"
     ]
    }
   ],
   "source": [
    "#Visualization confusion matrix\n",
    "disp = ConfusionMatrixDisplay(confusion_matrix=confusion_matrix(y_test, y_pred), display_labels=target_names)\n",
    "disp = disp.plot()\n",
    "plt.show()\n",
    "print(\"Total test data -> \", X_test.shape[0])"
   ]
  }
 ],
 "metadata": {
  "kernelspec": {
   "display_name": "soft_dev",
   "language": "python",
   "name": "soft_dev"
  },
  "language_info": {
   "codemirror_mode": {
    "name": "ipython",
    "version": 3
   },
   "file_extension": ".py",
   "mimetype": "text/x-python",
   "name": "python",
   "nbconvert_exporter": "python",
   "pygments_lexer": "ipython3",
   "version": "3.9.5"
  },
  "orig_nbformat": 4,
  "vscode": {
   "interpreter": {
    "hash": "36d6d4d0b7e4fd7889a3b12873a4e2768d1de40a9ec1741a1684a8e9d8b73569"
   }
  }
 },
 "nbformat": 4,
 "nbformat_minor": 2
}
