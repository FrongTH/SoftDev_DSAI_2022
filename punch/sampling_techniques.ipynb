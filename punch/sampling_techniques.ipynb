{
 "cells": [
  {
   "cell_type": "code",
   "execution_count": 33,
   "metadata": {},
   "outputs": [],
   "source": [
    "import joblib\n",
    "import pandas as pd\n",
    "import numpy as np\n",
    "\n",
    "from sklearn.metrics import confusion_matrix, f1_score, ConfusionMatrixDisplay, classification_report\n",
    "from sklearn.model_selection import train_test_split\n",
    "from sklearn.impute import SimpleImputer\n",
    "from sklearn.preprocessing import OneHotEncoder, MinMaxScaler\n",
    "from sklearn.compose import ColumnTransformer\n",
    "from sklearn.pipeline import Pipeline\n",
    "from sklearn.linear_model import LogisticRegression\n",
    "\n",
    "# models\n",
    "from sklearn.ensemble import ExtraTreesClassifier, RandomForestClassifier\n",
    "from sklearn.svm import LinearSVC\n",
    "\n",
    "# counter \n",
    "from collections import Counter\n",
    "\n",
    "# time \n",
    "import time\n"
   ]
  },
  {
   "cell_type": "code",
   "execution_count": 34,
   "metadata": {},
   "outputs": [],
   "source": [
    "def object_to_cat(df):\n",
    "    tmp = df.copy()\n",
    "    for col in tmp.columns:\n",
    "        if np.dtype(tmp[col]) == \"object\":\n",
    "            tmp[col] = tmp[col].astype(\"category\")\n",
    "    return tmp\n",
    "\n",
    "df = pd.read_csv(\"dataset/german_clean.csv\")\n",
    "df = object_to_cat(df)\n"
   ]
  },
  {
   "cell_type": "code",
   "execution_count": 35,
   "metadata": {},
   "outputs": [],
   "source": [
    "SEED = 42\n",
    "TARGET = 'class'\n",
    "FEATURES = df.columns.drop(TARGET)\n",
    "\n",
    "NUMERICAL = df[FEATURES].select_dtypes('number').columns\n",
    "CATEGORICAL = pd.Index(np.setdiff1d(FEATURES, NUMERICAL))\n",
    "\n",
    "X = df.drop(columns=TARGET)\n",
    "y = df[TARGET]\n"
   ]
  },
  {
   "cell_type": "code",
   "execution_count": 36,
   "metadata": {},
   "outputs": [
    {
     "name": "stdout",
     "output_type": "stream",
     "text": [
      "original dataset class distribution: [(0, 297), (1, 698)]\n"
     ]
    }
   ],
   "source": [
    "print('original dataset class distribution:', sorted(Counter(y).items()))"
   ]
  },
  {
   "cell_type": "markdown",
   "metadata": {},
   "source": [
    "#### Pipeline"
   ]
  },
  {
   "cell_type": "code",
   "execution_count": 37,
   "metadata": {},
   "outputs": [],
   "source": [
    "# result lists\n",
    "# indexs = 0:over, 1:under, 2:normal \n",
    "classifiers = [\"linearSVC\", \"Randomforest\"]\n",
    "cls_acc = []\n",
    "trainin_time = []\n",
    "cls_prec = []\n",
    "cls_recall = []\n",
    "cls_f1 = []"
   ]
  },
  {
   "cell_type": "code",
   "execution_count": 38,
   "metadata": {},
   "outputs": [],
   "source": [
    "numerical_pipe = Pipeline([\n",
    "    ('imputer', SimpleImputer(strategy='mean')),\n",
    "    ('scaler', MinMaxScaler())\n",
    "])\n",
    "\n",
    "categorical_pipe = Pipeline([\n",
    "    ('imputer', SimpleImputer(strategy='constant', fill_value='missing')),\n",
    "    ('encoder', OneHotEncoder())\n",
    "])\n",
    "\n",
    "preprocessor = ColumnTransformer(\n",
    "    transformers=[\n",
    "        ('num', numerical_pipe, NUMERICAL),\n",
    "        ('cat', categorical_pipe, CATEGORICAL)\n",
    "    ])"
   ]
  },
  {
   "cell_type": "markdown",
   "metadata": {},
   "source": [
    "Hold out the testing set"
   ]
  },
  {
   "cell_type": "code",
   "execution_count": 39,
   "metadata": {},
   "outputs": [],
   "source": [
    "# Split train-test data\n",
    "X_train, X_test, y_train, y_test = train_test_split(X, y, test_size=.2, random_state=SEED,\n",
    "                                                    stratify=df[TARGET])\n"
   ]
  },
  {
   "cell_type": "code",
   "execution_count": 40,
   "metadata": {},
   "outputs": [
    {
     "name": "stdout",
     "output_type": "stream",
     "text": [
      "train size:  (796, 20) (796,)\n",
      "test size:  (199, 20) (199,)\n",
      "normal class distribution: [(0, 238), (1, 558)]\n"
     ]
    }
   ],
   "source": [
    "print(\"train size: \",X_train.shape, y_train.shape)\n",
    "print(\"test size: \",X_test.shape, y_test.shape)\n",
    "print('normal class distribution:', sorted(Counter(y_train).items()))"
   ]
  },
  {
   "cell_type": "markdown",
   "metadata": {},
   "source": [
    "### Over-sampling"
   ]
  },
  {
   "cell_type": "code",
   "execution_count": 41,
   "metadata": {},
   "outputs": [
    {
     "name": "stdout",
     "output_type": "stream",
     "text": [
      "over sampled class distribution: [(0, 558), (1, 558)]\n"
     ]
    }
   ],
   "source": [
    "# oversampling usign random oversampling technique \n",
    "from imblearn.over_sampling import RandomOverSampler\n",
    "\n",
    "ros = RandomOverSampler(random_state=SEED)\n",
    "X_oversampled, y_oversampled = ros.fit_resample(X_train, y_train)\n",
    "\n",
    "print('over sampled class distribution:',sorted(Counter(y_oversampled).items()))\n"
   ]
  },
  {
   "cell_type": "code",
   "execution_count": 42,
   "metadata": {},
   "outputs": [],
   "source": [
    "# SVC \n",
    "over_sampled_SVC = Pipeline([\n",
    "    ('preprocessor', preprocessor),\n",
    "    ('model', LinearSVC())\n",
    "])\n",
    "\n",
    "start = time.time()\n",
    "\n",
    "over_sampled_SVC.fit(X_oversampled, y_oversampled)\n",
    "\n",
    "end = time.time()\n",
    "svc_exec_time = end - start\n",
    "\n",
    "# RF\n",
    "over_sampled_RF = Pipeline([\n",
    "    ('preprocessor', preprocessor),\n",
    "    ('model', RandomForestClassifier())\n",
    "])\n",
    "\n",
    "start = time.time()\n",
    "\n",
    "over_sampled_RF.fit(X_oversampled, y_oversampled)\n",
    "\n",
    "end = time.time()\n",
    "rf_exec_time = end - start\n",
    "\n",
    "trainin_time.append((svc_exec_time, rf_exec_time))\n",
    "\n",
    "filename = 'models/over_svc.pkl'\n",
    "joblib.dump(over_sampled_SVC, open(filename, 'wb'))\n",
    "filename = 'models/over_rf.pkl'\n",
    "joblib.dump(over_sampled_RF, open(filename, 'wb'))\n"
   ]
  },
  {
   "cell_type": "markdown",
   "metadata": {},
   "source": [
    "### Under-sampling"
   ]
  },
  {
   "cell_type": "code",
   "execution_count": 43,
   "metadata": {},
   "outputs": [
    {
     "name": "stdout",
     "output_type": "stream",
     "text": [
      "over sampled class distribution: [(0, 238), (1, 238)]\n"
     ]
    }
   ],
   "source": [
    "# under-sampling using random undersampling technique \n",
    "from imblearn.under_sampling import RandomUnderSampler\n",
    "\n",
    "rus = RandomUnderSampler(random_state=SEED)\n",
    "X_undersampled, y_undersampled = rus.fit_resample(X_train, y_train)\n",
    "\n",
    "print('over sampled class distribution:',sorted(Counter(y_undersampled).items()))\n"
   ]
  },
  {
   "cell_type": "code",
   "execution_count": 44,
   "metadata": {},
   "outputs": [],
   "source": [
    "# SVC\n",
    "under_sampled_SVC = Pipeline([\n",
    "    ('preprocessor', preprocessor),\n",
    "    ('model', LinearSVC())\n",
    "])\n",
    "\n",
    "start = time.time()\n",
    "\n",
    "under_sampled_SVC.fit(X_undersampled, y_undersampled)\n",
    "\n",
    "end = time.time()\n",
    "svc_exec_time = end - start\n",
    "\n",
    "# RF\n",
    "under_sampled_RF = Pipeline([\n",
    "    ('preprocessor', preprocessor),\n",
    "    ('model', RandomForestClassifier())\n",
    "])\n",
    "\n",
    "start = time.time()\n",
    "\n",
    "under_sampled_RF.fit(X_undersampled, y_undersampled)\n",
    "\n",
    "end = time.time()\n",
    "rf_exec_time = end - start\n",
    "\n",
    "trainin_time.append((svc_exec_time, rf_exec_time))\n",
    "\n",
    "filename = 'models/under_svc.pkl'\n",
    "joblib.dump(under_sampled_SVC, open(filename, 'wb'))\n",
    "filename = 'models/under_rf.pkl'\n",
    "joblib.dump(under_sampled_RF, open(filename, 'wb'))\n"
   ]
  },
  {
   "cell_type": "markdown",
   "metadata": {},
   "source": [
    "### Normal dataset"
   ]
  },
  {
   "cell_type": "code",
   "execution_count": 45,
   "metadata": {},
   "outputs": [],
   "source": [
    "# SVC\n",
    "normal_SVC = Pipeline([\n",
    "    ('preprocessor', preprocessor),\n",
    "    ('model', LinearSVC())\n",
    "])\n",
    "\n",
    "start = time.time()\n",
    "\n",
    "normal_SVC.fit(X_train, y_train)\n",
    "\n",
    "end = time.time()\n",
    "svc_exec_time = end - start\n",
    "\n",
    "# RF\n",
    "normal_RF = Pipeline([\n",
    "    ('preprocessor', preprocessor),\n",
    "    ('model', RandomForestClassifier())\n",
    "])\n",
    "\n",
    "start = time.time()\n",
    "\n",
    "normal_RF.fit(X_train, y_train)\n",
    "\n",
    "end = time.time()\n",
    "rf_exec_time = end - start\n",
    "\n",
    "trainin_time.append((svc_exec_time, rf_exec_time))\n",
    "\n",
    "filename = 'models/normal_svc.pkl'\n",
    "joblib.dump(normal_SVC, open(filename, 'wb'))\n",
    "filename = 'models/normal_rf.pkl'\n",
    "joblib.dump(normal_RF, open(filename, 'wb'))"
   ]
  },
  {
   "cell_type": "markdown",
   "metadata": {},
   "source": [
    "### Evaluation"
   ]
  },
  {
   "cell_type": "markdown",
   "metadata": {},
   "source": [
    "Accuracy"
   ]
  },
  {
   "cell_type": "code",
   "execution_count": null,
   "metadata": {},
   "outputs": [],
   "source": []
  }
 ],
 "metadata": {
  "kernelspec": {
   "display_name": "Python 3.9.7 ('base')",
   "language": "python",
   "name": "python3"
  },
  "language_info": {
   "codemirror_mode": {
    "name": "ipython",
    "version": 3
   },
   "file_extension": ".py",
   "mimetype": "text/x-python",
   "name": "python",
   "nbconvert_exporter": "python",
   "pygments_lexer": "ipython3",
   "version": "3.9.7"
  },
  "orig_nbformat": 4,
  "vscode": {
   "interpreter": {
    "hash": "d45d2df7a2dbc75d28d472319d9a14fda6edd2a44d03a120cd1876820c91c50f"
   }
  }
 },
 "nbformat": 4,
 "nbformat_minor": 2
}
