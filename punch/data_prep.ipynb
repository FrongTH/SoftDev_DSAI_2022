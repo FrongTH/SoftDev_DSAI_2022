{
 "cells": [
  {
   "cell_type": "code",
   "execution_count": 127,
   "metadata": {},
   "outputs": [],
   "source": [
    "import pandas as pd \n",
    "import numpy as np\n",
    "import seaborn as sns\n",
    "import matplotlib.pyplot as plt\n",
    "%matplotlib inline"
   ]
  },
  {
   "cell_type": "code",
   "execution_count": 118,
   "metadata": {},
   "outputs": [],
   "source": [
    "headers = [\"status\", \"duration\", \"credit_history\", \"purpose\", \"credit_amount\", \"savings_account\", \"present_employment\", \"installment_rate\",\"personal_status_sex\", \"guarantors\", \"residence\", \"property\", \"age\", \"installment_plan\", \"housing\", \"existing_credits\", \"job\", \"liables\", \"telephone\", \"foreign\", \"class\"]"
   ]
  },
  {
   "cell_type": "code",
   "execution_count": 119,
   "metadata": {},
   "outputs": [
    {
     "data": {
      "text/plain": [
       "(1000, 21)"
      ]
     },
     "execution_count": 119,
     "metadata": {},
     "output_type": "execute_result"
    }
   ],
   "source": [
    "df = pd.read_csv(\"/Users/Peeradon/Desktop/SoftDev_DSAI/SC348810-Software-Development-and-Project-Management-for-Data-Science-and-Artificial-Intelligence/punch/dataset/german.csv\",sep=' ', names=headers)\n",
    "df.shape"
   ]
  },
  {
   "cell_type": "code",
   "execution_count": 120,
   "metadata": {},
   "outputs": [
    {
     "data": {
      "text/html": [
       "<div>\n",
       "<style scoped>\n",
       "    .dataframe tbody tr th:only-of-type {\n",
       "        vertical-align: middle;\n",
       "    }\n",
       "\n",
       "    .dataframe tbody tr th {\n",
       "        vertical-align: top;\n",
       "    }\n",
       "\n",
       "    .dataframe thead th {\n",
       "        text-align: right;\n",
       "    }\n",
       "</style>\n",
       "<table border=\"1\" class=\"dataframe\">\n",
       "  <thead>\n",
       "    <tr style=\"text-align: right;\">\n",
       "      <th></th>\n",
       "      <th>status</th>\n",
       "      <th>duration</th>\n",
       "      <th>credit_history</th>\n",
       "      <th>purpose</th>\n",
       "      <th>credit_amount</th>\n",
       "      <th>savings_account</th>\n",
       "      <th>present_employment</th>\n",
       "      <th>installment_rate</th>\n",
       "      <th>personal_status_sex</th>\n",
       "      <th>guarantors</th>\n",
       "      <th>...</th>\n",
       "      <th>property</th>\n",
       "      <th>age</th>\n",
       "      <th>installment_plan</th>\n",
       "      <th>housing</th>\n",
       "      <th>existing_credits</th>\n",
       "      <th>job</th>\n",
       "      <th>liables</th>\n",
       "      <th>telephone</th>\n",
       "      <th>foreign</th>\n",
       "      <th>class</th>\n",
       "    </tr>\n",
       "  </thead>\n",
       "  <tbody>\n",
       "    <tr>\n",
       "      <th>0</th>\n",
       "      <td>A11</td>\n",
       "      <td>6</td>\n",
       "      <td>A34</td>\n",
       "      <td>A43</td>\n",
       "      <td>1169</td>\n",
       "      <td>A65</td>\n",
       "      <td>A75</td>\n",
       "      <td>4</td>\n",
       "      <td>A93</td>\n",
       "      <td>A101</td>\n",
       "      <td>...</td>\n",
       "      <td>A121</td>\n",
       "      <td>67</td>\n",
       "      <td>A143</td>\n",
       "      <td>A152</td>\n",
       "      <td>2</td>\n",
       "      <td>A173</td>\n",
       "      <td>1</td>\n",
       "      <td>A192</td>\n",
       "      <td>A201</td>\n",
       "      <td>1</td>\n",
       "    </tr>\n",
       "    <tr>\n",
       "      <th>1</th>\n",
       "      <td>A12</td>\n",
       "      <td>48</td>\n",
       "      <td>A32</td>\n",
       "      <td>A43</td>\n",
       "      <td>5951</td>\n",
       "      <td>A61</td>\n",
       "      <td>A73</td>\n",
       "      <td>2</td>\n",
       "      <td>A92</td>\n",
       "      <td>A101</td>\n",
       "      <td>...</td>\n",
       "      <td>A121</td>\n",
       "      <td>22</td>\n",
       "      <td>A143</td>\n",
       "      <td>A152</td>\n",
       "      <td>1</td>\n",
       "      <td>A173</td>\n",
       "      <td>1</td>\n",
       "      <td>A191</td>\n",
       "      <td>A201</td>\n",
       "      <td>2</td>\n",
       "    </tr>\n",
       "    <tr>\n",
       "      <th>2</th>\n",
       "      <td>A14</td>\n",
       "      <td>12</td>\n",
       "      <td>A34</td>\n",
       "      <td>A46</td>\n",
       "      <td>2096</td>\n",
       "      <td>A61</td>\n",
       "      <td>A74</td>\n",
       "      <td>2</td>\n",
       "      <td>A93</td>\n",
       "      <td>A101</td>\n",
       "      <td>...</td>\n",
       "      <td>A121</td>\n",
       "      <td>49</td>\n",
       "      <td>A143</td>\n",
       "      <td>A152</td>\n",
       "      <td>1</td>\n",
       "      <td>A172</td>\n",
       "      <td>2</td>\n",
       "      <td>A191</td>\n",
       "      <td>A201</td>\n",
       "      <td>1</td>\n",
       "    </tr>\n",
       "    <tr>\n",
       "      <th>3</th>\n",
       "      <td>A11</td>\n",
       "      <td>42</td>\n",
       "      <td>A32</td>\n",
       "      <td>A42</td>\n",
       "      <td>7882</td>\n",
       "      <td>A61</td>\n",
       "      <td>A74</td>\n",
       "      <td>2</td>\n",
       "      <td>A93</td>\n",
       "      <td>A103</td>\n",
       "      <td>...</td>\n",
       "      <td>A122</td>\n",
       "      <td>45</td>\n",
       "      <td>A143</td>\n",
       "      <td>A153</td>\n",
       "      <td>1</td>\n",
       "      <td>A173</td>\n",
       "      <td>2</td>\n",
       "      <td>A191</td>\n",
       "      <td>A201</td>\n",
       "      <td>1</td>\n",
       "    </tr>\n",
       "    <tr>\n",
       "      <th>4</th>\n",
       "      <td>A11</td>\n",
       "      <td>24</td>\n",
       "      <td>A33</td>\n",
       "      <td>A40</td>\n",
       "      <td>4870</td>\n",
       "      <td>A61</td>\n",
       "      <td>A73</td>\n",
       "      <td>3</td>\n",
       "      <td>A93</td>\n",
       "      <td>A101</td>\n",
       "      <td>...</td>\n",
       "      <td>A124</td>\n",
       "      <td>53</td>\n",
       "      <td>A143</td>\n",
       "      <td>A153</td>\n",
       "      <td>2</td>\n",
       "      <td>A173</td>\n",
       "      <td>2</td>\n",
       "      <td>A191</td>\n",
       "      <td>A201</td>\n",
       "      <td>2</td>\n",
       "    </tr>\n",
       "  </tbody>\n",
       "</table>\n",
       "<p>5 rows × 21 columns</p>\n",
       "</div>"
      ],
      "text/plain": [
       "  status  duration credit_history purpose  credit_amount savings_account  \\\n",
       "0    A11         6            A34     A43           1169             A65   \n",
       "1    A12        48            A32     A43           5951             A61   \n",
       "2    A14        12            A34     A46           2096             A61   \n",
       "3    A11        42            A32     A42           7882             A61   \n",
       "4    A11        24            A33     A40           4870             A61   \n",
       "\n",
       "  present_employment  installment_rate personal_status_sex guarantors  ...  \\\n",
       "0                A75                 4                 A93       A101  ...   \n",
       "1                A73                 2                 A92       A101  ...   \n",
       "2                A74                 2                 A93       A101  ...   \n",
       "3                A74                 2                 A93       A103  ...   \n",
       "4                A73                 3                 A93       A101  ...   \n",
       "\n",
       "   property age  installment_plan housing existing_credits   job liables  \\\n",
       "0      A121  67              A143    A152                2  A173       1   \n",
       "1      A121  22              A143    A152                1  A173       1   \n",
       "2      A121  49              A143    A152                1  A172       2   \n",
       "3      A122  45              A143    A153                1  A173       2   \n",
       "4      A124  53              A143    A153                2  A173       2   \n",
       "\n",
       "   telephone foreign class  \n",
       "0       A192    A201     1  \n",
       "1       A191    A201     2  \n",
       "2       A191    A201     1  \n",
       "3       A191    A201     1  \n",
       "4       A191    A201     2  \n",
       "\n",
       "[5 rows x 21 columns]"
      ]
     },
     "execution_count": 120,
     "metadata": {},
     "output_type": "execute_result"
    }
   ],
   "source": [
    "df.head()"
   ]
  },
  {
   "cell_type": "code",
   "execution_count": 121,
   "metadata": {},
   "outputs": [
    {
     "name": "stdout",
     "output_type": "stream",
     "text": [
      "<class 'pandas.core.frame.DataFrame'>\n",
      "RangeIndex: 1000 entries, 0 to 999\n",
      "Data columns (total 21 columns):\n",
      " #   Column               Non-Null Count  Dtype \n",
      "---  ------               --------------  ----- \n",
      " 0   status               1000 non-null   object\n",
      " 1   duration             1000 non-null   int64 \n",
      " 2   credit_history       1000 non-null   object\n",
      " 3   purpose              1000 non-null   object\n",
      " 4   credit_amount        1000 non-null   int64 \n",
      " 5   savings_account      1000 non-null   object\n",
      " 6   present_employment   1000 non-null   object\n",
      " 7   installment_rate     1000 non-null   int64 \n",
      " 8   personal_status_sex  1000 non-null   object\n",
      " 9   guarantors           1000 non-null   object\n",
      " 10  residence            1000 non-null   int64 \n",
      " 11  property             1000 non-null   object\n",
      " 12  age                  1000 non-null   int64 \n",
      " 13  installment_plan     1000 non-null   object\n",
      " 14  housing              1000 non-null   object\n",
      " 15  existing_credits     1000 non-null   int64 \n",
      " 16  job                  1000 non-null   object\n",
      " 17  liables              1000 non-null   int64 \n",
      " 18  telephone            1000 non-null   object\n",
      " 19  foreign              1000 non-null   object\n",
      " 20  class                1000 non-null   int64 \n",
      "dtypes: int64(8), object(13)\n",
      "memory usage: 164.2+ KB\n"
     ]
    }
   ],
   "source": [
    "# check info\n",
    "df.info()"
   ]
  },
  {
   "cell_type": "code",
   "execution_count": 122,
   "metadata": {},
   "outputs": [
    {
     "data": {
      "text/html": [
       "<div>\n",
       "<style scoped>\n",
       "    .dataframe tbody tr th:only-of-type {\n",
       "        vertical-align: middle;\n",
       "    }\n",
       "\n",
       "    .dataframe tbody tr th {\n",
       "        vertical-align: top;\n",
       "    }\n",
       "\n",
       "    .dataframe thead th {\n",
       "        text-align: right;\n",
       "    }\n",
       "</style>\n",
       "<table border=\"1\" class=\"dataframe\">\n",
       "  <thead>\n",
       "    <tr style=\"text-align: right;\">\n",
       "      <th></th>\n",
       "      <th>Column_Name</th>\n",
       "      <th>Num_Unique</th>\n",
       "    </tr>\n",
       "  </thead>\n",
       "  <tbody>\n",
       "    <tr>\n",
       "      <th>0</th>\n",
       "      <td>status</td>\n",
       "      <td>4</td>\n",
       "    </tr>\n",
       "    <tr>\n",
       "      <th>1</th>\n",
       "      <td>duration</td>\n",
       "      <td>33</td>\n",
       "    </tr>\n",
       "    <tr>\n",
       "      <th>2</th>\n",
       "      <td>credit_history</td>\n",
       "      <td>5</td>\n",
       "    </tr>\n",
       "    <tr>\n",
       "      <th>3</th>\n",
       "      <td>purpose</td>\n",
       "      <td>10</td>\n",
       "    </tr>\n",
       "    <tr>\n",
       "      <th>4</th>\n",
       "      <td>credit_amount</td>\n",
       "      <td>921</td>\n",
       "    </tr>\n",
       "    <tr>\n",
       "      <th>5</th>\n",
       "      <td>savings_account</td>\n",
       "      <td>5</td>\n",
       "    </tr>\n",
       "    <tr>\n",
       "      <th>6</th>\n",
       "      <td>present_employment</td>\n",
       "      <td>5</td>\n",
       "    </tr>\n",
       "    <tr>\n",
       "      <th>7</th>\n",
       "      <td>installment_rate</td>\n",
       "      <td>4</td>\n",
       "    </tr>\n",
       "    <tr>\n",
       "      <th>8</th>\n",
       "      <td>personal_status_sex</td>\n",
       "      <td>4</td>\n",
       "    </tr>\n",
       "    <tr>\n",
       "      <th>9</th>\n",
       "      <td>guarantors</td>\n",
       "      <td>3</td>\n",
       "    </tr>\n",
       "    <tr>\n",
       "      <th>10</th>\n",
       "      <td>residence</td>\n",
       "      <td>4</td>\n",
       "    </tr>\n",
       "    <tr>\n",
       "      <th>11</th>\n",
       "      <td>property</td>\n",
       "      <td>4</td>\n",
       "    </tr>\n",
       "    <tr>\n",
       "      <th>12</th>\n",
       "      <td>age</td>\n",
       "      <td>53</td>\n",
       "    </tr>\n",
       "    <tr>\n",
       "      <th>13</th>\n",
       "      <td>installment_plan</td>\n",
       "      <td>3</td>\n",
       "    </tr>\n",
       "    <tr>\n",
       "      <th>14</th>\n",
       "      <td>housing</td>\n",
       "      <td>3</td>\n",
       "    </tr>\n",
       "    <tr>\n",
       "      <th>15</th>\n",
       "      <td>existing_credits</td>\n",
       "      <td>4</td>\n",
       "    </tr>\n",
       "    <tr>\n",
       "      <th>16</th>\n",
       "      <td>job</td>\n",
       "      <td>4</td>\n",
       "    </tr>\n",
       "    <tr>\n",
       "      <th>17</th>\n",
       "      <td>liables</td>\n",
       "      <td>2</td>\n",
       "    </tr>\n",
       "    <tr>\n",
       "      <th>18</th>\n",
       "      <td>telephone</td>\n",
       "      <td>2</td>\n",
       "    </tr>\n",
       "    <tr>\n",
       "      <th>19</th>\n",
       "      <td>foreign</td>\n",
       "      <td>2</td>\n",
       "    </tr>\n",
       "    <tr>\n",
       "      <th>20</th>\n",
       "      <td>class</td>\n",
       "      <td>2</td>\n",
       "    </tr>\n",
       "  </tbody>\n",
       "</table>\n",
       "</div>"
      ],
      "text/plain": [
       "            Column_Name  Num_Unique\n",
       "0                status           4\n",
       "1              duration          33\n",
       "2        credit_history           5\n",
       "3               purpose          10\n",
       "4         credit_amount         921\n",
       "5       savings_account           5\n",
       "6    present_employment           5\n",
       "7      installment_rate           4\n",
       "8   personal_status_sex           4\n",
       "9            guarantors           3\n",
       "10            residence           4\n",
       "11             property           4\n",
       "12                  age          53\n",
       "13     installment_plan           3\n",
       "14              housing           3\n",
       "15     existing_credits           4\n",
       "16                  job           4\n",
       "17              liables           2\n",
       "18            telephone           2\n",
       "19              foreign           2\n",
       "20                class           2"
      ]
     },
     "execution_count": 122,
     "metadata": {},
     "output_type": "execute_result"
    }
   ],
   "source": [
    "# check for uniqueness\n",
    "unique_counts = pd.DataFrame.from_records([(col, df[col].nunique()) for col in df.columns], columns=['Column_Name', 'Num_Unique'])\n",
    "unique_counts"
   ]
  },
  {
   "cell_type": "code",
   "execution_count": 139,
   "metadata": {},
   "outputs": [],
   "source": [
    "def objectToCat(df):\n",
    "    tmp = df.copy()\n",
    "    for col in tmp.columns:\n",
    "        if np.dtype(tmp[col]) == \"object\":\n",
    "            tmp[col] = tmp[col].astype(\"category\")\n",
    "    return tmp"
   ]
  },
  {
   "cell_type": "code",
   "execution_count": 169,
   "metadata": {},
   "outputs": [
    {
     "name": "stdout",
     "output_type": "stream",
     "text": [
      "<class 'pandas.core.frame.DataFrame'>\n",
      "RangeIndex: 1000 entries, 0 to 999\n",
      "Data columns (total 21 columns):\n",
      " #   Column               Non-Null Count  Dtype   \n",
      "---  ------               --------------  -----   \n",
      " 0   status               1000 non-null   category\n",
      " 1   duration             1000 non-null   int64   \n",
      " 2   credit_history       1000 non-null   category\n",
      " 3   purpose              1000 non-null   category\n",
      " 4   credit_amount        1000 non-null   int64   \n",
      " 5   savings_account      1000 non-null   category\n",
      " 6   present_employment   1000 non-null   category\n",
      " 7   installment_rate     1000 non-null   int64   \n",
      " 8   personal_status_sex  1000 non-null   category\n",
      " 9   guarantors           1000 non-null   category\n",
      " 10  residence            1000 non-null   int64   \n",
      " 11  property             1000 non-null   category\n",
      " 12  age                  1000 non-null   int64   \n",
      " 13  installment_plan     1000 non-null   category\n",
      " 14  housing              1000 non-null   category\n",
      " 15  existing_credits     1000 non-null   int64   \n",
      " 16  job                  1000 non-null   category\n",
      " 17  liables              1000 non-null   int64   \n",
      " 18  telephone            1000 non-null   category\n",
      " 19  foreign              1000 non-null   category\n",
      " 20  class                1000 non-null   int64   \n",
      "dtypes: category(13), int64(8)\n",
      "memory usage: 77.7 KB\n"
     ]
    }
   ],
   "source": [
    "df_cat = objectToCat(df)\n",
    "df_cat['class'] = np.where(df_cat['class'] == 1,1,0)  # remap class -> good = 1 , bad = 0\n",
    "df_cat.info()"
   ]
  },
  {
   "cell_type": "code",
   "execution_count": 170,
   "metadata": {},
   "outputs": [
    {
     "data": {
      "text/plain": [
       "status                 0\n",
       "duration               0\n",
       "credit_history         0\n",
       "purpose                0\n",
       "credit_amount          0\n",
       "savings_account        0\n",
       "present_employment     0\n",
       "installment_rate       0\n",
       "personal_status_sex    0\n",
       "guarantors             0\n",
       "residence              0\n",
       "property               0\n",
       "age                    0\n",
       "installment_plan       0\n",
       "housing                0\n",
       "existing_credits       0\n",
       "job                    0\n",
       "liables                0\n",
       "telephone              0\n",
       "foreign                0\n",
       "class                  0\n",
       "dtype: int64"
      ]
     },
     "execution_count": 170,
     "metadata": {},
     "output_type": "execute_result"
    }
   ],
   "source": [
    "# checking null\n",
    "df_cat.isnull().sum()"
   ]
  },
  {
   "cell_type": "markdown",
   "metadata": {},
   "source": [
    "### Data Visualization"
   ]
  },
  {
   "cell_type": "code",
   "execution_count": 171,
   "metadata": {},
   "outputs": [
    {
     "data": {
      "text/html": [
       "<div>\n",
       "<style scoped>\n",
       "    .dataframe tbody tr th:only-of-type {\n",
       "        vertical-align: middle;\n",
       "    }\n",
       "\n",
       "    .dataframe tbody tr th {\n",
       "        vertical-align: top;\n",
       "    }\n",
       "\n",
       "    .dataframe thead th {\n",
       "        text-align: right;\n",
       "    }\n",
       "</style>\n",
       "<table border=\"1\" class=\"dataframe\">\n",
       "  <thead>\n",
       "    <tr style=\"text-align: right;\">\n",
       "      <th></th>\n",
       "      <th>duration</th>\n",
       "      <th>credit_amount</th>\n",
       "      <th>installment_rate</th>\n",
       "      <th>residence</th>\n",
       "      <th>age</th>\n",
       "      <th>existing_credits</th>\n",
       "      <th>liables</th>\n",
       "      <th>class</th>\n",
       "    </tr>\n",
       "  </thead>\n",
       "  <tbody>\n",
       "    <tr>\n",
       "      <th>count</th>\n",
       "      <td>1000.000000</td>\n",
       "      <td>1000.000000</td>\n",
       "      <td>1000.000000</td>\n",
       "      <td>1000.000000</td>\n",
       "      <td>1000.000000</td>\n",
       "      <td>1000.000000</td>\n",
       "      <td>1000.000000</td>\n",
       "      <td>1000.000000</td>\n",
       "    </tr>\n",
       "    <tr>\n",
       "      <th>mean</th>\n",
       "      <td>20.903000</td>\n",
       "      <td>3271.258000</td>\n",
       "      <td>2.973000</td>\n",
       "      <td>2.845000</td>\n",
       "      <td>35.546000</td>\n",
       "      <td>1.407000</td>\n",
       "      <td>1.155000</td>\n",
       "      <td>0.700000</td>\n",
       "    </tr>\n",
       "    <tr>\n",
       "      <th>std</th>\n",
       "      <td>12.058814</td>\n",
       "      <td>2822.736876</td>\n",
       "      <td>1.118715</td>\n",
       "      <td>1.103718</td>\n",
       "      <td>11.375469</td>\n",
       "      <td>0.577654</td>\n",
       "      <td>0.362086</td>\n",
       "      <td>0.458487</td>\n",
       "    </tr>\n",
       "    <tr>\n",
       "      <th>min</th>\n",
       "      <td>4.000000</td>\n",
       "      <td>250.000000</td>\n",
       "      <td>1.000000</td>\n",
       "      <td>1.000000</td>\n",
       "      <td>19.000000</td>\n",
       "      <td>1.000000</td>\n",
       "      <td>1.000000</td>\n",
       "      <td>0.000000</td>\n",
       "    </tr>\n",
       "    <tr>\n",
       "      <th>25%</th>\n",
       "      <td>12.000000</td>\n",
       "      <td>1365.500000</td>\n",
       "      <td>2.000000</td>\n",
       "      <td>2.000000</td>\n",
       "      <td>27.000000</td>\n",
       "      <td>1.000000</td>\n",
       "      <td>1.000000</td>\n",
       "      <td>0.000000</td>\n",
       "    </tr>\n",
       "    <tr>\n",
       "      <th>50%</th>\n",
       "      <td>18.000000</td>\n",
       "      <td>2319.500000</td>\n",
       "      <td>3.000000</td>\n",
       "      <td>3.000000</td>\n",
       "      <td>33.000000</td>\n",
       "      <td>1.000000</td>\n",
       "      <td>1.000000</td>\n",
       "      <td>1.000000</td>\n",
       "    </tr>\n",
       "    <tr>\n",
       "      <th>75%</th>\n",
       "      <td>24.000000</td>\n",
       "      <td>3972.250000</td>\n",
       "      <td>4.000000</td>\n",
       "      <td>4.000000</td>\n",
       "      <td>42.000000</td>\n",
       "      <td>2.000000</td>\n",
       "      <td>1.000000</td>\n",
       "      <td>1.000000</td>\n",
       "    </tr>\n",
       "    <tr>\n",
       "      <th>max</th>\n",
       "      <td>72.000000</td>\n",
       "      <td>18424.000000</td>\n",
       "      <td>4.000000</td>\n",
       "      <td>4.000000</td>\n",
       "      <td>75.000000</td>\n",
       "      <td>4.000000</td>\n",
       "      <td>2.000000</td>\n",
       "      <td>1.000000</td>\n",
       "    </tr>\n",
       "  </tbody>\n",
       "</table>\n",
       "</div>"
      ],
      "text/plain": [
       "          duration  credit_amount  installment_rate    residence          age  \\\n",
       "count  1000.000000    1000.000000       1000.000000  1000.000000  1000.000000   \n",
       "mean     20.903000    3271.258000          2.973000     2.845000    35.546000   \n",
       "std      12.058814    2822.736876          1.118715     1.103718    11.375469   \n",
       "min       4.000000     250.000000          1.000000     1.000000    19.000000   \n",
       "25%      12.000000    1365.500000          2.000000     2.000000    27.000000   \n",
       "50%      18.000000    2319.500000          3.000000     3.000000    33.000000   \n",
       "75%      24.000000    3972.250000          4.000000     4.000000    42.000000   \n",
       "max      72.000000   18424.000000          4.000000     4.000000    75.000000   \n",
       "\n",
       "       existing_credits      liables        class  \n",
       "count       1000.000000  1000.000000  1000.000000  \n",
       "mean           1.407000     1.155000     0.700000  \n",
       "std            0.577654     0.362086     0.458487  \n",
       "min            1.000000     1.000000     0.000000  \n",
       "25%            1.000000     1.000000     0.000000  \n",
       "50%            1.000000     1.000000     1.000000  \n",
       "75%            2.000000     1.000000     1.000000  \n",
       "max            4.000000     2.000000     1.000000  "
      ]
     },
     "execution_count": 171,
     "metadata": {},
     "output_type": "execute_result"
    }
   ],
   "source": [
    "df_cat.describe()"
   ]
  },
  {
   "cell_type": "code",
   "execution_count": 172,
   "metadata": {},
   "outputs": [
    {
     "data": {
      "image/png": "[encoded data removed]",
      "text/plain": [
       "<Figure size 432x288 with 2 Axes>"
      ]
     },
     "metadata": {
      "needs_background": "light"
     },
     "output_type": "display_data"
    }
   ],
   "source": [
    "# checking numerical feature correlation\n",
    "sns.heatmap(df_cat.corr(), annot=True, cmap = 'Reds')\n",
    "plt.show()"
   ]
  },
  {
   "cell_type": "code",
   "execution_count": 173,
   "metadata": {},
   "outputs": [
    {
     "name": "stdout",
     "output_type": "stream",
     "text": [
      "Categorical features: status, credit_history, purpose, savings_account, present_employment, personal_status_sex, guarantors, property, installment_plan, housing, job, telephone, foreign\n"
     ]
    }
   ],
   "source": [
    "TARGET = 'class'\n",
    "FEATURES = df_cat.columns.drop(TARGET)\n",
    "CATEGORICAL = df_cat[FEATURES].select_dtypes('category').columns\n",
    "print(f\"Categorical features: {', '.join(CATEGORICAL)}\")"
   ]
  },
  {
   "cell_type": "markdown",
   "metadata": {},
   "source": [
    "###  class (good) varies for different Categorical features"
   ]
  },
  {
   "cell_type": "code",
   "execution_count": 220,
   "metadata": {},
   "outputs": [
    {
     "data": {
      "image/png": "[encoded data removed]",
      "text/plain": [
       "<Figure size 1080x720 with 4 Axes>"
      ]
     },
     "metadata": {
      "needs_background": "light"
     },
     "output_type": "display_data"
    }
   ],
   "source": [
    "fig, axes = plt.subplots(nrows=2, ncols=2, figsize=(15, 10))\n",
    "\n",
    "\n",
    "df_cat.groupby('job')['class'].mean().plot.bar(ax=axes[0][0],color=(0.2, 0.4, 0.6, 0.6))\n",
    "df_cat.groupby('housing')['class'].mean().plot.bar(ax=axes[0][1], color=(0.6, 0.4, 0.6, 0.6))\n",
    "df_cat.groupby('present_employment')['class'].mean().plot.bar(ax=axes[1][0], color=(0.6, 0.2, 0.2, 0.6))\n",
    "df_cat.groupby('foreign')['class'].mean().plot.bar(ax=axes[1][1], color=(0.2, 0.6, 0.5, 0.6))\n",
    "\n",
    "plt.show()"
   ]
  },
  {
   "cell_type": "code",
   "execution_count": 227,
   "metadata": {},
   "outputs": [
    {
     "data": {
      "image/png": "[encoded data removed]",
      "text/plain": [
       "<Figure size 1080x720 with 4 Axes>"
      ]
     },
     "metadata": {
      "needs_background": "light"
     },
     "output_type": "display_data"
    }
   ],
   "source": [
    "fig, axes = plt.subplots(nrows=2, ncols=2, figsize=(15, 10))\n",
    "\n",
    "\n",
    "df_cat.groupby('credit_history')['class'].mean().plot.bar(ax=axes[0][0],color=(0.2, 0.4, 0.6, 0.6))\n",
    "df_cat.groupby('status')['class'].mean().plot.bar(ax=axes[0][1], color=(0.6, 0.4, 0.6, 0.6))\n",
    "df_cat.groupby('personal_status_sex')['class'].mean().plot.bar(ax=axes[1][0], color=(0.6, 0.2, 0.2, 0.6))\n",
    "df_cat.groupby('savings_account')['class'].mean().plot.bar(ax=axes[1][1], color=(0.2, 0.6, 0.5, 0.6))\n",
    "\n",
    "plt.show()"
   ]
  },
  {
   "cell_type": "code",
   "execution_count": 222,
   "metadata": {},
   "outputs": [
    {
     "data": {
      "image/png": "[encoded data removed]",
      "text/plain": [
       "<Figure size 1080x720 with 4 Axes>"
      ]
     },
     "metadata": {
      "needs_background": "light"
     },
     "output_type": "display_data"
    }
   ],
   "source": [
    "fig, axes = plt.subplots(nrows=2, ncols=2, figsize=(15, 10))\n",
    "\n",
    "\n",
    "df_cat.groupby('telephone')['class'].mean().plot.bar(ax=axes[0][0],color=(0.2, 0.4, 0.6, 0.6))\n",
    "df_cat.groupby('installment_plan')['class'].mean().plot.bar(ax=axes[0][1], color=(0.6, 0.4, 0.6, 0.6))\n",
    "df_cat.groupby('property')['class'].mean().plot.bar(ax=axes[1][0], color=(0.6, 0.2, 0.2, 0.6))\n",
    "df_cat.groupby('guarantors')['class'].mean().plot.bar(ax=axes[1][1], color=(0.2, 0.6, 0.5, 0.6))\n",
    "\n",
    "plt.show()"
   ]
  },
  {
   "cell_type": "code",
   "execution_count": 226,
   "metadata": {},
   "outputs": [
    {
     "data": {
      "image/png": "[encoded data removed]",
      "text/plain": [
       "<Figure size 432x288 with 1 Axes>"
      ]
     },
     "metadata": {
      "needs_background": "light"
     },
     "output_type": "display_data"
    }
   ],
   "source": [
    "df_cat.groupby('purpose')['class'].mean().plot.bar(color=(0.2, 0.4, 0.6, 0.6))\n",
    "plt.show()"
   ]
  },
  {
   "cell_type": "code",
   "execution_count": null,
   "metadata": {},
   "outputs": [],
   "source": []
  }
 ],
 "metadata": {
  "kernelspec": {
   "display_name": "Python 3.8.8",
   "language": "python",
   "name": "python3"
  },
  "language_info": {
   "codemirror_mode": {
    "name": "ipython",
    "version": 3
   },
   "file_extension": ".py",
   "mimetype": "text/x-python",
   "name": "python",
   "nbconvert_exporter": "python",
   "pygments_lexer": "ipython3",
   "version": "3.8.8"
  },
  "orig_nbformat": 4,
  "vscode": {
   "interpreter": {
    "hash": "40d3a090f54c6569ab1632332b64b2c03c39dcf918b08424e98f38b5ae0af88f"
   }
  }
 },
 "nbformat": 4,
 "nbformat_minor": 2
}
