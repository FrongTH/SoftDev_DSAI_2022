{
 "cells": [
  {
   "cell_type": "code",
   "execution_count": 126,
   "metadata": {},
   "outputs": [],
   "source": [
    "import joblib\n",
    "import pandas as pd\n",
    "import numpy as np\n",
    "\n",
    "from sklearn.metrics import confusion_matrix, f1_score, ConfusionMatrixDisplay, classification_report, precision_recall_fscore_support, precision_score, f1_score\n",
    "from sklearn.model_selection import train_test_split\n",
    "from sklearn.impute import SimpleImputer\n",
    "from sklearn.preprocessing import OneHotEncoder, MinMaxScaler\n",
    "from sklearn.compose import ColumnTransformer\n",
    "from sklearn.pipeline import Pipeline\n",
    "from sklearn.linear_model import LogisticRegression\n",
    "\n",
    "# models\n",
    "from sklearn.ensemble import ExtraTreesClassifier, RandomForestClassifier\n",
    "from sklearn.svm import LinearSVC\n",
    "from sklearn.naive_bayes import GaussianNB\n",
    "from sklearn.neighbors import KNeighborsClassifier\n",
    "from sklearn.svm import SVC\n",
    "\n",
    "# counter \n",
    "from collections import Counter\n",
    "\n",
    "# time \n",
    "import time\n",
    "import os\n",
    "import psutil\n",
    "import pickle\n"
   ]
  },
  {
   "cell_type": "code",
   "execution_count": 127,
   "metadata": {},
   "outputs": [],
   "source": [
    "def object_to_cat(df):\n",
    "    tmp = df.copy()\n",
    "    for col in tmp.columns:\n",
    "        if np.dtype(tmp[col]) == \"object\":\n",
    "            tmp[col] = tmp[col].astype(\"category\")\n",
    "    return tmp\n",
    "\n",
    "df = pd.read_csv(\"./data/german_clean.csv\")\n",
    "df = object_to_cat(df)\n"
   ]
  },
  {
   "cell_type": "code",
   "execution_count": 128,
   "metadata": {},
   "outputs": [],
   "source": [
    "SEED = 42\n",
    "TARGET = 'class'\n",
    "FEATURES = df.columns.drop(TARGET)\n",
    "\n",
    "NUMERICAL = df[FEATURES].select_dtypes('number').columns\n",
    "CATEGORICAL = pd.Index(np.setdiff1d(FEATURES, NUMERICAL))\n",
    "\n",
    "X = df.drop(columns=TARGET)\n",
    "y = df[TARGET]\n"
   ]
  },
  {
   "cell_type": "code",
   "execution_count": 129,
   "metadata": {},
   "outputs": [
    {
     "name": "stdout",
     "output_type": "stream",
     "text": [
      "original dataset class distribution: [(0, 297), (1, 698)]\n"
     ]
    }
   ],
   "source": [
    "print('original dataset class distribution:', sorted(Counter(y).items()))"
   ]
  },
  {
   "cell_type": "markdown",
   "metadata": {},
   "source": [
    "#### Pipeline"
   ]
  },
  {
   "cell_type": "code",
   "execution_count": 130,
   "metadata": {},
   "outputs": [],
   "source": [
    "# result lists\n",
    "# indexs = 0:over, 1:under, 2:normal \n",
    "trainin_time = []\n",
    "memory_usage=[]\n",
    "training_test_time=[]\n",
    "memory_test_usage=[]\n"
   ]
  },
  {
   "cell_type": "code",
   "execution_count": 131,
   "metadata": {},
   "outputs": [],
   "source": [
    "numerical_pipe = Pipeline([\n",
    "    ('imputer', SimpleImputer(strategy='mean')),\n",
    "    ('scaler', MinMaxScaler())\n",
    "])\n",
    "\n",
    "categorical_pipe = Pipeline([\n",
    "    ('imputer', SimpleImputer(strategy='constant', fill_value='missing')),\n",
    "    ('encoder', OneHotEncoder())\n",
    "])\n",
    "\n",
    "preprocessor = ColumnTransformer(\n",
    "    transformers=[\n",
    "        ('num', numerical_pipe, NUMERICAL),\n",
    "        ('cat', categorical_pipe, CATEGORICAL)\n",
    "    ])"
   ]
  },
  {
   "cell_type": "markdown",
   "metadata": {},
   "source": [
    "Hold out the testing set"
   ]
  },
  {
   "cell_type": "code",
   "execution_count": 132,
   "metadata": {},
   "outputs": [],
   "source": [
    "# Split train-test data\n",
    "X_train, X_test, y_train, y_test = train_test_split(X, y, test_size=.2, random_state=SEED,\n",
    "                                                    stratify=df[TARGET])\n"
   ]
  },
  {
   "cell_type": "code",
   "execution_count": 133,
   "metadata": {},
   "outputs": [
    {
     "name": "stdout",
     "output_type": "stream",
     "text": [
      "train size:  (796, 20) (796,)\n",
      "test size:  (199, 20) (199,)\n",
      "normal class distribution: [(0, 238), (1, 558)]\n"
     ]
    }
   ],
   "source": [
    "print(\"train size: \",X_train.shape, y_train.shape)\n",
    "print(\"test size: \",X_test.shape, y_test.shape)\n",
    "print('normal class distribution:', sorted(Counter(y_train).items()))"
   ]
  },
  {
   "cell_type": "markdown",
   "metadata": {},
   "source": [
    "### Over-sampling"
   ]
  },
  {
   "cell_type": "code",
   "execution_count": 134,
   "metadata": {},
   "outputs": [
    {
     "name": "stdout",
     "output_type": "stream",
     "text": [
      "over sampled class distribution: [(0, 558), (1, 558)]\n"
     ]
    }
   ],
   "source": [
    "# oversampling usign random oversampling technique \n",
    "from imblearn.over_sampling import RandomOverSampler\n",
    "\n",
    "ros = RandomOverSampler(random_state=SEED)\n",
    "X_oversampled, y_oversampled = ros.fit_resample(X_train, y_train)\n",
    "\n",
    "print('over sampled class distribution:',sorted(Counter(y_oversampled).items()))\n"
   ]
  },
  {
   "cell_type": "markdown",
   "metadata": {},
   "source": [
    "### Models"
   ]
  },
  {
   "cell_type": "code",
   "execution_count": 135,
   "metadata": {},
   "outputs": [],
   "source": [
    "# logistic regression1\n",
    "over_sampled_LR = Pipeline([\n",
    "    ('preprocessor', preprocessor),\n",
    "    ('model', LogisticRegression(solver='liblinear', random_state=0))\n",
    "])\n",
    "\n",
    "start = time.time()\n",
    "start_mem = psutil.Process().memory_info().rss / (1024 * 1024)\n",
    "\n",
    "over_sampled_LR.fit(X_oversampled, y_oversampled)\n",
    "\n",
    "end = time.time()\n",
    "finished_mem = psutil.Process().memory_info().rss / (1024 * 1024)\n",
    "lr_exec_time = end - start\n",
    "trainin_time.append(lr_exec_time)\n",
    "mem_used = finished_mem - start_mem\n",
    "memory_usage.append(mem_used)\n",
    "\n",
    "# SVC2\n",
    "over_sampled_SVC = Pipeline([\n",
    "    ('preprocessor', preprocessor),\n",
    "    ('model', SVC(C=1.0,kernel='rbf',degree=3,gamma='scale',coef0=0.0,shrinking=True,probability=False,tol=0.001,cache_size=200,\n",
    "                class_weight=None,\n",
    "                verbose=False,\n",
    "                max_iter=-1,\n",
    "                decision_function_shape='ovr',\n",
    "                break_ties=False,\n",
    "                random_state=None))\n",
    "])\n",
    "\n",
    "start = time.time()\n",
    "start_mem = psutil.Process().memory_info().rss / (1024 * 1024)\n",
    "\n",
    "over_sampled_SVC.fit(X_oversampled, y_oversampled)\n",
    "\n",
    "end = time.time()\n",
    "finished_mem = psutil.Process().memory_info().rss / (1024 * 1024)\n",
    "svc_exec_time = end - start\n",
    "trainin_time.append(svc_exec_time)\n",
    "mem_used = finished_mem - start_mem\n",
    "memory_usage.append(mem_used)\n",
    "\n",
    "# GaussianNaiveBayes3 \n",
    "over_sampled_GNB = Pipeline([\n",
    "    ('preprocessor', preprocessor),\n",
    "    ('model', GaussianNB())\n",
    "])\n",
    "\n",
    "start = time.time()\n",
    "start_mem = psutil.Process().memory_info().rss / (1024 * 1024)\n",
    "\n",
    "over_sampled_GNB.fit(X_oversampled, y_oversampled)\n",
    "\n",
    "end = time.time()\n",
    "finished_mem = psutil.Process().memory_info().rss / (1024 * 1024)\n",
    "gnb_exec_time = end - start\n",
    "trainin_time.append(gnb_exec_time)\n",
    "mem_used = finished_mem - start_mem\n",
    "memory_usage.append(mem_used)\n",
    "\n",
    "# KNN4 \n",
    "over_sampled_KNN = Pipeline([\n",
    "    ('preprocessor', preprocessor),\n",
    "    ('model', KNeighborsClassifier(n_neighbors=33))\n",
    "])\n",
    "\n",
    "start = time.time()\n",
    "start_mem = psutil.Process().memory_info().rss / (1024 * 1024)\n",
    "\n",
    "over_sampled_KNN.fit(X_oversampled, y_oversampled)\n",
    "\n",
    "end = time.time()\n",
    "finished_mem = psutil.Process().memory_info().rss / (1024 * 1024)\n",
    "knn_exec_time = end - start\n",
    "trainin_time.append(knn_exec_time)\n",
    "mem_used = finished_mem - start_mem\n",
    "memory_usage.append(mem_used)\n",
    "\n",
    "\n",
    "# RF5\n",
    "over_sampled_RF = Pipeline([\n",
    "    ('preprocessor', preprocessor),\n",
    "    ('model', RandomForestClassifier(max_depth=None, max_features=10, n_estimators=15, random_state=2))\n",
    "])\n",
    "\n",
    "start = time.time()\n",
    "start_mem = psutil.Process().memory_info().rss / (1024 * 1024)\n",
    "\n",
    "over_sampled_RF.fit(X_oversampled, y_oversampled)\n",
    "\n",
    "end = time.time()\n",
    "finished_mem = psutil.Process().memory_info().rss / (1024 * 1024)\n",
    "rf_exec_time = end - start\n",
    "trainin_time.append(rf_exec_time)\n",
    "mem_used = finished_mem - start_mem\n",
    "memory_usage.append(mem_used)\n",
    "\n",
    "filename = 'models/over_sampled_LR.pkl'\n",
    "joblib.dump(over_sampled_LR, open(filename, 'wb'))\n",
    "\n",
    "filename = 'models/over_sampled_GNB.pkl'\n",
    "joblib.dump(over_sampled_GNB, open(filename, 'wb'))\n",
    "\n",
    "filename = 'models/over_sampled_KNN.pkl'\n",
    "joblib.dump(over_sampled_KNN, open(filename, 'wb'))\n",
    "\n",
    "filename = 'models/over_sampled_RF.pkl'\n",
    "joblib.dump(over_sampled_RF, open(filename, 'wb'))\n",
    "\n",
    "filename = 'models/over_sampled_SVC.pkl'\n",
    "joblib.dump(over_sampled_SVC, open(filename, 'wb'))\n",
    "\n"
   ]
  },
  {
   "cell_type": "code",
   "execution_count": 136,
   "metadata": {},
   "outputs": [],
   "source": [
    "#LR\n",
    "# timer start\n",
    "start = time.time()\n",
    "start_mem = psutil.Process().memory_info().rss / (1024 * 1024)\n",
    "\n",
    "y_pred = over_sampled_LR.predict(X_test)\n",
    "\n",
    "# timer stop \n",
    "end = time.time()\n",
    "finished_mem = psutil.Process().memory_info().rss / (1024 * 1024)\n",
    "lr_exc_time = end-start\n",
    "training_test_time.append(lr_exec_time)\n",
    "mem_used = finished_mem - start_mem\n",
    "memory_test_usage.append(mem_used)\n",
    "\n",
    "#GNB\n",
    "# timer start\n",
    "start = time.time()\n",
    "start_mem = psutil.Process().memory_info().rss / (1024 * 1024)\n",
    "\n",
    "y_pred = over_sampled_GNB.predict(X_test)\n",
    "\n",
    "# timer stop \n",
    "end = time.time()\n",
    "finished_mem = psutil.Process().memory_info().rss / (1024 * 1024)\n",
    "gnb_exc_time = end-start\n",
    "training_test_time.append(gnb_exec_time)\n",
    "mem_used = finished_mem - start_mem\n",
    "memory_test_usage.append(mem_used)\n",
    "\n",
    "#KNN\n",
    "# timer start\n",
    "start = time.time()\n",
    "start_mem = psutil.Process().memory_info().rss / (1024 * 1024)\n",
    "\n",
    "y_pred = over_sampled_KNN.predict(X_test)\n",
    "\n",
    "# timer stop \n",
    "end = time.time()\n",
    "finished_mem = psutil.Process().memory_info().rss / (1024 * 1024)\n",
    "knn_exc_time = end-start\n",
    "training_test_time.append(knn_exec_time)\n",
    "mem_used = finished_mem - start_mem\n",
    "memory_test_usage.append(mem_used)\n",
    "\n",
    "#RF\n",
    "# timer start\n",
    "start = time.time()\n",
    "start_mem = psutil.Process().memory_info().rss / (1024 * 1024)\n",
    "\n",
    "y_pred = over_sampled_RF.predict(X_test)\n",
    "\n",
    "# timer stop \n",
    "end = time.time()\n",
    "finished_mem = psutil.Process().memory_info().rss / (1024 * 1024)\n",
    "rf_exc_time = end-start\n",
    "training_test_time.append(rf_exec_time)\n",
    "mem_used = finished_mem - start_mem\n",
    "memory_test_usage.append(mem_used)\n",
    "\n",
    "\n",
    "#SVC\n",
    "# timer start\n",
    "start = time.time()\n",
    "start_mem = psutil.Process().memory_info().rss / (1024 * 1024)\n",
    "\n",
    "y_pred = over_sampled_SVC.predict(X_test)\n",
    "\n",
    "# timer stop \n",
    "end = time.time()\n",
    "finished_mem = psutil.Process().memory_info().rss / (1024 * 1024)\n",
    "svc_exc_time = end-start\n",
    "training_test_time.append(svc_exec_time)\n",
    "mem_used = finished_mem - start_mem\n",
    "memory_test_usage.append(mem_used)\n",
    "\n"
   ]
  },
  {
   "cell_type": "markdown",
   "metadata": {},
   "source": [
    "### Under-sampling"
   ]
  },
  {
   "cell_type": "code",
   "execution_count": 137,
   "metadata": {},
   "outputs": [
    {
     "name": "stdout",
     "output_type": "stream",
     "text": [
      "over sampled class distribution: [(0, 238), (1, 238)]\n"
     ]
    }
   ],
   "source": [
    "# under-sampling using random undersampling technique \n",
    "from imblearn.under_sampling import RandomUnderSampler\n",
    "\n",
    "rus = RandomUnderSampler(random_state=SEED)\n",
    "X_undersampled, y_undersampled = rus.fit_resample(X_train, y_train)\n",
    "\n",
    "print('over sampled class distribution:',sorted(Counter(y_undersampled).items()))\n"
   ]
  },
  {
   "cell_type": "code",
   "execution_count": 138,
   "metadata": {},
   "outputs": [],
   "source": [
    "# logistic regression1\n",
    "under_sampled_LR = Pipeline([\n",
    "    ('preprocessor', preprocessor),\n",
    "    ('model', LogisticRegression(solver='liblinear', random_state=0))\n",
    "])\n",
    "\n",
    "start = time.time()\n",
    "start_mem = psutil.Process().memory_info().rss / (1024 * 1024)\n",
    "\n",
    "under_sampled_LR.fit(X_undersampled, y_undersampled)\n",
    "\n",
    "end = time.time()\n",
    "finished_mem = psutil.Process().memory_info().rss / (1024 * 1024)\n",
    "lr_exec_time = end - start\n",
    "trainin_time.append(lr_exec_time)\n",
    "mem_used = finished_mem - start_mem\n",
    "memory_usage.append(mem_used)\n",
    "\n",
    "# SVC2\n",
    "under_sampled_SVC = Pipeline([\n",
    "    ('preprocessor', preprocessor),\n",
    "    ('model', SVC(C=1.0,kernel='rbf',degree=3,gamma='scale',coef0=0.0,shrinking=True,probability=False,tol=0.001,cache_size=200,\n",
    "                class_weight=None,\n",
    "                verbose=False,\n",
    "                max_iter=-1,\n",
    "                decision_function_shape='ovr',\n",
    "                break_ties=False,\n",
    "                random_state=None))\n",
    "])\n",
    "\n",
    "start = time.time()\n",
    "start_mem = psutil.Process().memory_info().rss / (1024 * 1024)\n",
    "\n",
    "under_sampled_SVC.fit(X_undersampled, y_undersampled)\n",
    "\n",
    "end = time.time()\n",
    "finished_mem = psutil.Process().memory_info().rss / (1024 * 1024)\n",
    "svc_exec_time = end - start\n",
    "trainin_time.append(svc_exec_time)\n",
    "mem_used = finished_mem - start_mem\n",
    "memory_usage.append(mem_used)\n",
    "\n",
    "# GaussianNaiveBayes3 \n",
    "under_sampled_GNB = Pipeline([\n",
    "    ('preprocessor', preprocessor),\n",
    "    ('model', GaussianNB())\n",
    "])\n",
    "\n",
    "start = time.time()\n",
    "start_mem = psutil.Process().memory_info().rss / (1024 * 1024)\n",
    "\n",
    "under_sampled_GNB.fit(X_undersampled, y_undersampled)\n",
    "\n",
    "end = time.time()\n",
    "finished_mem = psutil.Process().memory_info().rss / (1024 * 1024)\n",
    "gnb_exec_time = end - start\n",
    "trainin_time.append(gnb_exec_time)\n",
    "mem_used = finished_mem - start_mem\n",
    "memory_usage.append(mem_used)\n",
    "\n",
    "# KNN4 \n",
    "under_sampled_KNN = Pipeline([\n",
    "    ('preprocessor', preprocessor),\n",
    "    ('model', KNeighborsClassifier(n_neighbors=33))\n",
    "])\n",
    "\n",
    "start = time.time()\n",
    "start_mem = psutil.Process().memory_info().rss / (1024 * 1024)\n",
    "\n",
    "under_sampled_KNN.fit(X_undersampled, y_undersampled)\n",
    "\n",
    "end = time.time()\n",
    "finished_mem = psutil.Process().memory_info().rss / (1024 * 1024)\n",
    "knn_exec_time = end - start\n",
    "trainin_time.append(knn_exec_time)\n",
    "mem_used = finished_mem - start_mem\n",
    "memory_usage.append(mem_used)\n",
    "\n",
    "# RF5\n",
    "under_sampled_RF = Pipeline([\n",
    "    ('preprocessor', preprocessor),\n",
    "    ('model', RandomForestClassifier(max_depth=None, max_features=10, n_estimators=15, random_state=2))\n",
    "])\n",
    "\n",
    "start = time.time()\n",
    "start_mem = psutil.Process().memory_info().rss / (1024 * 1024)\n",
    "\n",
    "under_sampled_RF.fit(X_undersampled, y_undersampled)\n",
    "\n",
    "end = time.time()\n",
    "finished_mem = psutil.Process().memory_info().rss / (1024 * 1024)\n",
    "rf_exec_time = end - start\n",
    "trainin_time.append(rf_exec_time)\n",
    "mem_used = finished_mem - start_mem\n",
    "memory_usage.append(mem_used)\n",
    "\n",
    "filename = 'models/under_sampled_LR.pkl'\n",
    "joblib.dump(under_sampled_LR, open(filename, 'wb'))\n",
    "\n",
    "filename = 'models/under_sampled_GNB.pkl'\n",
    "joblib.dump(under_sampled_GNB, open(filename, 'wb'))\n",
    "\n",
    "filename = 'models/under_sampled_KNN.pkl'\n",
    "joblib.dump(under_sampled_KNN, open(filename, 'wb'))\n",
    "\n",
    "filename = 'models/under_sampled_RF.pkl'\n",
    "joblib.dump(under_sampled_RF, open(filename, 'wb'))\n",
    "\n",
    "filename = 'models/under_sampled_SVC.pkl'\n",
    "joblib.dump(under_sampled_SVC, open(filename, 'wb'))\n"
   ]
  },
  {
   "cell_type": "code",
   "execution_count": 139,
   "metadata": {},
   "outputs": [],
   "source": [
    "#LR\n",
    "# timer start\n",
    "start = time.time()\n",
    "start_mem = psutil.Process().memory_info().rss / (1024 * 1024)\n",
    "\n",
    "y_pred = under_sampled_LR.predict(X_test)\n",
    "\n",
    "# timer stop \n",
    "end = time.time()\n",
    "finished_mem = psutil.Process().memory_info().rss / (1024 * 1024)\n",
    "lr_exc_time = end-start\n",
    "training_test_time.append(lr_exec_time)\n",
    "mem_used = finished_mem - start_mem\n",
    "memory_test_usage.append(mem_used)\n",
    "\n",
    "#GNB\n",
    "# timer start\n",
    "start = time.time()\n",
    "start_mem = psutil.Process().memory_info().rss / (1024 * 1024)\n",
    "\n",
    "y_pred = under_sampled_GNB.predict(X_test)\n",
    "\n",
    "# timer stop \n",
    "end = time.time()\n",
    "finished_mem = psutil.Process().memory_info().rss / (1024 * 1024)\n",
    "gnb_exc_time = end-start\n",
    "training_test_time.append(gnb_exec_time)\n",
    "mem_used = finished_mem - start_mem\n",
    "memory_test_usage.append(mem_used)\n",
    "\n",
    "#KNN\n",
    "# timer start\n",
    "start = time.time()\n",
    "start_mem = psutil.Process().memory_info().rss / (1024 * 1024)\n",
    "\n",
    "y_pred = under_sampled_KNN.predict(X_test)\n",
    "\n",
    "# timer stop \n",
    "end = time.time()\n",
    "finished_mem = psutil.Process().memory_info().rss / (1024 * 1024)\n",
    "knn_exc_time = end-start\n",
    "training_test_time.append(knn_exec_time)\n",
    "mem_used = finished_mem - start_mem\n",
    "memory_test_usage.append(mem_used)\n",
    "\n",
    "#RF\n",
    "# timer start\n",
    "start = time.time()\n",
    "start_mem = psutil.Process().memory_info().rss / (1024 * 1024)\n",
    "\n",
    "y_pred = under_sampled_RF.predict(X_test)\n",
    "\n",
    "# timer stop \n",
    "end = time.time()\n",
    "finished_mem = psutil.Process().memory_info().rss / (1024 * 1024)\n",
    "rf_exc_time = end-start\n",
    "training_test_time.append(rf_exec_time)\n",
    "mem_used = finished_mem - start_mem\n",
    "memory_test_usage.append(mem_used)\n",
    "\n",
    "\n",
    "#SVC\n",
    "# timer start\n",
    "start = time.time()\n",
    "start_mem = psutil.Process().memory_info().rss / (1024 * 1024)\n",
    "\n",
    "y_pred = under_sampled_SVC.predict(X_test)\n",
    "\n",
    "# timer stop \n",
    "end = time.time()\n",
    "finished_mem = psutil.Process().memory_info().rss / (1024 * 1024)\n",
    "svc_exc_time = end-start\n",
    "training_test_time.append(svc_exec_time)\n",
    "mem_used = finished_mem - start_mem\n",
    "memory_test_usage.append(mem_used)\n",
    "\n"
   ]
  },
  {
   "cell_type": "markdown",
   "metadata": {},
   "source": [
    "### Normal dataset"
   ]
  },
  {
   "cell_type": "code",
   "execution_count": 140,
   "metadata": {},
   "outputs": [],
   "source": [
    "# logistic regression1\n",
    "normal_LR = Pipeline([\n",
    "    ('preprocessor', preprocessor),\n",
    "    ('model', LogisticRegression(solver='liblinear', random_state=0))\n",
    "])\n",
    "\n",
    "start = time.time()\n",
    "start_mem = psutil.Process().memory_info().rss / (1024 * 1024)\n",
    "\n",
    "normal_LR.fit(X_train, y_train)\n",
    "\n",
    "end = time.time()\n",
    "finished_mem = psutil.Process().memory_info().rss / (1024 * 1024)\n",
    "lr_exec_time = end - start\n",
    "trainin_time.append(lr_exec_time)\n",
    "mem_used = finished_mem - start_mem\n",
    "memory_usage.append(mem_used)\n",
    "\n",
    "# SVC2\n",
    "normal_SVC = Pipeline([\n",
    "    ('preprocessor', preprocessor),\n",
    "    ('model', SVC(C=1.0,kernel='rbf',degree=3,gamma='scale',coef0=0.0,shrinking=True,probability=False,tol=0.001,cache_size=200,\n",
    "                class_weight=None,\n",
    "                verbose=False,\n",
    "                max_iter=-1,\n",
    "                decision_function_shape='ovr',\n",
    "                break_ties=False,\n",
    "                random_state=None))\n",
    "])\n",
    "\n",
    "start = time.time()\n",
    "start_mem = psutil.Process().memory_info().rss / (1024 * 1024)\n",
    "\n",
    "normal_SVC.fit(X_train, y_train)\n",
    "\n",
    "end = time.time()\n",
    "finished_mem = psutil.Process().memory_info().rss / (1024 * 1024)\n",
    "svc_exec_time = end - start\n",
    "trainin_time.append(svc_exec_time)\n",
    "mem_used = finished_mem - start_mem\n",
    "memory_usage.append(mem_used)\n",
    "\n",
    "# GaussianNaiveBayes3 \n",
    "normal_GNB = Pipeline([\n",
    "    ('preprocessor', preprocessor),\n",
    "    ('model', GaussianNB())\n",
    "])\n",
    "\n",
    "start = time.time()\n",
    "start_mem = psutil.Process().memory_info().rss / (1024 * 1024)\n",
    "\n",
    "normal_GNB.fit(X_train, y_train)\n",
    "\n",
    "end = time.time()\n",
    "finished_mem = psutil.Process().memory_info().rss / (1024 * 1024)\n",
    "gnb_exec_time = end - start\n",
    "trainin_time.append(gnb_exec_time)\n",
    "mem_used = finished_mem - start_mem\n",
    "memory_usage.append(mem_used)\n",
    "\n",
    "# KNN4 \n",
    "normal_KNN = Pipeline([\n",
    "    ('preprocessor', preprocessor),\n",
    "    ('model', KNeighborsClassifier(n_neighbors=33))\n",
    "])\n",
    "\n",
    "start = time.time()\n",
    "start_mem = psutil.Process().memory_info().rss / (1024 * 1024)\n",
    "\n",
    "normal_KNN.fit(X_train, y_train)\n",
    "\n",
    "end = time.time()\n",
    "finished_mem = psutil.Process().memory_info().rss / (1024 * 1024)\n",
    "knn_exec_time = end - start\n",
    "trainin_time.append(knn_exec_time)\n",
    "mem_used = finished_mem - start_mem\n",
    "memory_usage.append(mem_used)\n",
    "\n",
    "\n",
    "# RF5\n",
    "normal_RF = Pipeline([\n",
    "    ('preprocessor', preprocessor),\n",
    "    ('model', RandomForestClassifier(max_depth=None, max_features=10, n_estimators=15, random_state=2))\n",
    "])\n",
    "\n",
    "start = time.time()\n",
    "start_mem = psutil.Process().memory_info().rss / (1024 * 1024)\n",
    "\n",
    "normal_RF.fit(X_train, y_train)\n",
    "\n",
    "end = time.time()\n",
    "finished_mem = psutil.Process().memory_info().rss / (1024 * 1024)\n",
    "rf_exec_time = end - start\n",
    "trainin_time.append(rf_exec_time)\n",
    "mem_used = finished_mem - start_mem\n",
    "memory_usage.append(mem_used)\n",
    "\n",
    "filename = 'models/normal_LR.pkl'\n",
    "joblib.dump(normal_LR, open(filename, 'wb'))\n",
    "\n",
    "filename = 'models/normal_GNB.pkl'\n",
    "joblib.dump(normal_GNB, open(filename, 'wb'))\n",
    "\n",
    "filename = 'models/normal_KNN.pkl'\n",
    "joblib.dump(normal_KNN, open(filename, 'wb'))\n",
    "\n",
    "filename = 'models/normal_RF.pkl'\n",
    "joblib.dump(normal_RF, open(filename, 'wb'))\n",
    "\n",
    "filename = 'models/normal_SVC.pkl'\n",
    "joblib.dump(normal_SVC, open(filename, 'wb'))"
   ]
  },
  {
   "cell_type": "code",
   "execution_count": 141,
   "metadata": {},
   "outputs": [],
   "source": [
    "#LR\n",
    "# timer start\n",
    "start = time.time()\n",
    "start_mem = psutil.Process().memory_info().rss / (1024 * 1024)\n",
    "\n",
    "y_pred = normal_LR.predict(X_test)\n",
    "\n",
    "# timer stop \n",
    "end = time.time()\n",
    "finished_mem = psutil.Process().memory_info().rss / (1024 * 1024)\n",
    "lr_exc_time = end-start\n",
    "training_test_time.append(lr_exec_time)\n",
    "mem_used = finished_mem - start_mem\n",
    "memory_test_usage.append(mem_used)\n",
    "\n",
    "#GNB\n",
    "# timer start\n",
    "start = time.time()\n",
    "start_mem = psutil.Process().memory_info().rss / (1024 * 1024)\n",
    "\n",
    "y_pred = normal_GNB.predict(X_test)\n",
    "\n",
    "# timer stop \n",
    "end = time.time()\n",
    "finished_mem = psutil.Process().memory_info().rss / (1024 * 1024)\n",
    "gnb_exc_time = end-start\n",
    "training_test_time.append(gnb_exec_time)\n",
    "mem_used = finished_mem - start_mem\n",
    "memory_test_usage.append(mem_used)\n",
    "\n",
    "#KNN\n",
    "# timer start\n",
    "start = time.time()\n",
    "start_mem = psutil.Process().memory_info().rss / (1024 * 1024)\n",
    "\n",
    "y_pred = normal_KNN.predict(X_test)\n",
    "\n",
    "# timer stop \n",
    "end = time.time()\n",
    "finished_mem = psutil.Process().memory_info().rss / (1024 * 1024)\n",
    "knn_exc_time = end-start\n",
    "training_test_time.append(knn_exec_time)\n",
    "mem_used = finished_mem - start_mem\n",
    "memory_test_usage.append(mem_used)\n",
    "\n",
    "#RF\n",
    "# timer start\n",
    "start = time.time()\n",
    "start_mem = psutil.Process().memory_info().rss / (1024 * 1024)\n",
    "\n",
    "y_pred = normal_RF.predict(X_test)\n",
    "\n",
    "# timer stop \n",
    "end = time.time()\n",
    "finished_mem = psutil.Process().memory_info().rss / (1024 * 1024)\n",
    "rf_exc_time = end-start\n",
    "training_test_time.append(rf_exec_time)\n",
    "mem_used = finished_mem - start_mem\n",
    "memory_test_usage.append(mem_used)\n",
    "\n",
    "\n",
    "#SVC\n",
    "# timer start\n",
    "start = time.time()\n",
    "start_mem = psutil.Process().memory_info().rss / (1024 * 1024)\n",
    "\n",
    "y_pred = normal_SVC.predict(X_test)\n",
    "\n",
    "# timer stop \n",
    "end = time.time()\n",
    "finished_mem = psutil.Process().memory_info().rss / (1024 * 1024)\n",
    "svc_exc_time = end-start\n",
    "training_test_time.append(svc_exec_time)\n",
    "mem_used = finished_mem - start_mem\n",
    "memory_test_usage.append(mem_used)\n",
    "\n"
   ]
  },
  {
   "cell_type": "code",
   "execution_count": 142,
   "metadata": {},
   "outputs": [
    {
     "data": {
      "text/plain": [
       "[0.1060798168182373,\n",
       " 0.14803624153137207,\n",
       " 0.13208436965942383,\n",
       " 0.46352362632751465,\n",
       " 0.5287573337554932,\n",
       " 0.10094308853149414,\n",
       " 0.08794927597045898,\n",
       " 0.08295440673828125,\n",
       " 0.38629937171936035,\n",
       " 0.13292407989501953,\n",
       " 0.14991283416748047,\n",
       " 0.11093449592590332,\n",
       " 0.09693670272827148,\n",
       " 0.39081883430480957,\n",
       " 0.3679349422454834]"
      ]
     },
     "execution_count": 142,
     "metadata": {},
     "output_type": "execute_result"
    }
   ],
   "source": [
    "training_test_time"
   ]
  },
  {
   "cell_type": "markdown",
   "metadata": {},
   "source": [
    "### Evaluation"
   ]
  },
  {
   "cell_type": "markdown",
   "metadata": {},
   "source": [
    "Training Time"
   ]
  },
  {
   "cell_type": "code",
   "execution_count": 143,
   "metadata": {},
   "outputs": [
    {
     "data": {
      "text/plain": [
       "[0.1060798168182373,\n",
       " 0.5287573337554932,\n",
       " 0.14803624153137207,\n",
       " 0.13208436965942383,\n",
       " 0.46352362632751465,\n",
       " 0.10094308853149414,\n",
       " 0.13292407989501953,\n",
       " 0.08794927597045898,\n",
       " 0.08295440673828125,\n",
       " 0.38629937171936035,\n",
       " 0.14991283416748047,\n",
       " 0.3679349422454834,\n",
       " 0.11093449592590332,\n",
       " 0.09693670272827148,\n",
       " 0.39081883430480957]"
      ]
     },
     "execution_count": 143,
     "metadata": {},
     "output_type": "execute_result"
    }
   ],
   "source": [
    "trainin_time"
   ]
  },
  {
   "cell_type": "code",
   "execution_count": 144,
   "metadata": {},
   "outputs": [
    {
     "data": {
      "text/plain": [
       "[4.41796875,\n",
       " -0.5546875,\n",
       " 1.390625,\n",
       " 0.0703125,\n",
       " 0.77734375,\n",
       " 0.73046875,\n",
       " 0.390625,\n",
       " 0.01171875,\n",
       " 0.00390625,\n",
       " 0.25,\n",
       " 0.08984375,\n",
       " 0.78125,\n",
       " 0.03515625,\n",
       " 0.0,\n",
       " 0.05859375]"
      ]
     },
     "execution_count": 144,
     "metadata": {},
     "output_type": "execute_result"
    }
   ],
   "source": [
    "memory_usage"
   ]
  },
  {
   "cell_type": "code",
   "execution_count": 145,
   "metadata": {
    "scrolled": true
   },
   "outputs": [
    {
     "data": {
      "text/plain": [
       "[0.1060798168182373,\n",
       " 0.14803624153137207,\n",
       " 0.13208436965942383,\n",
       " 0.46352362632751465,\n",
       " 0.5287573337554932,\n",
       " 0.10094308853149414,\n",
       " 0.08794927597045898,\n",
       " 0.08295440673828125,\n",
       " 0.38629937171936035,\n",
       " 0.13292407989501953,\n",
       " 0.14991283416748047,\n",
       " 0.11093449592590332,\n",
       " 0.09693670272827148,\n",
       " 0.39081883430480957,\n",
       " 0.3679349422454834]"
      ]
     },
     "execution_count": 145,
     "metadata": {},
     "output_type": "execute_result"
    }
   ],
   "source": [
    "training_test_time"
   ]
  },
  {
   "cell_type": "code",
   "execution_count": 146,
   "metadata": {},
   "outputs": [
    {
     "data": {
      "text/plain": [
       "[0.2421875,\n",
       " 0.14453125,\n",
       " 2.375,\n",
       " 0.0390625,\n",
       " 0.03515625,\n",
       " 0.046875,\n",
       " 0.0,\n",
       " 0.73828125,\n",
       " 0.0,\n",
       " 0.0,\n",
       " 0.03125,\n",
       " 0.0,\n",
       " 0.6015625,\n",
       " 0.0,\n",
       " 0.0078125]"
      ]
     },
     "execution_count": 146,
     "metadata": {},
     "output_type": "execute_result"
    }
   ],
   "source": [
    "memory_test_usage"
   ]
  },
  {
   "cell_type": "markdown",
   "metadata": {},
   "source": [
    "Accuracy"
   ]
  },
  {
   "cell_type": "code",
   "execution_count": 149,
   "metadata": {},
   "outputs": [],
   "source": [
    "models = [over_sampled_LR,over_sampled_GNB,over_sampled_KNN,over_sampled_SVC, over_sampled_RF,\n",
    "          under_sampled_LR,under_sampled_GNB,under_sampled_KNN,under_sampled_SVC, under_sampled_RF,\n",
    "          normal_RF,normal_GNB,normal_KNN,normal_SVC, normal_RF]\n",
    "confusion_met = []\n",
    "false_negatives = []\n",
    "false_positives = []\n",
    "true_negatives=[]\n",
    "true_positives=[]\n",
    "\n",
    "cls_acc = []\n",
    "cls_precision = []\n",
    "cls_recall = []\n",
    "cls_f1 = []\n"
   ]
  },
  {
   "cell_type": "code",
   "execution_count": 150,
   "metadata": {},
   "outputs": [],
   "source": [
    "for model in models:\n",
    "    y_pred = model.predict(X_test)\n",
    "\n",
    "    accuracy = model.score(X_test, y_test)\n",
    "    cls_acc.append(accuracy)\n",
    "\n",
    "    score = precision_recall_fscore_support(y_test, y_pred, average='weighted')\n",
    "\n",
    "    cls_precision.append(score[0])\n",
    "    cls_recall.append(score[1])\n",
    "    cls_f1.append(score[2])\n",
    "    confusion_met.append(classification_report(y_test, y_pred, target_names=['bad','good']))\n",
    "    tn, fp, fn, tp = confusion_matrix(y_test, y_pred).ravel()\n",
    "    false_negatives.append(fn)\n",
    "    false_positives.append(fp)\n",
    "    true_negatives.append(tn)\n",
    "    true_positives.append(tp)\n"
   ]
  },
  {
   "cell_type": "code",
   "execution_count": 151,
   "metadata": {},
   "outputs": [
    {
     "data": {
      "text/plain": [
       "[41, 47, 47, 29, 22, 37, 43, 44, 36, 41, 14, 40, 4, 11, 14]"
      ]
     },
     "execution_count": 151,
     "metadata": {},
     "output_type": "execute_result"
    }
   ],
   "source": [
    "false_negatives\n"
   ]
  },
  {
   "cell_type": "code",
   "execution_count": 152,
   "metadata": {},
   "outputs": [
    {
     "data": {
      "text/plain": [
       "[15, 15, 18, 26, 35, 16, 15, 16, 11, 15, 30, 17, 49, 37, 30]"
      ]
     },
     "execution_count": 152,
     "metadata": {},
     "output_type": "execute_result"
    }
   ],
   "source": [
    "false_positives"
   ]
  },
  {
   "cell_type": "code",
   "execution_count": 153,
   "metadata": {},
   "outputs": [
    {
     "data": {
      "text/plain": [
       "[99, 93, 93, 111, 118, 103, 97, 96, 104, 99, 126, 100, 136, 129, 126]"
      ]
     },
     "execution_count": 153,
     "metadata": {},
     "output_type": "execute_result"
    }
   ],
   "source": [
    "true_positives"
   ]
  },
  {
   "cell_type": "code",
   "execution_count": 156,
   "metadata": {},
   "outputs": [
    {
     "data": {
      "text/plain": [
       "[44, 44, 41, 33, 24, 43, 44, 43, 48, 44, 29, 42, 10, 22, 29]"
      ]
     },
     "execution_count": 156,
     "metadata": {},
     "output_type": "execute_result"
    }
   ],
   "source": [
    "true_negatives"
   ]
  },
  {
   "cell_type": "code",
   "execution_count": 157,
   "metadata": {},
   "outputs": [
    {
     "data": {
      "text/plain": [
       "[0.1060798168182373,\n",
       " 0.5287573337554932,\n",
       " 0.14803624153137207,\n",
       " 0.13208436965942383,\n",
       " 0.46352362632751465,\n",
       " 0.10094308853149414,\n",
       " 0.13292407989501953,\n",
       " 0.08794927597045898,\n",
       " 0.08295440673828125,\n",
       " 0.38629937171936035,\n",
       " 0.14991283416748047,\n",
       " 0.3679349422454834,\n",
       " 0.11093449592590332,\n",
       " 0.09693670272827148,\n",
       " 0.39081883430480957]"
      ]
     },
     "execution_count": 157,
     "metadata": {},
     "output_type": "execute_result"
    }
   ],
   "source": [
    "trainin_time"
   ]
  },
  {
   "cell_type": "code",
   "execution_count": 158,
   "metadata": {},
   "outputs": [
    {
     "data": {
      "text/plain": [
       "[0.7185929648241206,\n",
       " 0.6884422110552764,\n",
       " 0.6733668341708543,\n",
       " 0.7236180904522613,\n",
       " 0.7135678391959799,\n",
       " 0.7336683417085427,\n",
       " 0.7085427135678392,\n",
       " 0.6984924623115578,\n",
       " 0.7638190954773869,\n",
       " 0.7185929648241206,\n",
       " 0.7788944723618091,\n",
       " 0.7135678391959799,\n",
       " 0.7336683417085427,\n",
       " 0.7587939698492462,\n",
       " 0.7788944723618091]"
      ]
     },
     "execution_count": 158,
     "metadata": {},
     "output_type": "execute_result"
    }
   ],
   "source": [
    "cls_acc"
   ]
  },
  {
   "cell_type": "code",
   "execution_count": 159,
   "metadata": {},
   "outputs": [
    {
     "data": {
      "text/plain": [
       "[0.7644227328593431,\n",
       " 0.7491609451408447,\n",
       " 0.7275675058338376,\n",
       " 0.7278084559837095,\n",
       " 0.6972686678633292,\n",
       " 0.7682862843629915,\n",
       " 0.7592416103506036,\n",
       " 0.7495523594986426,\n",
       " 0.8056431224445207,\n",
       " 0.7644227328593431,\n",
       " 0.7681789987504608,\n",
       " 0.7531539289107618,\n",
       " 0.7289536485516386,\n",
       " 0.7443643922423362,\n",
       " 0.7681789987504608]"
      ]
     },
     "execution_count": 159,
     "metadata": {},
     "output_type": "execute_result"
    }
   ],
   "source": [
    "cls_precision"
   ]
  },
  {
   "cell_type": "code",
   "execution_count": 160,
   "metadata": {},
   "outputs": [
    {
     "data": {
      "text/plain": [
       "[0.7185929648241206,\n",
       " 0.6884422110552764,\n",
       " 0.6733668341708543,\n",
       " 0.7236180904522613,\n",
       " 0.7135678391959799,\n",
       " 0.7336683417085427,\n",
       " 0.7085427135678392,\n",
       " 0.6984924623115578,\n",
       " 0.7638190954773869,\n",
       " 0.7185929648241206,\n",
       " 0.7788944723618091,\n",
       " 0.7135678391959799,\n",
       " 0.7336683417085427,\n",
       " 0.7587939698492462,\n",
       " 0.7788944723618091]"
      ]
     },
     "execution_count": 160,
     "metadata": {},
     "output_type": "execute_result"
    }
   ],
   "source": [
    "cls_recall"
   ]
  },
  {
   "cell_type": "code",
   "execution_count": 161,
   "metadata": {},
   "outputs": [
    {
     "data": {
      "text/plain": [
       "[0.7295950443380508,\n",
       " 0.7015745393634841,\n",
       " 0.6867165052571309,\n",
       " 0.725547659531659,\n",
       " 0.7021906215622237,\n",
       " 0.7429896908223794,\n",
       " 0.7202986010723328,\n",
       " 0.7106537252472406,\n",
       " 0.7728867841194178,\n",
       " 0.7295950443380508,\n",
       " 0.7675286874222731,\n",
       " 0.7241123241840463,\n",
       " 0.6700181624667065,\n",
       " 0.7349578240734791,\n",
       " 0.7675286874222731]"
      ]
     },
     "execution_count": 161,
     "metadata": {},
     "output_type": "execute_result"
    }
   ],
   "source": [
    "cls_f1"
   ]
  },
  {
   "cell_type": "code",
   "execution_count": 162,
   "metadata": {},
   "outputs": [
    {
     "name": "stdout",
     "output_type": "stream",
     "text": [
      "              precision    recall  f1-score   support\n",
      "\n",
      "         bad       0.52      0.75      0.61        59\n",
      "        good       0.87      0.71      0.78       140\n",
      "\n",
      "    accuracy                           0.72       199\n",
      "   macro avg       0.69      0.73      0.70       199\n",
      "weighted avg       0.76      0.72      0.73       199\n",
      " \n",
      "\n",
      "              precision    recall  f1-score   support\n",
      "\n",
      "         bad       0.48      0.75      0.59        59\n",
      "        good       0.86      0.66      0.75       140\n",
      "\n",
      "    accuracy                           0.69       199\n",
      "   macro avg       0.67      0.71      0.67       199\n",
      "weighted avg       0.75      0.69      0.70       199\n",
      " \n",
      "\n",
      "              precision    recall  f1-score   support\n",
      "\n",
      "         bad       0.47      0.69      0.56        59\n",
      "        good       0.84      0.66      0.74       140\n",
      "\n",
      "    accuracy                           0.67       199\n",
      "   macro avg       0.65      0.68      0.65       199\n",
      "weighted avg       0.73      0.67      0.69       199\n",
      " \n",
      "\n",
      "              precision    recall  f1-score   support\n",
      "\n",
      "         bad       0.53      0.56      0.55        59\n",
      "        good       0.81      0.79      0.80       140\n",
      "\n",
      "    accuracy                           0.72       199\n",
      "   macro avg       0.67      0.68      0.67       199\n",
      "weighted avg       0.73      0.72      0.73       199\n",
      " \n",
      "\n",
      "              precision    recall  f1-score   support\n",
      "\n",
      "         bad       0.52      0.41      0.46        59\n",
      "        good       0.77      0.84      0.81       140\n",
      "\n",
      "    accuracy                           0.71       199\n",
      "   macro avg       0.65      0.62      0.63       199\n",
      "weighted avg       0.70      0.71      0.70       199\n",
      " \n",
      "\n",
      "              precision    recall  f1-score   support\n",
      "\n",
      "         bad       0.54      0.73      0.62        59\n",
      "        good       0.87      0.74      0.80       140\n",
      "\n",
      "    accuracy                           0.73       199\n",
      "   macro avg       0.70      0.73      0.71       199\n",
      "weighted avg       0.77      0.73      0.74       199\n",
      " \n",
      "\n",
      "              precision    recall  f1-score   support\n",
      "\n",
      "         bad       0.51      0.75      0.60        59\n",
      "        good       0.87      0.69      0.77       140\n",
      "\n",
      "    accuracy                           0.71       199\n",
      "   macro avg       0.69      0.72      0.69       199\n",
      "weighted avg       0.76      0.71      0.72       199\n",
      " \n",
      "\n",
      "              precision    recall  f1-score   support\n",
      "\n",
      "         bad       0.49      0.73      0.59        59\n",
      "        good       0.86      0.69      0.76       140\n",
      "\n",
      "    accuracy                           0.70       199\n",
      "   macro avg       0.68      0.71      0.68       199\n",
      "weighted avg       0.75      0.70      0.71       199\n",
      " \n",
      "\n",
      "              precision    recall  f1-score   support\n",
      "\n",
      "         bad       0.57      0.81      0.67        59\n",
      "        good       0.90      0.74      0.82       140\n",
      "\n",
      "    accuracy                           0.76       199\n",
      "   macro avg       0.74      0.78      0.74       199\n",
      "weighted avg       0.81      0.76      0.77       199\n",
      " \n",
      "\n",
      "              precision    recall  f1-score   support\n",
      "\n",
      "         bad       0.52      0.75      0.61        59\n",
      "        good       0.87      0.71      0.78       140\n",
      "\n",
      "    accuracy                           0.72       199\n",
      "   macro avg       0.69      0.73      0.70       199\n",
      "weighted avg       0.76      0.72      0.73       199\n",
      " \n",
      "\n",
      "              precision    recall  f1-score   support\n",
      "\n",
      "         bad       0.67      0.49      0.57        59\n",
      "        good       0.81      0.90      0.85       140\n",
      "\n",
      "    accuracy                           0.78       199\n",
      "   macro avg       0.74      0.70      0.71       199\n",
      "weighted avg       0.77      0.78      0.77       199\n",
      " \n",
      "\n",
      "              precision    recall  f1-score   support\n",
      "\n",
      "         bad       0.51      0.71      0.60        59\n",
      "        good       0.85      0.71      0.78       140\n",
      "\n",
      "    accuracy                           0.71       199\n",
      "   macro avg       0.68      0.71      0.69       199\n",
      "weighted avg       0.75      0.71      0.72       199\n",
      " \n",
      "\n",
      "              precision    recall  f1-score   support\n",
      "\n",
      "         bad       0.71      0.17      0.27        59\n",
      "        good       0.74      0.97      0.84       140\n",
      "\n",
      "    accuracy                           0.73       199\n",
      "   macro avg       0.72      0.57      0.56       199\n",
      "weighted avg       0.73      0.73      0.67       199\n",
      " \n",
      "\n",
      "              precision    recall  f1-score   support\n",
      "\n",
      "         bad       0.67      0.37      0.48        59\n",
      "        good       0.78      0.92      0.84       140\n",
      "\n",
      "    accuracy                           0.76       199\n",
      "   macro avg       0.72      0.65      0.66       199\n",
      "weighted avg       0.74      0.76      0.73       199\n",
      " \n",
      "\n",
      "              precision    recall  f1-score   support\n",
      "\n",
      "         bad       0.67      0.49      0.57        59\n",
      "        good       0.81      0.90      0.85       140\n",
      "\n",
      "    accuracy                           0.78       199\n",
      "   macro avg       0.74      0.70      0.71       199\n",
      "weighted avg       0.77      0.78      0.77       199\n",
      " \n",
      "\n"
     ]
    }
   ],
   "source": [
    "for cm in confusion_met:\n",
    "    print(cm,'\\n')"
   ]
  },
  {
   "cell_type": "code",
   "execution_count": null,
   "metadata": {},
   "outputs": [],
   "source": []
  }
 ],
 "metadata": {
  "kernelspec": {
   "display_name": "Python 3",
   "language": "python",
   "name": "python3"
  },
  "language_info": {
   "codemirror_mode": {
    "name": "ipython",
    "version": 3
   },
   "file_extension": ".py",
   "mimetype": "text/x-python",
   "name": "python",
   "nbconvert_exporter": "python",
   "pygments_lexer": "ipython3",
   "version": "3.8.8"
  },
  "vscode": {
   "interpreter": {
    "hash": "d45d2df7a2dbc75d28d472319d9a14fda6edd2a44d03a120cd1876820c91c50f"
   }
  }
 },
 "nbformat": 4,
 "nbformat_minor": 2
}
