{
 "cells": [
  {
   "cell_type": "code",
   "execution_count": 63,
   "metadata": {},
   "outputs": [],
   "source": [
    "import joblib\n",
    "import pandas as pd\n",
    "import numpy as np\n",
    "import psutil\n",
    "\n",
    "from sklearn.metrics import confusion_matrix, f1_score, ConfusionMatrixDisplay, classification_report,precision_recall_fscore_support, precision_score, f1_score\n",
    "from sklearn.model_selection import train_test_split\n",
    "from sklearn.impute import SimpleImputer\n",
    "from sklearn.preprocessing import OneHotEncoder, MinMaxScaler\n",
    "from sklearn.compose import ColumnTransformer\n",
    "from sklearn.pipeline import Pipeline\n",
    "from sklearn.linear_model import LogisticRegression\n",
    "\n",
    "# models\n",
    "from sklearn.ensemble import ExtraTreesClassifier, RandomForestClassifier\n",
    "from sklearn.svm import LinearSVC\n",
    "\n",
    "# counter \n",
    "from collections import Counter\n",
    "\n",
    "# time \n",
    "import time\n",
    "\n",
    "#table\n",
    "from tabulate import tabulate\n"
   ]
  },
  {
   "cell_type": "code",
   "execution_count": 64,
   "metadata": {},
   "outputs": [],
   "source": [
    "def object_to_cat(df):\n",
    "    tmp = df.copy()\n",
    "    for col in tmp.columns:\n",
    "        if np.dtype(tmp[col]) == \"object\":\n",
    "            tmp[col] = tmp[col].astype(\"category\")\n",
    "    return tmp\n",
    "\n",
    "df = pd.read_csv(\"dataset/german_clean.csv\")\n",
    "df = object_to_cat(df)\n"
   ]
  },
  {
   "cell_type": "code",
   "execution_count": 65,
   "metadata": {},
   "outputs": [],
   "source": [
    "SEED = 42\n",
    "TARGET = 'class'\n",
    "FEATURES = df.columns.drop(TARGET)\n",
    "\n",
    "NUMERICAL = df[FEATURES].select_dtypes('number').columns\n",
    "CATEGORICAL = pd.Index(np.setdiff1d(FEATURES, NUMERICAL))\n",
    "\n",
    "X = df.drop(columns=TARGET)\n",
    "y = df[TARGET]\n"
   ]
  },
  {
   "cell_type": "code",
   "execution_count": 66,
   "metadata": {},
   "outputs": [
    {
     "name": "stdout",
     "output_type": "stream",
     "text": [
      "original dataset class distribution: [(0, 297), (1, 698)]\n"
     ]
    }
   ],
   "source": [
    "print('original dataset class distribution:', sorted(Counter(y).items()))"
   ]
  },
  {
   "cell_type": "markdown",
   "metadata": {},
   "source": [
    "#### Pipeline"
   ]
  },
  {
   "cell_type": "code",
   "execution_count": 67,
   "metadata": {},
   "outputs": [],
   "source": [
    "numerical_pipe = Pipeline([\n",
    "    ('imputer', SimpleImputer(strategy='mean')),\n",
    "    ('scaler', MinMaxScaler())\n",
    "])\n",
    "\n",
    "categorical_pipe = Pipeline([\n",
    "    ('imputer', SimpleImputer(strategy='constant', fill_value='missing')),\n",
    "    ('encoder', OneHotEncoder())\n",
    "])\n",
    "\n",
    "preprocessor = ColumnTransformer(\n",
    "    transformers=[\n",
    "        ('num', numerical_pipe, NUMERICAL),\n",
    "        ('cat', categorical_pipe, CATEGORICAL)\n",
    "    ])"
   ]
  },
  {
   "cell_type": "markdown",
   "metadata": {},
   "source": [
    "Hold out the testing set"
   ]
  },
  {
   "cell_type": "code",
   "execution_count": 68,
   "metadata": {},
   "outputs": [],
   "source": [
    "# Split train-test data\n",
    "X_train, X_test, y_train, y_test = train_test_split(X, y, test_size=.2, random_state=SEED,stratify=df[TARGET])\n"
   ]
  },
  {
   "cell_type": "code",
   "execution_count": 69,
   "metadata": {},
   "outputs": [
    {
     "name": "stdout",
     "output_type": "stream",
     "text": [
      "train size:  (796, 20) (796,)\n",
      "test size:  (199, 20) (199,)\n",
      "normal class distribution: [(0, 238), (1, 558)]\n"
     ]
    }
   ],
   "source": [
    "print(\"train size: \",X_train.shape, y_train.shape)\n",
    "print(\"test size: \",X_test.shape, y_test.shape)\n",
    "print('normal class distribution:', sorted(Counter(y_train).items()))"
   ]
  },
  {
   "cell_type": "code",
   "execution_count": 70,
   "metadata": {},
   "outputs": [],
   "source": [
    "# result lists\n",
    "# indexs = 0:over, 1:under, 2:normal \n",
    "\n",
    "trainin_time = []\n",
    "memory_usage = []\n"
   ]
  },
  {
   "cell_type": "markdown",
   "metadata": {},
   "source": [
    "### Over-sampling"
   ]
  },
  {
   "cell_type": "code",
   "execution_count": 71,
   "metadata": {},
   "outputs": [
    {
     "name": "stdout",
     "output_type": "stream",
     "text": [
      "over sampled class distribution: [(0, 558), (1, 558)]\n"
     ]
    }
   ],
   "source": [
    "# oversampling usign random oversampling technique \n",
    "from imblearn.over_sampling import RandomOverSampler\n",
    "\n",
    "ros = RandomOverSampler(random_state=SEED)\n",
    "X_oversampled, y_oversampled = ros.fit_resample(X_train, y_train)\n",
    "\n",
    "print('over sampled class distribution:',sorted(Counter(y_oversampled).items()))\n"
   ]
  },
  {
   "cell_type": "code",
   "execution_count": 72,
   "metadata": {},
   "outputs": [
    {
     "name": "stdout",
     "output_type": "stream",
     "text": [
      "159.89453125\n"
     ]
    }
   ],
   "source": [
    "print(psutil.Process().memory_info().rss / (1024 * 1024))"
   ]
  },
  {
   "cell_type": "code",
   "execution_count": 73,
   "metadata": {},
   "outputs": [
    {
     "name": "stdout",
     "output_type": "stream",
     "text": [
      "over_SVC :  0.03499889373779297 mem:  1.390625\n",
      "over_Rf :  0.22403907775878906 mem:  1.62890625\n"
     ]
    }
   ],
   "source": [
    "# SVC \n",
    "over_sampled_SVC = Pipeline([\n",
    "    ('preprocessor', preprocessor),\n",
    "    ('model', LinearSVC())\n",
    "])\n",
    "\n",
    "start = time.time()\n",
    "\n",
    "start_mem = psutil.Process().memory_info().rss / (1024 * 1024)\n",
    "\n",
    "over_sampled_SVC.fit(X_oversampled, y_oversampled)\n",
    "\n",
    "end = time.time()\n",
    "finished_mem = psutil.Process().memory_info().rss / (1024 * 1024)\n",
    "#  ======================\n",
    "\n",
    "svc_exec_time = end - start\n",
    "mem_used = finished_mem - start_mem\n",
    "\n",
    "print(\"over_SVC : \",svc_exec_time, \"mem: \",mem_used)\n",
    "\n",
    "trainin_time.append(svc_exec_time)\n",
    "memory_usage.append(mem_used)\n",
    "\n",
    "\n",
    "#  =========================================================\n",
    "\n",
    "# RF\n",
    "over_sampled_RF = Pipeline([\n",
    "    ('preprocessor', preprocessor),\n",
    "    ('model', RandomForestClassifier())\n",
    "])\n",
    "\n",
    "start = time.time()\n",
    "start_mem = psutil.Process().memory_info().rss / (1024 * 1024)\n",
    "\n",
    "over_sampled_RF.fit(X_oversampled, y_oversampled)\n",
    "\n",
    "end = time.time()\n",
    "finished_mem = psutil.Process().memory_info().rss / (1024 * 1024)\n",
    "#  ======================\n",
    "\n",
    "rf_exec_time = end - start\n",
    "mem_used = finished_mem - start_mem\n",
    "\n",
    "trainin_time.append(rf_exec_time)\n",
    "memory_usage.append(mem_used)\n",
    "print(\"over_Rf : \", rf_exec_time, \"mem: \", mem_used)\n",
    "#  =========================================================\n",
    "filename = 'models/over_svc.pkl'\n",
    "joblib.dump(over_sampled_SVC, open(filename, 'wb'))\n",
    "filename = 'models/over_rf.pkl'\n",
    "joblib.dump(over_sampled_RF, open(filename, 'wb'))\n"
   ]
  },
  {
   "cell_type": "code",
   "execution_count": null,
   "metadata": {},
   "outputs": [],
   "source": []
  },
  {
   "cell_type": "markdown",
   "metadata": {},
   "source": [
    "### Under-sampling"
   ]
  },
  {
   "cell_type": "code",
   "execution_count": 74,
   "metadata": {},
   "outputs": [
    {
     "name": "stdout",
     "output_type": "stream",
     "text": [
      "over sampled class distribution: [(0, 238), (1, 238)]\n"
     ]
    }
   ],
   "source": [
    "# under-sampling using random undersampling technique \n",
    "from imblearn.under_sampling import RandomUnderSampler\n",
    "\n",
    "rus = RandomUnderSampler(random_state=SEED)\n",
    "X_undersampled, y_undersampled = rus.fit_resample(X_train, y_train)\n",
    "\n",
    "print('over sampled class distribution:',sorted(Counter(y_undersampled).items()))\n"
   ]
  },
  {
   "cell_type": "code",
   "execution_count": 75,
   "metadata": {},
   "outputs": [],
   "source": [
    "# SVC\n",
    "under_sampled_SVC = Pipeline([\n",
    "    ('preprocessor', preprocessor),\n",
    "    ('model', LinearSVC())\n",
    "])\n",
    "\n",
    "start = time.time()\n",
    "start_mem = psutil.Process().memory_info().rss / (1024 * 1024)\n",
    "\n",
    "under_sampled_SVC.fit(X_undersampled, y_undersampled)\n",
    "\n",
    "end = time.time()\n",
    "finished_mem = psutil.Process().memory_info().rss / (1024 * 1024)\n",
    "\n",
    "#  ========================\n",
    "svc_exec_time = end - start\n",
    "mem_used = finished_mem - start_mem\n",
    "\n",
    "\n",
    "trainin_time.append(svc_exec_time)\n",
    "memory_usage.append(mem_used)\n",
    "\n",
    "#  =========================================================\n",
    "\n",
    "under_sampled_RF = Pipeline([\n",
    "    ('preprocessor', preprocessor),\n",
    "    ('model', RandomForestClassifier())\n",
    "])\n",
    "\n",
    "\n",
    "start = time.time()\n",
    "start_mem = psutil.Process().memory_info().rss / (1024 * 1024)\n",
    "\n",
    "under_sampled_RF.fit(X_undersampled, y_undersampled)\n",
    "\n",
    "end = time.time()\n",
    "finished_mem = psutil.Process().memory_info().rss / (1024 * 1024)\n",
    "#  ========================\n",
    "\n",
    "rf_exec_time = end - start\n",
    "mem_used = finished_mem - start_mem\n",
    "\n",
    "trainin_time.append(rf_exec_time)\n",
    "memory_usage.append(mem_used)\n",
    "\n",
    "\n",
    "#  =========================================================\n",
    "filename = 'models/under_svc.pkl'\n",
    "joblib.dump(under_sampled_SVC, open(filename, 'wb'))\n",
    "filename = 'models/under_rf.pkl'\n",
    "joblib.dump(under_sampled_RF, open(filename, 'wb'))\n"
   ]
  },
  {
   "cell_type": "markdown",
   "metadata": {},
   "source": [
    "### Normal dataset"
   ]
  },
  {
   "cell_type": "code",
   "execution_count": 76,
   "metadata": {},
   "outputs": [],
   "source": [
    "# SVC\n",
    "normal_SVC = Pipeline([\n",
    "    ('preprocessor', preprocessor),\n",
    "    ('model', LinearSVC())\n",
    "])\n",
    "\n",
    "\n",
    "start = time.time()\n",
    "start_mem = psutil.Process().memory_info().rss / (1024 * 1024)\n",
    "\n",
    "normal_SVC.fit(X_train, y_train)\n",
    "\n",
    "end = time.time()\n",
    "finished_mem = psutil.Process().memory_info().rss / (1024 * 1024)\n",
    "#  ========================\n",
    "svc_exec_time = end - start\n",
    "mem_used = finished_mem - start_mem\n",
    "\n",
    "trainin_time.append(svc_exec_time)\n",
    "memory_usage.append(mem_used)\n",
    "\n",
    "#  =========================================================\n",
    "# RF\n",
    "normal_RF = Pipeline([\n",
    "    ('preprocessor', preprocessor),\n",
    "    ('model', RandomForestClassifier())\n",
    "])\n",
    "\n",
    "start = time.time()\n",
    "start_mem = psutil.Process().memory_info().rss / (1024 * 1024)\n",
    "\n",
    "normal_RF.fit(X_train, y_train)\n",
    "\n",
    "end = time.time()\n",
    "finished_mem = psutil.Process().memory_info().rss / (1024 * 1024)\n",
    "#  ========================\n",
    "rf_exec_time = end - start\n",
    "mem_used = finished_mem - start_mem\n",
    "\n",
    "trainin_time.append(rf_exec_time)\n",
    "memory_usage.append(mem_used)\n",
    "\n",
    "#  =========================================================\n",
    "filename = 'models/normal_svc.pkl'\n",
    "joblib.dump(normal_SVC, open(filename, 'wb'))\n",
    "filename = 'models/normal_rf.pkl'\n",
    "joblib.dump(normal_RF, open(filename, 'wb'))\n"
   ]
  },
  {
   "cell_type": "markdown",
   "metadata": {},
   "source": [
    "### Evaluation"
   ]
  },
  {
   "cell_type": "markdown",
   "metadata": {},
   "source": [
    "Training Time"
   ]
  },
  {
   "cell_type": "code",
   "execution_count": 77,
   "metadata": {},
   "outputs": [
    {
     "data": {
      "text/plain": [
       "[1.390625, 1.62890625, 0.0234375, 0.3984375, 0.77734375, 1.96484375]"
      ]
     },
     "execution_count": 77,
     "metadata": {},
     "output_type": "execute_result"
    }
   ],
   "source": [
    "memory_usage"
   ]
  },
  {
   "cell_type": "markdown",
   "metadata": {},
   "source": [
    "Accuracy"
   ]
  },
  {
   "cell_type": "code",
   "execution_count": 78,
   "metadata": {},
   "outputs": [],
   "source": [
    "models = [over_sampled_SVC, over_sampled_RF, under_sampled_SVC, under_sampled_RF, normal_SVC, normal_RF]\n",
    "\n",
    "confusion_met = []\n",
    "false_negatives = []\n",
    "false_positives = []\n",
    "cls_specificity = []\n",
    "\n",
    "cls_acc = []\n",
    "cls_precision = []\n",
    "cls_recall = []\n",
    "cls_f1 = []\n",
    "\n",
    "test_time = []\n",
    "test_mem = []"
   ]
  },
  {
   "cell_type": "code",
   "execution_count": 79,
   "metadata": {},
   "outputs": [],
   "source": [
    "for model in models:\n",
    "    start = time.time()\n",
    "    start_mem = psutil.Process().memory_info().rss / (1024 * 1024)\n",
    "    \n",
    "    y_pred = model.predict(X_test)\n",
    "\n",
    "    end = time.time()\n",
    "    end_mem = psutil.Process().memory_info().rss / (1024 * 1024)\n",
    "    time_used = end - start\n",
    "    mem_used = end_mem - start_mem\n",
    "\n",
    "    test_time.append(time_used)\n",
    "    test_mem.append(mem_used)\n",
    "\n",
    "    accuracy = model.score(X_test, y_test)\n",
    "    cls_acc.append(accuracy)\n",
    "\n",
    "    score = precision_recall_fscore_support(y_test, y_pred, average='weighted')\n",
    "\n",
    "    cls_precision.append(score[0])\n",
    "    cls_recall.append(score[1])\n",
    "    cls_f1.append(score[2])\n",
    "   \n",
    "    confusion_met.append(classification_report(y_test, y_pred, target_names=['bad','good']))\n",
    "    TN, FP, FN, TP = confusion_matrix(y_test, y_pred).ravel()\n",
    "    false_negatives.append(int(FN))\n",
    "    false_positives.append(int(FP))\n",
    "    specificity = TN / (FP + TN)\n",
    "\n",
    "    cls_specificity.append(specificity)\n",
    "    \n"
   ]
  },
  {
   "cell_type": "code",
   "execution_count": 80,
   "metadata": {},
   "outputs": [
    {
     "name": "stdout",
     "output_type": "stream",
     "text": [
      "╒═════════════════╤═══════════════════╤═══════════════════╕\n",
      "│ Total instances │ Training instance │ Testing instances │\n",
      "├─────────────────┼───────────────────┼───────────────────┤\n",
      "│ 995             │ 796               │ 199               │\n",
      "╘═════════════════╧═══════════════════╧═══════════════════╛\n"
     ]
    }
   ],
   "source": [
    "\n",
    "info_tables = [['Total instances', 'Training instance', 'Testing instances'], [X.shape[0], X_train.shape[0], X_test.shape[0]]]\n",
    "\n",
    "print(tabulate(info_tables, tablefmt='fancy_grid'))\n"
   ]
  },
  {
   "cell_type": "code",
   "execution_count": 81,
   "metadata": {},
   "outputs": [
    {
     "name": "stdout",
     "output_type": "stream",
     "text": [
      "╒══════════════════════╤════════════╤═════════════╤══════════╤════════╤════════════════╤══════════════════╕\n",
      "│ Classifiers          │   Accuracy │   Precision │   Recall │     F1 │   Testing time │   Testing memory │\n",
      "╞══════════════════════╪════════════╪═════════════╪══════════╪════════╪════════════════╪══════════════════╡\n",
      "│ Over SVC             │     0.7286 │      0.7741 │   0.7286 │ 0.7393 │         0.0090 │           0.2695 │\n",
      "├──────────────────────┼────────────┼─────────────┼──────────┼────────┼────────────────┼──────────────────┤\n",
      "│ Over Random forest   │     0.7538 │      0.7429 │   0.7538 │ 0.7458 │         0.0190 │           0.1094 │\n",
      "├──────────────────────┼────────────┼─────────────┼──────────┼────────┼────────────────┼──────────────────┤\n",
      "│ Under SVC            │     0.7236 │      0.7547 │   0.7236 │ 0.7327 │         0.0060 │           0.0000 │\n",
      "├──────────────────────┼────────────┼─────────────┼──────────┼────────┼────────────────┼──────────────────┤\n",
      "│ Under Random forest  │     0.6935 │      0.7425 │   0.6935 │ 0.7057 │         0.0185 │           0.0000 │\n",
      "├──────────────────────┼────────────┼─────────────┼──────────┼────────┼────────────────┼──────────────────┤\n",
      "│ Normal SVC           │     0.7739 │      0.7672 │   0.7739 │ 0.7695 │         0.0060 │           0.0000 │\n",
      "├──────────────────────┼────────────┼─────────────┼──────────┼────────┼────────────────┼──────────────────┤\n",
      "│ Normal Random forest │     0.7688 │      0.7567 │   0.7688 │ 0.7485 │         0.0180 │           0.0000 │\n",
      "╘══════════════════════╧════════════╧═════════════╧══════════╧════════╧════════════════╧══════════════════╛\n"
     ]
    }
   ],
   "source": [
    "\n",
    "classifers = ['Over SVC', 'Over Random forest','Under SVC','Under Random forest', 'Normal SVC', 'Normal Random forest']\n",
    "\n",
    "tables = {\n",
    "    'Classifiers' : classifers,\n",
    "    'Accuracy' : cls_acc,\n",
    "    'Precision' : cls_precision,\n",
    "    'Recall' : cls_recall,\n",
    "    'F1' : cls_f1,\n",
    "    'Testing time' : test_time,\n",
    "    'Testing memory' : test_mem\n",
    "}\n",
    "print(tabulate(tables, headers='keys', tablefmt='fancy_grid', floatfmt=\".4f\"))\n"
   ]
  },
  {
   "cell_type": "code",
   "execution_count": 82,
   "metadata": {},
   "outputs": [
    {
     "name": "stdout",
     "output_type": "stream",
     "text": [
      "╒══════════════════════╤══════════════════════╤═════════════╤══════════╤═══════════════╕\n",
      "│ Classifiers          │   No. False Positive │   Precision │   Recall │   Specificity │\n",
      "╞══════════════════════╪══════════════════════╪═════════════╪══════════╪═══════════════╡\n",
      "│ Over SVC             │                   14 │      0.7741 │   0.7286 │        0.7627 │\n",
      "├──────────────────────┼──────────────────────┼─────────────┼──────────┼───────────────┤\n",
      "│ Over Random forest   │                   30 │      0.7429 │   0.7538 │        0.4915 │\n",
      "├──────────────────────┼──────────────────────┼─────────────┼──────────┼───────────────┤\n",
      "│ Under SVC            │                   18 │      0.7547 │   0.7236 │        0.6949 │\n",
      "├──────────────────────┼──────────────────────┼─────────────┼──────────┼───────────────┤\n",
      "│ Under Random forest  │                   17 │      0.7425 │   0.6935 │        0.7119 │\n",
      "├──────────────────────┼──────────────────────┼─────────────┼──────────┼───────────────┤\n",
      "│ Normal SVC           │                   26 │      0.7672 │   0.7739 │        0.5593 │\n",
      "├──────────────────────┼──────────────────────┼─────────────┼──────────┼───────────────┤\n",
      "│ Normal Random forest │                   35 │      0.7567 │   0.7688 │        0.4068 │\n",
      "╘══════════════════════╧══════════════════════╧═════════════╧══════════╧═══════════════╛\n"
     ]
    }
   ],
   "source": [
    "classifers = ['Over SVC', 'Over Random forest', 'Under SVC',\n",
    "              'Under Random forest', 'Normal SVC', 'Normal Random forest']\n",
    "\n",
    "false_positive_tables = {\n",
    "    'Classifiers': classifers,\n",
    "    'No. False Positive': false_positives,\n",
    "    'Precision': cls_precision,\n",
    "    'Recall': cls_recall,\n",
    "    'Specificity': cls_specificity\n",
    "}\n",
    "print(tabulate(false_positive_tables, headers='keys',\n",
    "      tablefmt='fancy_grid', floatfmt=\".4f\"))\n"
   ]
  },
  {
   "cell_type": "code",
   "execution_count": 83,
   "metadata": {},
   "outputs": [
    {
     "name": "stdout",
     "output_type": "stream",
     "text": [
      "Over SVC\n",
      "              precision    recall  f1-score   support\n",
      "\n",
      "         bad       0.53      0.76      0.62        59\n",
      "        good       0.88      0.71      0.79       140\n",
      "\n",
      "    accuracy                           0.73       199\n",
      "   macro avg       0.70      0.74      0.71       199\n",
      "weighted avg       0.77      0.73      0.74       199\n",
      " \n",
      "=====================================================\n",
      "Over Random forest\n",
      "              precision    recall  f1-score   support\n",
      "\n",
      "         bad       0.60      0.49      0.54        59\n",
      "        good       0.80      0.86      0.83       140\n",
      "\n",
      "    accuracy                           0.75       199\n",
      "   macro avg       0.70      0.68      0.69       199\n",
      "weighted avg       0.74      0.75      0.75       199\n",
      " \n",
      "=====================================================\n",
      "Under SVC\n",
      "              precision    recall  f1-score   support\n",
      "\n",
      "         bad       0.53      0.69      0.60        59\n",
      "        good       0.85      0.74      0.79       140\n",
      "\n",
      "    accuracy                           0.72       199\n",
      "   macro avg       0.69      0.72      0.69       199\n",
      "weighted avg       0.75      0.72      0.73       199\n",
      " \n",
      "=====================================================\n",
      "Under Random forest\n",
      "              precision    recall  f1-score   support\n",
      "\n",
      "         bad       0.49      0.71      0.58        59\n",
      "        good       0.85      0.69      0.76       140\n",
      "\n",
      "    accuracy                           0.69       199\n",
      "   macro avg       0.67      0.70      0.67       199\n",
      "weighted avg       0.74      0.69      0.71       199\n",
      " \n",
      "=====================================================\n",
      "Normal SVC\n",
      "              precision    recall  f1-score   support\n",
      "\n",
      "         bad       0.63      0.56      0.59        59\n",
      "        good       0.82      0.86      0.84       140\n",
      "\n",
      "    accuracy                           0.77       199\n",
      "   macro avg       0.73      0.71      0.72       199\n",
      "weighted avg       0.77      0.77      0.77       199\n",
      " \n",
      "=====================================================\n",
      "Normal Random forest\n",
      "              precision    recall  f1-score   support\n",
      "\n",
      "         bad       0.69      0.41      0.51        59\n",
      "        good       0.79      0.92      0.85       140\n",
      "\n",
      "    accuracy                           0.77       199\n",
      "   macro avg       0.74      0.66      0.68       199\n",
      "weighted avg       0.76      0.77      0.75       199\n",
      " \n",
      "=====================================================\n"
     ]
    }
   ],
   "source": [
    "for idx, cm in enumerate(confusion_met):\n",
    "    print(classifers[idx])\n",
    "    print(cm,'\\n=====================================================')\n"
   ]
  },
  {
   "cell_type": "code",
   "execution_count": null,
   "metadata": {},
   "outputs": [],
   "source": []
  }
 ],
 "metadata": {
  "kernelspec": {
   "display_name": "Python 3.9.7 ('base')",
   "language": "python",
   "name": "python3"
  },
  "language_info": {
   "codemirror_mode": {
    "name": "ipython",
    "version": 3
   },
   "file_extension": ".py",
   "mimetype": "text/x-python",
   "name": "python",
   "nbconvert_exporter": "python",
   "pygments_lexer": "ipython3",
   "version": "3.9.7"
  },
  "orig_nbformat": 4,
  "vscode": {
   "interpreter": {
    "hash": "d45d2df7a2dbc75d28d472319d9a14fda6edd2a44d03a120cd1876820c91c50f"
   }
  }
 },
 "nbformat": 4,
 "nbformat_minor": 2
}
