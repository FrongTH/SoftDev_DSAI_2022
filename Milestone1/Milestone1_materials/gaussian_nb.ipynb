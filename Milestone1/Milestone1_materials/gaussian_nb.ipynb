{
 "cells": [
  {
   "cell_type": "code",
   "execution_count": 1,
   "metadata": {},
   "outputs": [],
   "source": [
    "import pandas as pd\n",
    "from matplotlib import pyplot as plt\n",
    "import numpy as np\n",
    "import seaborn as sns"
   ]
  },
  {
   "cell_type": "code",
   "execution_count": 2,
   "metadata": {},
   "outputs": [
    {
     "name": "stdout",
     "output_type": "stream",
     "text": [
      " Volume in drive C has no label.\n",
      " Volume Serial Number is 6825-FA1F\n",
      "\n",
      " Directory of C:\\Users\\User\\Desktop\\data\n",
      "\n",
      "08/20/2022  02:55 PM    <DIR>          .\n",
      "08/20/2022  02:55 PM    <DIR>          ..\n",
      "08/18/2022  11:28 PM           103,000 german_data-numeric.txt\n",
      "08/18/2022  11:28 PM            80,793 german_data.txt\n",
      "               2 File(s)        183,793 bytes\n",
      "               2 Dir(s)  41,244,893,184 bytes free\n"
     ]
    }
   ],
   "source": [
    "!dir \"./data\""
   ]
  },
  {
   "cell_type": "code",
   "execution_count": 3,
   "metadata": {},
   "outputs": [],
   "source": [
    "# \"\"\"Description\n",
    "# Attribute 1: (qualitative)\n",
    "# Status of existing checking account\n",
    "# A11 : ... < 0 DM\n",
    "# A12 : 0 <= ... < 200 DM\n",
    "# A13 : ... >= 200 DM / salary assignments for at least 1 year\n",
    "# A14 : no checking account\n",
    "# _____________________________________________________________________________________________\n",
    "# Attribute 2: (numerical)\n",
    "# Duration in month\n",
    "# _____________________________________________________________________________________________\n",
    "# Attribute 3: (qualitative)\n",
    "# Credit history\n",
    "# A30 : no credits taken/ all credits paid back duly\n",
    "# A31 : all credits at this bank paid back duly\n",
    "# A32 : existing credits paid back duly till now\n",
    "# A33 : delay in paying off in the past\n",
    "# A34 : critical account/ other credits existing (not at this bank)\n",
    "# _____________________________________________________________________________________________\n",
    "# Attribute 4: (qualitative)\n",
    "# Purpose\n",
    "# A40 : car (new)\n",
    "# A41 : car (used)\n",
    "# A42 : furniture/equipment\n",
    "# A43 : radio/television\n",
    "# A44 : domestic appliances\n",
    "# A45 : repairs\n",
    "# A46 : education\n",
    "# A47 : (vacation - does not exist?)\n",
    "# A48 : retraining\n",
    "# A49 : business\n",
    "# A410 : others\n",
    "# _____________________________________________________________________________________________\n",
    "# Attribute 5: (numerical)\n",
    "# Credit amount\n",
    "# _____________________________________________________________________________________________\n",
    "# Attibute 6: (qualitative)\n",
    "# Savings account/bonds\n",
    "# A61 : ... < 100 DM\n",
    "# A62 : 100 <= ... < 500 DM\n",
    "# A63 : 500 <= ... < 1000 DM\n",
    "# A64 : .. >= 1000 DM\n",
    "# A65 : unknown/ no savings account\n",
    "# _____________________________________________________________________________________________\n",
    "# Attribute 7: (qualitative)\n",
    "# Present employment since\n",
    "# A71 : unemployed\n",
    "# A72 : ... < 1 year\n",
    "# A73 : 1 <= ... < 4 years\n",
    "# A74 : 4 <= ... < 7 years\n",
    "# A75 : .. >= 7 years\n",
    "# _____________________________________________________________________________________________\n",
    "# Attribute 8: (numerical)\n",
    "# Installment rate in percentage of disposable income\n",
    "# _____________________________________________________________________________________________\n",
    "# Attribute 9: (qualitative)\n",
    "# Personal status and sex\n",
    "# A91 : male : divorced/separated\n",
    "# A92 : female : divorced/separated/married\n",
    "# A93 : male : single\n",
    "# A94 : male : married/widowed\n",
    "# A95 : female : single\n",
    "# _____________________________________________________________________________________________\n",
    "# Attribute 10: (qualitative)\n",
    "# Other debtors / guarantors\n",
    "# A101 : none\n",
    "# A102 : co-applicant\n",
    "# A103 : guarantor\n",
    "# _____________________________________________________________________________________________\n",
    "# Attribute 11: (numerical)\n",
    "# Present residence since\n",
    "# _____________________________________________________________________________________________\n",
    "# Attribute 12: (qualitative)\n",
    "# Property\n",
    "# A121 : real estate\n",
    "# A122 : if not A121 : building society savings agreement/ life insurance\n",
    "# A123 : if not A121/A122 : car or other, not in attribute 6\n",
    "# A124 : unknown / no property\n",
    "# _____________________________________________________________________________________________\n",
    "# Attribute 13: (numerical)\n",
    "# Age in years\n",
    "# _____________________________________________________________________________________________\n",
    "# Attribute 14: (qualitative)\n",
    "# Other installment plans\n",
    "# A141 : bank\n",
    "# A142 : stores\n",
    "# A143 : none\n",
    "# _____________________________________________________________________________________________\n",
    "# Attribute 15: (qualitative)\n",
    "# Housing\n",
    "# A151 : rent\n",
    "# A152 : own\n",
    "# A153 : for free\n",
    "# _____________________________________________________________________________________________\n",
    "# Attribute 16: (numerical)\n",
    "# Number of existing credits at this bank\n",
    "# _____________________________________________________________________________________________\n",
    "# Attribute 17: (qualitative)\n",
    "# Job\n",
    "# A171 : unemployed/ unskilled - non-resident\n",
    "# A172 : unskilled - resident\n",
    "# A173 : skilled employee / official\n",
    "# A174 : management/ self-employed/\n",
    "# highly qualified employee/ officer\n",
    "# _____________________________________________________________________________________________\n",
    "# Attribute 18: (numerical)\n",
    "# Number of people being liable to provide maintenance for\n",
    "# _____________________________________________________________________________________________\n",
    "# Attribute 19: (qualitative)\n",
    "# Telephone\n",
    "# A191 : none\n",
    "# A192 : yes, registered under the customers name\n",
    "# _____________________________________________________________________________________________\n",
    "# Attribute 20: (qualitative)\n",
    "# foreign worker\n",
    "# A201 : yes\n",
    "# A202 : no\n",
    "# _____________________________________________________________________________________________\n",
    "# \"\"\""
   ]
  },
  {
   "cell_type": "code",
   "execution_count": 4,
   "metadata": {},
   "outputs": [
    {
     "data": {
      "text/html": [
       "<div>\n",
       "<style scoped>\n",
       "    .dataframe tbody tr th:only-of-type {\n",
       "        vertical-align: middle;\n",
       "    }\n",
       "\n",
       "    .dataframe tbody tr th {\n",
       "        vertical-align: top;\n",
       "    }\n",
       "\n",
       "    .dataframe thead th {\n",
       "        text-align: right;\n",
       "    }\n",
       "</style>\n",
       "<table border=\"1\" class=\"dataframe\">\n",
       "  <thead>\n",
       "    <tr style=\"text-align: right;\">\n",
       "      <th></th>\n",
       "      <th>Status of existing checking account</th>\n",
       "      <th>Duration in month</th>\n",
       "      <th>Credit history</th>\n",
       "      <th>Purpose</th>\n",
       "      <th>Credit amount</th>\n",
       "      <th>Savings account/bonds</th>\n",
       "      <th>Present employment since</th>\n",
       "      <th>Installment rate in percentage of disposable income</th>\n",
       "      <th>Personal status and sex</th>\n",
       "      <th>Other debtors / guarantors</th>\n",
       "      <th>...</th>\n",
       "      <th>Property</th>\n",
       "      <th>Age in years</th>\n",
       "      <th>Other installment plans</th>\n",
       "      <th>Housing</th>\n",
       "      <th>Number of existing credits at this bank</th>\n",
       "      <th>Job</th>\n",
       "      <th>Number of people being liable to provide maintenance for</th>\n",
       "      <th>Telephone</th>\n",
       "      <th>foreign worker</th>\n",
       "      <th>actual classification</th>\n",
       "    </tr>\n",
       "  </thead>\n",
       "  <tbody>\n",
       "    <tr>\n",
       "      <th>0</th>\n",
       "      <td>A11</td>\n",
       "      <td>6</td>\n",
       "      <td>A34</td>\n",
       "      <td>A43</td>\n",
       "      <td>1169</td>\n",
       "      <td>A65</td>\n",
       "      <td>A75</td>\n",
       "      <td>4</td>\n",
       "      <td>A93</td>\n",
       "      <td>A101</td>\n",
       "      <td>...</td>\n",
       "      <td>A121</td>\n",
       "      <td>67</td>\n",
       "      <td>A143</td>\n",
       "      <td>A152</td>\n",
       "      <td>2</td>\n",
       "      <td>A173</td>\n",
       "      <td>1</td>\n",
       "      <td>A192</td>\n",
       "      <td>A201</td>\n",
       "      <td>1</td>\n",
       "    </tr>\n",
       "    <tr>\n",
       "      <th>1</th>\n",
       "      <td>A12</td>\n",
       "      <td>48</td>\n",
       "      <td>A32</td>\n",
       "      <td>A43</td>\n",
       "      <td>5951</td>\n",
       "      <td>A61</td>\n",
       "      <td>A73</td>\n",
       "      <td>2</td>\n",
       "      <td>A92</td>\n",
       "      <td>A101</td>\n",
       "      <td>...</td>\n",
       "      <td>A121</td>\n",
       "      <td>22</td>\n",
       "      <td>A143</td>\n",
       "      <td>A152</td>\n",
       "      <td>1</td>\n",
       "      <td>A173</td>\n",
       "      <td>1</td>\n",
       "      <td>A191</td>\n",
       "      <td>A201</td>\n",
       "      <td>2</td>\n",
       "    </tr>\n",
       "    <tr>\n",
       "      <th>2</th>\n",
       "      <td>A14</td>\n",
       "      <td>12</td>\n",
       "      <td>A34</td>\n",
       "      <td>A46</td>\n",
       "      <td>2096</td>\n",
       "      <td>A61</td>\n",
       "      <td>A74</td>\n",
       "      <td>2</td>\n",
       "      <td>A93</td>\n",
       "      <td>A101</td>\n",
       "      <td>...</td>\n",
       "      <td>A121</td>\n",
       "      <td>49</td>\n",
       "      <td>A143</td>\n",
       "      <td>A152</td>\n",
       "      <td>1</td>\n",
       "      <td>A172</td>\n",
       "      <td>2</td>\n",
       "      <td>A191</td>\n",
       "      <td>A201</td>\n",
       "      <td>1</td>\n",
       "    </tr>\n",
       "    <tr>\n",
       "      <th>3</th>\n",
       "      <td>A11</td>\n",
       "      <td>42</td>\n",
       "      <td>A32</td>\n",
       "      <td>A42</td>\n",
       "      <td>7882</td>\n",
       "      <td>A61</td>\n",
       "      <td>A74</td>\n",
       "      <td>2</td>\n",
       "      <td>A93</td>\n",
       "      <td>A103</td>\n",
       "      <td>...</td>\n",
       "      <td>A122</td>\n",
       "      <td>45</td>\n",
       "      <td>A143</td>\n",
       "      <td>A153</td>\n",
       "      <td>1</td>\n",
       "      <td>A173</td>\n",
       "      <td>2</td>\n",
       "      <td>A191</td>\n",
       "      <td>A201</td>\n",
       "      <td>1</td>\n",
       "    </tr>\n",
       "    <tr>\n",
       "      <th>4</th>\n",
       "      <td>A11</td>\n",
       "      <td>24</td>\n",
       "      <td>A33</td>\n",
       "      <td>A40</td>\n",
       "      <td>4870</td>\n",
       "      <td>A61</td>\n",
       "      <td>A73</td>\n",
       "      <td>3</td>\n",
       "      <td>A93</td>\n",
       "      <td>A101</td>\n",
       "      <td>...</td>\n",
       "      <td>A124</td>\n",
       "      <td>53</td>\n",
       "      <td>A143</td>\n",
       "      <td>A153</td>\n",
       "      <td>2</td>\n",
       "      <td>A173</td>\n",
       "      <td>2</td>\n",
       "      <td>A191</td>\n",
       "      <td>A201</td>\n",
       "      <td>2</td>\n",
       "    </tr>\n",
       "    <tr>\n",
       "      <th>...</th>\n",
       "      <td>...</td>\n",
       "      <td>...</td>\n",
       "      <td>...</td>\n",
       "      <td>...</td>\n",
       "      <td>...</td>\n",
       "      <td>...</td>\n",
       "      <td>...</td>\n",
       "      <td>...</td>\n",
       "      <td>...</td>\n",
       "      <td>...</td>\n",
       "      <td>...</td>\n",
       "      <td>...</td>\n",
       "      <td>...</td>\n",
       "      <td>...</td>\n",
       "      <td>...</td>\n",
       "      <td>...</td>\n",
       "      <td>...</td>\n",
       "      <td>...</td>\n",
       "      <td>...</td>\n",
       "      <td>...</td>\n",
       "      <td>...</td>\n",
       "    </tr>\n",
       "    <tr>\n",
       "      <th>995</th>\n",
       "      <td>A14</td>\n",
       "      <td>12</td>\n",
       "      <td>A32</td>\n",
       "      <td>A42</td>\n",
       "      <td>1736</td>\n",
       "      <td>A61</td>\n",
       "      <td>A74</td>\n",
       "      <td>3</td>\n",
       "      <td>A92</td>\n",
       "      <td>A101</td>\n",
       "      <td>...</td>\n",
       "      <td>A121</td>\n",
       "      <td>31</td>\n",
       "      <td>A143</td>\n",
       "      <td>A152</td>\n",
       "      <td>1</td>\n",
       "      <td>A172</td>\n",
       "      <td>1</td>\n",
       "      <td>A191</td>\n",
       "      <td>A201</td>\n",
       "      <td>1</td>\n",
       "    </tr>\n",
       "    <tr>\n",
       "      <th>996</th>\n",
       "      <td>A11</td>\n",
       "      <td>30</td>\n",
       "      <td>A32</td>\n",
       "      <td>A41</td>\n",
       "      <td>3857</td>\n",
       "      <td>A61</td>\n",
       "      <td>A73</td>\n",
       "      <td>4</td>\n",
       "      <td>A91</td>\n",
       "      <td>A101</td>\n",
       "      <td>...</td>\n",
       "      <td>A122</td>\n",
       "      <td>40</td>\n",
       "      <td>A143</td>\n",
       "      <td>A152</td>\n",
       "      <td>1</td>\n",
       "      <td>A174</td>\n",
       "      <td>1</td>\n",
       "      <td>A192</td>\n",
       "      <td>A201</td>\n",
       "      <td>1</td>\n",
       "    </tr>\n",
       "    <tr>\n",
       "      <th>997</th>\n",
       "      <td>A14</td>\n",
       "      <td>12</td>\n",
       "      <td>A32</td>\n",
       "      <td>A43</td>\n",
       "      <td>804</td>\n",
       "      <td>A61</td>\n",
       "      <td>A75</td>\n",
       "      <td>4</td>\n",
       "      <td>A93</td>\n",
       "      <td>A101</td>\n",
       "      <td>...</td>\n",
       "      <td>A123</td>\n",
       "      <td>38</td>\n",
       "      <td>A143</td>\n",
       "      <td>A152</td>\n",
       "      <td>1</td>\n",
       "      <td>A173</td>\n",
       "      <td>1</td>\n",
       "      <td>A191</td>\n",
       "      <td>A201</td>\n",
       "      <td>1</td>\n",
       "    </tr>\n",
       "    <tr>\n",
       "      <th>998</th>\n",
       "      <td>A11</td>\n",
       "      <td>45</td>\n",
       "      <td>A32</td>\n",
       "      <td>A43</td>\n",
       "      <td>1845</td>\n",
       "      <td>A61</td>\n",
       "      <td>A73</td>\n",
       "      <td>4</td>\n",
       "      <td>A93</td>\n",
       "      <td>A101</td>\n",
       "      <td>...</td>\n",
       "      <td>A124</td>\n",
       "      <td>23</td>\n",
       "      <td>A143</td>\n",
       "      <td>A153</td>\n",
       "      <td>1</td>\n",
       "      <td>A173</td>\n",
       "      <td>1</td>\n",
       "      <td>A192</td>\n",
       "      <td>A201</td>\n",
       "      <td>2</td>\n",
       "    </tr>\n",
       "    <tr>\n",
       "      <th>999</th>\n",
       "      <td>A12</td>\n",
       "      <td>45</td>\n",
       "      <td>A34</td>\n",
       "      <td>A41</td>\n",
       "      <td>4576</td>\n",
       "      <td>A62</td>\n",
       "      <td>A71</td>\n",
       "      <td>3</td>\n",
       "      <td>A93</td>\n",
       "      <td>A101</td>\n",
       "      <td>...</td>\n",
       "      <td>A123</td>\n",
       "      <td>27</td>\n",
       "      <td>A143</td>\n",
       "      <td>A152</td>\n",
       "      <td>1</td>\n",
       "      <td>A173</td>\n",
       "      <td>1</td>\n",
       "      <td>A191</td>\n",
       "      <td>A201</td>\n",
       "      <td>1</td>\n",
       "    </tr>\n",
       "  </tbody>\n",
       "</table>\n",
       "<p>1000 rows × 21 columns</p>\n",
       "</div>"
      ],
      "text/plain": [
       "    Status of existing checking account  Duration in month Credit history  \\\n",
       "0                                   A11                  6            A34   \n",
       "1                                   A12                 48            A32   \n",
       "2                                   A14                 12            A34   \n",
       "3                                   A11                 42            A32   \n",
       "4                                   A11                 24            A33   \n",
       "..                                  ...                ...            ...   \n",
       "995                                 A14                 12            A32   \n",
       "996                                 A11                 30            A32   \n",
       "997                                 A14                 12            A32   \n",
       "998                                 A11                 45            A32   \n",
       "999                                 A12                 45            A34   \n",
       "\n",
       "    Purpose  Credit amount Savings account/bonds Present employment since  \\\n",
       "0       A43           1169                   A65                      A75   \n",
       "1       A43           5951                   A61                      A73   \n",
       "2       A46           2096                   A61                      A74   \n",
       "3       A42           7882                   A61                      A74   \n",
       "4       A40           4870                   A61                      A73   \n",
       "..      ...            ...                   ...                      ...   \n",
       "995     A42           1736                   A61                      A74   \n",
       "996     A41           3857                   A61                      A73   \n",
       "997     A43            804                   A61                      A75   \n",
       "998     A43           1845                   A61                      A73   \n",
       "999     A41           4576                   A62                      A71   \n",
       "\n",
       "     Installment rate in percentage of disposable income  \\\n",
       "0                                                    4     \n",
       "1                                                    2     \n",
       "2                                                    2     \n",
       "3                                                    2     \n",
       "4                                                    3     \n",
       "..                                                 ...     \n",
       "995                                                  3     \n",
       "996                                                  4     \n",
       "997                                                  4     \n",
       "998                                                  4     \n",
       "999                                                  3     \n",
       "\n",
       "    Personal status and sex Other debtors / guarantors  ...  Property  \\\n",
       "0                       A93                       A101  ...      A121   \n",
       "1                       A92                       A101  ...      A121   \n",
       "2                       A93                       A101  ...      A121   \n",
       "3                       A93                       A103  ...      A122   \n",
       "4                       A93                       A101  ...      A124   \n",
       "..                      ...                        ...  ...       ...   \n",
       "995                     A92                       A101  ...      A121   \n",
       "996                     A91                       A101  ...      A122   \n",
       "997                     A93                       A101  ...      A123   \n",
       "998                     A93                       A101  ...      A124   \n",
       "999                     A93                       A101  ...      A123   \n",
       "\n",
       "    Age in years  Other installment plans Housing  \\\n",
       "0             67                     A143    A152   \n",
       "1             22                     A143    A152   \n",
       "2             49                     A143    A152   \n",
       "3             45                     A143    A153   \n",
       "4             53                     A143    A153   \n",
       "..           ...                      ...     ...   \n",
       "995           31                     A143    A152   \n",
       "996           40                     A143    A152   \n",
       "997           38                     A143    A152   \n",
       "998           23                     A143    A153   \n",
       "999           27                     A143    A152   \n",
       "\n",
       "    Number of existing credits at this bank   Job  \\\n",
       "0                                         2  A173   \n",
       "1                                         1  A173   \n",
       "2                                         1  A172   \n",
       "3                                         1  A173   \n",
       "4                                         2  A173   \n",
       "..                                      ...   ...   \n",
       "995                                       1  A172   \n",
       "996                                       1  A174   \n",
       "997                                       1  A173   \n",
       "998                                       1  A173   \n",
       "999                                       1  A173   \n",
       "\n",
       "    Number of people being liable to provide maintenance for  Telephone  \\\n",
       "0                                                    1             A192   \n",
       "1                                                    1             A191   \n",
       "2                                                    2             A191   \n",
       "3                                                    2             A191   \n",
       "4                                                    2             A191   \n",
       "..                                                 ...              ...   \n",
       "995                                                  1             A191   \n",
       "996                                                  1             A192   \n",
       "997                                                  1             A191   \n",
       "998                                                  1             A192   \n",
       "999                                                  1             A191   \n",
       "\n",
       "    foreign worker actual classification  \n",
       "0             A201                     1  \n",
       "1             A201                     2  \n",
       "2             A201                     1  \n",
       "3             A201                     1  \n",
       "4             A201                     2  \n",
       "..             ...                   ...  \n",
       "995           A201                     1  \n",
       "996           A201                     1  \n",
       "997           A201                     1  \n",
       "998           A201                     2  \n",
       "999           A201                     1  \n",
       "\n",
       "[1000 rows x 21 columns]"
      ]
     },
     "execution_count": 4,
     "metadata": {},
     "output_type": "execute_result"
    }
   ],
   "source": [
    "#data link https://archive.ics.uci.edu/ml/datasets/Statlog+%28German+Credit+Data%29\n",
    "header_column = [\"Status of existing checking account\",\n",
    "                \"Duration in month\",\n",
    "                \"Credit history\",\n",
    "                \"Purpose\",\n",
    "                \"Credit amount\",\n",
    "                \"Savings account/bonds\",\n",
    "                \"Present employment since\",\n",
    "                \"Installment rate in percentage of disposable income\",\n",
    "                \"Personal status and sex\",\n",
    "                \"Other debtors / guarantors\",\n",
    "                \"Present residence since\",\n",
    "                \"Property\",\n",
    "                \"Age in years\",\n",
    "                \"Other installment plans\",\n",
    "                \"Housing\",\n",
    "                \"Number of existing credits at this bank\",\n",
    "                \"Job\",\n",
    "                \"Number of people being liable to provide maintenance for\",\n",
    "                \"Telephone\",\n",
    "                \"foreign worker\",\n",
    "                \"actual classification\"]\n",
    "\n",
    "data = pd.read_csv(\"./data/german_data.txt\", sep = \" \", names = header_column)\n",
    "df = pd.DataFrame(data = data, index = [i for i in range(0,1000)])\n",
    "df\n",
    "# print(data)"
   ]
  },
  {
   "cell_type": "code",
   "execution_count": 5,
   "metadata": {},
   "outputs": [
    {
     "name": "stderr",
     "output_type": "stream",
     "text": [
      "<ipython-input-5-9041a36b5ecb>:3: SettingWithCopyWarning: \n",
      "A value is trying to be set on a copy of a slice from a DataFrame\n",
      "\n",
      "See the caveats in the documentation: https://pandas.pydata.org/pandas-docs/stable/user_guide/indexing.html#returning-a-view-versus-a-copy\n",
      "  df[\"Status of existing checking account\"][index] = 1\n",
      "<ipython-input-5-9041a36b5ecb>:5: SettingWithCopyWarning: \n",
      "A value is trying to be set on a copy of a slice from a DataFrame\n",
      "\n",
      "See the caveats in the documentation: https://pandas.pydata.org/pandas-docs/stable/user_guide/indexing.html#returning-a-view-versus-a-copy\n",
      "  df[\"Status of existing checking account\"][index] = 2\n",
      "<ipython-input-5-9041a36b5ecb>:9: SettingWithCopyWarning: \n",
      "A value is trying to be set on a copy of a slice from a DataFrame\n",
      "\n",
      "See the caveats in the documentation: https://pandas.pydata.org/pandas-docs/stable/user_guide/indexing.html#returning-a-view-versus-a-copy\n",
      "  df[\"Status of existing checking account\"][index] = 4\n",
      "<ipython-input-5-9041a36b5ecb>:7: SettingWithCopyWarning: \n",
      "A value is trying to be set on a copy of a slice from a DataFrame\n",
      "\n",
      "See the caveats in the documentation: https://pandas.pydata.org/pandas-docs/stable/user_guide/indexing.html#returning-a-view-versus-a-copy\n",
      "  df[\"Status of existing checking account\"][index] = 3\n"
     ]
    }
   ],
   "source": [
    "for index, data in enumerate(df[\"Status of existing checking account\"]):\n",
    "    if data == \"A11\":\n",
    "        df[\"Status of existing checking account\"][index] = 1\n",
    "    elif data == \"A12\":\n",
    "        df[\"Status of existing checking account\"][index] = 2\n",
    "    elif data == \"A13\":\n",
    "        df[\"Status of existing checking account\"][index] = 3\n",
    "    elif data == \"A14\":\n",
    "        df[\"Status of existing checking account\"][index] = 4\n",
    "    else:\n",
    "        continue"
   ]
  },
  {
   "cell_type": "code",
   "execution_count": 6,
   "metadata": {},
   "outputs": [
    {
     "name": "stderr",
     "output_type": "stream",
     "text": [
      "<ipython-input-6-0749d28feec2>:11: SettingWithCopyWarning: \n",
      "A value is trying to be set on a copy of a slice from a DataFrame\n",
      "\n",
      "See the caveats in the documentation: https://pandas.pydata.org/pandas-docs/stable/user_guide/indexing.html#returning-a-view-versus-a-copy\n",
      "  df[\"Credit history\"][index] = 5\n",
      "<ipython-input-6-0749d28feec2>:7: SettingWithCopyWarning: \n",
      "A value is trying to be set on a copy of a slice from a DataFrame\n",
      "\n",
      "See the caveats in the documentation: https://pandas.pydata.org/pandas-docs/stable/user_guide/indexing.html#returning-a-view-versus-a-copy\n",
      "  df[\"Credit history\"][index] = 3\n",
      "<ipython-input-6-0749d28feec2>:9: SettingWithCopyWarning: \n",
      "A value is trying to be set on a copy of a slice from a DataFrame\n",
      "\n",
      "See the caveats in the documentation: https://pandas.pydata.org/pandas-docs/stable/user_guide/indexing.html#returning-a-view-versus-a-copy\n",
      "  df[\"Credit history\"][index] = 4\n",
      "<ipython-input-6-0749d28feec2>:3: SettingWithCopyWarning: \n",
      "A value is trying to be set on a copy of a slice from a DataFrame\n",
      "\n",
      "See the caveats in the documentation: https://pandas.pydata.org/pandas-docs/stable/user_guide/indexing.html#returning-a-view-versus-a-copy\n",
      "  df[\"Credit history\"][index] = 1\n",
      "<ipython-input-6-0749d28feec2>:5: SettingWithCopyWarning: \n",
      "A value is trying to be set on a copy of a slice from a DataFrame\n",
      "\n",
      "See the caveats in the documentation: https://pandas.pydata.org/pandas-docs/stable/user_guide/indexing.html#returning-a-view-versus-a-copy\n",
      "  df[\"Credit history\"][index] = 2\n"
     ]
    }
   ],
   "source": [
    "for index, data in enumerate(df[\"Credit history\"]):\n",
    "    if data == \"A30\":\n",
    "        df[\"Credit history\"][index] = 1\n",
    "    elif data == \"A31\":\n",
    "        df[\"Credit history\"][index] = 2\n",
    "    elif data == \"A32\":\n",
    "       df[\"Credit history\"][index] = 3\n",
    "    elif data == \"A33\":\n",
    "        df[\"Credit history\"][index] = 4\n",
    "    elif data == \"A34\":\n",
    "        df[\"Credit history\"][index] = 5\n",
    "    else:\n",
    "        continue"
   ]
  },
  {
   "cell_type": "code",
   "execution_count": 7,
   "metadata": {},
   "outputs": [
    {
     "name": "stderr",
     "output_type": "stream",
     "text": [
      "<ipython-input-7-6b36064578ee>:9: SettingWithCopyWarning: \n",
      "A value is trying to be set on a copy of a slice from a DataFrame\n",
      "\n",
      "See the caveats in the documentation: https://pandas.pydata.org/pandas-docs/stable/user_guide/indexing.html#returning-a-view-versus-a-copy\n",
      "  df[\"Purpose\"][index] = 4\n",
      "<ipython-input-7-6b36064578ee>:15: SettingWithCopyWarning: \n",
      "A value is trying to be set on a copy of a slice from a DataFrame\n",
      "\n",
      "See the caveats in the documentation: https://pandas.pydata.org/pandas-docs/stable/user_guide/indexing.html#returning-a-view-versus-a-copy\n",
      "  df[\"Purpose\"][index] = 7\n",
      "<ipython-input-7-6b36064578ee>:7: SettingWithCopyWarning: \n",
      "A value is trying to be set on a copy of a slice from a DataFrame\n",
      "\n",
      "See the caveats in the documentation: https://pandas.pydata.org/pandas-docs/stable/user_guide/indexing.html#returning-a-view-versus-a-copy\n",
      "  df[\"Purpose\"][index] = 3\n",
      "<ipython-input-7-6b36064578ee>:3: SettingWithCopyWarning: \n",
      "A value is trying to be set on a copy of a slice from a DataFrame\n",
      "\n",
      "See the caveats in the documentation: https://pandas.pydata.org/pandas-docs/stable/user_guide/indexing.html#returning-a-view-versus-a-copy\n",
      "  df[\"Purpose\"][index] = 1\n",
      "<ipython-input-7-6b36064578ee>:5: SettingWithCopyWarning: \n",
      "A value is trying to be set on a copy of a slice from a DataFrame\n",
      "\n",
      "See the caveats in the documentation: https://pandas.pydata.org/pandas-docs/stable/user_guide/indexing.html#returning-a-view-versus-a-copy\n",
      "  df[\"Purpose\"][index] = 2\n",
      "<ipython-input-7-6b36064578ee>:21: SettingWithCopyWarning: \n",
      "A value is trying to be set on a copy of a slice from a DataFrame\n",
      "\n",
      "See the caveats in the documentation: https://pandas.pydata.org/pandas-docs/stable/user_guide/indexing.html#returning-a-view-versus-a-copy\n",
      "  df[\"Purpose\"][index] = 10\n",
      "<ipython-input-7-6b36064578ee>:11: SettingWithCopyWarning: \n",
      "A value is trying to be set on a copy of a slice from a DataFrame\n",
      "\n",
      "See the caveats in the documentation: https://pandas.pydata.org/pandas-docs/stable/user_guide/indexing.html#returning-a-view-versus-a-copy\n",
      "  df[\"Purpose\"][index] = 5\n",
      "<ipython-input-7-6b36064578ee>:13: SettingWithCopyWarning: \n",
      "A value is trying to be set on a copy of a slice from a DataFrame\n",
      "\n",
      "See the caveats in the documentation: https://pandas.pydata.org/pandas-docs/stable/user_guide/indexing.html#returning-a-view-versus-a-copy\n",
      "  df[\"Purpose\"][index] = 6\n",
      "<ipython-input-7-6b36064578ee>:23: SettingWithCopyWarning: \n",
      "A value is trying to be set on a copy of a slice from a DataFrame\n",
      "\n",
      "See the caveats in the documentation: https://pandas.pydata.org/pandas-docs/stable/user_guide/indexing.html#returning-a-view-versus-a-copy\n",
      "  df[\"Purpose\"][index] = 11\n",
      "<ipython-input-7-6b36064578ee>:19: SettingWithCopyWarning: \n",
      "A value is trying to be set on a copy of a slice from a DataFrame\n",
      "\n",
      "See the caveats in the documentation: https://pandas.pydata.org/pandas-docs/stable/user_guide/indexing.html#returning-a-view-versus-a-copy\n",
      "  df[\"Purpose\"][index] = 9\n"
     ]
    }
   ],
   "source": [
    "for index, data in enumerate(df[\"Purpose\"]):\n",
    "    if data == \"A40\":\n",
    "        df[\"Purpose\"][index] = 1\n",
    "    elif data == \"A41\":\n",
    "        df[\"Purpose\"][index] = 2\n",
    "    elif data == \"A42\":\n",
    "       df[\"Purpose\"][index] = 3\n",
    "    elif data == \"A43\":\n",
    "        df[\"Purpose\"][index] = 4\n",
    "    elif data == \"A44\":\n",
    "        df[\"Purpose\"][index] = 5\n",
    "    elif data == \"A45\":\n",
    "        df[\"Purpose\"][index] = 6\n",
    "    elif data == \"A46\":\n",
    "        df[\"Purpose\"][index] = 7\n",
    "    elif data == \"A47\":\n",
    "        df[\"Purpose\"][index] = 8\n",
    "    elif data == \"A48\":\n",
    "        df[\"Purpose\"][index] = 9\n",
    "    elif data == \"A49\":\n",
    "        df[\"Purpose\"][index] = 10\n",
    "    elif data == \"A410\":\n",
    "        df[\"Purpose\"][index] = 11\n",
    "    else:\n",
    "        continue"
   ]
  },
  {
   "cell_type": "code",
   "execution_count": 8,
   "metadata": {},
   "outputs": [
    {
     "name": "stderr",
     "output_type": "stream",
     "text": [
      "<ipython-input-8-a6e3148ba10c>:11: SettingWithCopyWarning: \n",
      "A value is trying to be set on a copy of a slice from a DataFrame\n",
      "\n",
      "See the caveats in the documentation: https://pandas.pydata.org/pandas-docs/stable/user_guide/indexing.html#returning-a-view-versus-a-copy\n",
      "  df[\"Savings account/bonds\"][index] = 5\n",
      "<ipython-input-8-a6e3148ba10c>:3: SettingWithCopyWarning: \n",
      "A value is trying to be set on a copy of a slice from a DataFrame\n",
      "\n",
      "See the caveats in the documentation: https://pandas.pydata.org/pandas-docs/stable/user_guide/indexing.html#returning-a-view-versus-a-copy\n",
      "  df[\"Savings account/bonds\"][index] = 1\n",
      "<ipython-input-8-a6e3148ba10c>:7: SettingWithCopyWarning: \n",
      "A value is trying to be set on a copy of a slice from a DataFrame\n",
      "\n",
      "See the caveats in the documentation: https://pandas.pydata.org/pandas-docs/stable/user_guide/indexing.html#returning-a-view-versus-a-copy\n",
      "  df[\"Savings account/bonds\"][index] = 3\n",
      "<ipython-input-8-a6e3148ba10c>:9: SettingWithCopyWarning: \n",
      "A value is trying to be set on a copy of a slice from a DataFrame\n",
      "\n",
      "See the caveats in the documentation: https://pandas.pydata.org/pandas-docs/stable/user_guide/indexing.html#returning-a-view-versus-a-copy\n",
      "  df[\"Savings account/bonds\"][index] = 4\n",
      "<ipython-input-8-a6e3148ba10c>:5: SettingWithCopyWarning: \n",
      "A value is trying to be set on a copy of a slice from a DataFrame\n",
      "\n",
      "See the caveats in the documentation: https://pandas.pydata.org/pandas-docs/stable/user_guide/indexing.html#returning-a-view-versus-a-copy\n",
      "  df[\"Savings account/bonds\"][index] = 2\n"
     ]
    }
   ],
   "source": [
    "for index, data in enumerate(df[\"Savings account/bonds\"]):\n",
    "    if data == \"A61\":\n",
    "        df[\"Savings account/bonds\"][index] = 1\n",
    "    elif data == \"A62\":\n",
    "        df[\"Savings account/bonds\"][index] = 2\n",
    "    elif data == \"A63\":\n",
    "       df[\"Savings account/bonds\"][index] = 3\n",
    "    elif data == \"A64\":\n",
    "        df[\"Savings account/bonds\"][index] = 4\n",
    "    elif data == \"A65\":\n",
    "        df[\"Savings account/bonds\"][index] = 5\n",
    "    else:\n",
    "        continue"
   ]
  },
  {
   "cell_type": "code",
   "execution_count": 9,
   "metadata": {},
   "outputs": [
    {
     "name": "stderr",
     "output_type": "stream",
     "text": [
      "<ipython-input-9-a07de19b2aae>:11: SettingWithCopyWarning: \n",
      "A value is trying to be set on a copy of a slice from a DataFrame\n",
      "\n",
      "See the caveats in the documentation: https://pandas.pydata.org/pandas-docs/stable/user_guide/indexing.html#returning-a-view-versus-a-copy\n",
      "  df[\"Present employment since\"][index] = 5\n",
      "<ipython-input-9-a07de19b2aae>:7: SettingWithCopyWarning: \n",
      "A value is trying to be set on a copy of a slice from a DataFrame\n",
      "\n",
      "See the caveats in the documentation: https://pandas.pydata.org/pandas-docs/stable/user_guide/indexing.html#returning-a-view-versus-a-copy\n",
      "  df[\"Present employment since\"][index] = 3\n",
      "<ipython-input-9-a07de19b2aae>:9: SettingWithCopyWarning: \n",
      "A value is trying to be set on a copy of a slice from a DataFrame\n",
      "\n",
      "See the caveats in the documentation: https://pandas.pydata.org/pandas-docs/stable/user_guide/indexing.html#returning-a-view-versus-a-copy\n",
      "  df[\"Present employment since\"][index] = 4\n",
      "<ipython-input-9-a07de19b2aae>:3: SettingWithCopyWarning: \n",
      "A value is trying to be set on a copy of a slice from a DataFrame\n",
      "\n",
      "See the caveats in the documentation: https://pandas.pydata.org/pandas-docs/stable/user_guide/indexing.html#returning-a-view-versus-a-copy\n",
      "  df[\"Present employment since\"][index] = 1\n",
      "<ipython-input-9-a07de19b2aae>:5: SettingWithCopyWarning: \n",
      "A value is trying to be set on a copy of a slice from a DataFrame\n",
      "\n",
      "See the caveats in the documentation: https://pandas.pydata.org/pandas-docs/stable/user_guide/indexing.html#returning-a-view-versus-a-copy\n",
      "  df[\"Present employment since\"][index] = 2\n"
     ]
    }
   ],
   "source": [
    "for index, data in enumerate(df[\"Present employment since\"]):\n",
    "    if data == \"A71\":\n",
    "        df[\"Present employment since\"][index] = 1\n",
    "    elif data == \"A72\":\n",
    "        df[\"Present employment since\"][index] = 2\n",
    "    elif data == \"A73\":\n",
    "       df[\"Present employment since\"][index] = 3\n",
    "    elif data == \"A74\":\n",
    "        df[\"Present employment since\"][index] = 4\n",
    "    elif data == \"A75\":\n",
    "        df[\"Present employment since\"][index] = 5\n",
    "    else:\n",
    "        continue"
   ]
  },
  {
   "cell_type": "code",
   "execution_count": 10,
   "metadata": {},
   "outputs": [
    {
     "name": "stderr",
     "output_type": "stream",
     "text": [
      "<ipython-input-10-24fcd58b85fa>:7: SettingWithCopyWarning: \n",
      "A value is trying to be set on a copy of a slice from a DataFrame\n",
      "\n",
      "See the caveats in the documentation: https://pandas.pydata.org/pandas-docs/stable/user_guide/indexing.html#returning-a-view-versus-a-copy\n",
      "  df[\"Personal status and sex\"][index] = 3\n",
      "<ipython-input-10-24fcd58b85fa>:5: SettingWithCopyWarning: \n",
      "A value is trying to be set on a copy of a slice from a DataFrame\n",
      "\n",
      "See the caveats in the documentation: https://pandas.pydata.org/pandas-docs/stable/user_guide/indexing.html#returning-a-view-versus-a-copy\n",
      "  df[\"Personal status and sex\"][index] = 2\n",
      "<ipython-input-10-24fcd58b85fa>:3: SettingWithCopyWarning: \n",
      "A value is trying to be set on a copy of a slice from a DataFrame\n",
      "\n",
      "See the caveats in the documentation: https://pandas.pydata.org/pandas-docs/stable/user_guide/indexing.html#returning-a-view-versus-a-copy\n",
      "  df[\"Personal status and sex\"][index] = 1\n",
      "<ipython-input-10-24fcd58b85fa>:9: SettingWithCopyWarning: \n",
      "A value is trying to be set on a copy of a slice from a DataFrame\n",
      "\n",
      "See the caveats in the documentation: https://pandas.pydata.org/pandas-docs/stable/user_guide/indexing.html#returning-a-view-versus-a-copy\n",
      "  df[\"Personal status and sex\"][index] = 4\n"
     ]
    }
   ],
   "source": [
    "for index, data in enumerate(df[\"Personal status and sex\"]):\n",
    "    if data == \"A91\":\n",
    "        df[\"Personal status and sex\"][index] = 1\n",
    "    elif data == \"A92\":\n",
    "        df[\"Personal status and sex\"][index] = 2\n",
    "    elif data == \"A93\":\n",
    "       df[\"Personal status and sex\"][index] = 3\n",
    "    elif data == \"A94\":\n",
    "        df[\"Personal status and sex\"][index] = 4\n",
    "    elif data == \"A95\":\n",
    "        df[\"Personal status and sex\"][index] = 5\n",
    "    else:\n",
    "        continue"
   ]
  },
  {
   "cell_type": "code",
   "execution_count": 11,
   "metadata": {},
   "outputs": [
    {
     "name": "stderr",
     "output_type": "stream",
     "text": [
      "<ipython-input-11-24308f7d5d79>:3: SettingWithCopyWarning: \n",
      "A value is trying to be set on a copy of a slice from a DataFrame\n",
      "\n",
      "See the caveats in the documentation: https://pandas.pydata.org/pandas-docs/stable/user_guide/indexing.html#returning-a-view-versus-a-copy\n",
      "  df[\"Other debtors / guarantors\"][index] = 1\n",
      "<ipython-input-11-24308f7d5d79>:7: SettingWithCopyWarning: \n",
      "A value is trying to be set on a copy of a slice from a DataFrame\n",
      "\n",
      "See the caveats in the documentation: https://pandas.pydata.org/pandas-docs/stable/user_guide/indexing.html#returning-a-view-versus-a-copy\n",
      "  df[\"Other debtors / guarantors\"][index] = 3\n",
      "<ipython-input-11-24308f7d5d79>:5: SettingWithCopyWarning: \n",
      "A value is trying to be set on a copy of a slice from a DataFrame\n",
      "\n",
      "See the caveats in the documentation: https://pandas.pydata.org/pandas-docs/stable/user_guide/indexing.html#returning-a-view-versus-a-copy\n",
      "  df[\"Other debtors / guarantors\"][index] = 2\n"
     ]
    }
   ],
   "source": [
    "for index, data in enumerate(df[\"Other debtors / guarantors\"]):\n",
    "    if data == \"A101\":\n",
    "        df[\"Other debtors / guarantors\"][index] = 1\n",
    "    elif data == \"A102\":\n",
    "        df[\"Other debtors / guarantors\"][index] = 2\n",
    "    elif data == \"A103\":\n",
    "       df[\"Other debtors / guarantors\"][index] = 3\n",
    "    else:\n",
    "        continue"
   ]
  },
  {
   "cell_type": "code",
   "execution_count": 12,
   "metadata": {},
   "outputs": [
    {
     "name": "stderr",
     "output_type": "stream",
     "text": [
      "<ipython-input-12-a2aa87000385>:3: SettingWithCopyWarning: \n",
      "A value is trying to be set on a copy of a slice from a DataFrame\n",
      "\n",
      "See the caveats in the documentation: https://pandas.pydata.org/pandas-docs/stable/user_guide/indexing.html#returning-a-view-versus-a-copy\n",
      "  df[\"Property\"][index] = 1\n",
      "<ipython-input-12-a2aa87000385>:5: SettingWithCopyWarning: \n",
      "A value is trying to be set on a copy of a slice from a DataFrame\n",
      "\n",
      "See the caveats in the documentation: https://pandas.pydata.org/pandas-docs/stable/user_guide/indexing.html#returning-a-view-versus-a-copy\n",
      "  df[\"Property\"][index] = 2\n",
      "<ipython-input-12-a2aa87000385>:9: SettingWithCopyWarning: \n",
      "A value is trying to be set on a copy of a slice from a DataFrame\n",
      "\n",
      "See the caveats in the documentation: https://pandas.pydata.org/pandas-docs/stable/user_guide/indexing.html#returning-a-view-versus-a-copy\n",
      "  df[\"Property\"][index] = 4\n",
      "<ipython-input-12-a2aa87000385>:7: SettingWithCopyWarning: \n",
      "A value is trying to be set on a copy of a slice from a DataFrame\n",
      "\n",
      "See the caveats in the documentation: https://pandas.pydata.org/pandas-docs/stable/user_guide/indexing.html#returning-a-view-versus-a-copy\n",
      "  df[\"Property\"][index] = 3\n"
     ]
    }
   ],
   "source": [
    "for index, data in enumerate(df[\"Property\"]):\n",
    "    if data == \"A121\":\n",
    "        df[\"Property\"][index] = 1\n",
    "    elif data == \"A122\":\n",
    "        df[\"Property\"][index] = 2\n",
    "    elif data == \"A123\":\n",
    "       df[\"Property\"][index] = 3\n",
    "    elif data == \"A124\":\n",
    "       df[\"Property\"][index] = 4\n",
    "    else:\n",
    "        continue"
   ]
  },
  {
   "cell_type": "code",
   "execution_count": 13,
   "metadata": {},
   "outputs": [
    {
     "name": "stderr",
     "output_type": "stream",
     "text": [
      "<ipython-input-13-064b5a178528>:7: SettingWithCopyWarning: \n",
      "A value is trying to be set on a copy of a slice from a DataFrame\n",
      "\n",
      "See the caveats in the documentation: https://pandas.pydata.org/pandas-docs/stable/user_guide/indexing.html#returning-a-view-versus-a-copy\n",
      "  df[\"Other installment plans\"][index] = 3\n",
      "<ipython-input-13-064b5a178528>:3: SettingWithCopyWarning: \n",
      "A value is trying to be set on a copy of a slice from a DataFrame\n",
      "\n",
      "See the caveats in the documentation: https://pandas.pydata.org/pandas-docs/stable/user_guide/indexing.html#returning-a-view-versus-a-copy\n",
      "  df[\"Other installment plans\"][index] = 1\n",
      "<ipython-input-13-064b5a178528>:5: SettingWithCopyWarning: \n",
      "A value is trying to be set on a copy of a slice from a DataFrame\n",
      "\n",
      "See the caveats in the documentation: https://pandas.pydata.org/pandas-docs/stable/user_guide/indexing.html#returning-a-view-versus-a-copy\n",
      "  df[\"Other installment plans\"][index] = 2\n"
     ]
    }
   ],
   "source": [
    "for index, data in enumerate(df[\"Other installment plans\"]):\n",
    "    if data == \"A141\":\n",
    "        df[\"Other installment plans\"][index] = 1\n",
    "    elif data == \"A142\":\n",
    "        df[\"Other installment plans\"][index] = 2\n",
    "    elif data == \"A143\":\n",
    "       df[\"Other installment plans\"][index] = 3\n",
    "    else:\n",
    "        continue"
   ]
  },
  {
   "cell_type": "code",
   "execution_count": 14,
   "metadata": {},
   "outputs": [
    {
     "name": "stderr",
     "output_type": "stream",
     "text": [
      "<ipython-input-14-1267bcf99a8b>:5: SettingWithCopyWarning: \n",
      "A value is trying to be set on a copy of a slice from a DataFrame\n",
      "\n",
      "See the caveats in the documentation: https://pandas.pydata.org/pandas-docs/stable/user_guide/indexing.html#returning-a-view-versus-a-copy\n",
      "  df[\"Housing\"][index] = 2\n",
      "<ipython-input-14-1267bcf99a8b>:7: SettingWithCopyWarning: \n",
      "A value is trying to be set on a copy of a slice from a DataFrame\n",
      "\n",
      "See the caveats in the documentation: https://pandas.pydata.org/pandas-docs/stable/user_guide/indexing.html#returning-a-view-versus-a-copy\n",
      "  df[\"Housing\"][index] = 3\n",
      "<ipython-input-14-1267bcf99a8b>:3: SettingWithCopyWarning: \n",
      "A value is trying to be set on a copy of a slice from a DataFrame\n",
      "\n",
      "See the caveats in the documentation: https://pandas.pydata.org/pandas-docs/stable/user_guide/indexing.html#returning-a-view-versus-a-copy\n",
      "  df[\"Housing\"][index] = 1\n"
     ]
    }
   ],
   "source": [
    "for index, data in enumerate(df[\"Housing\"]):\n",
    "    if data == \"A151\":\n",
    "        df[\"Housing\"][index] = 1\n",
    "    elif data == \"A152\":\n",
    "        df[\"Housing\"][index] = 2\n",
    "    elif data == \"A153\":\n",
    "       df[\"Housing\"][index] = 3\n",
    "    else:\n",
    "        continue"
   ]
  },
  {
   "cell_type": "code",
   "execution_count": 15,
   "metadata": {},
   "outputs": [
    {
     "name": "stderr",
     "output_type": "stream",
     "text": [
      "<ipython-input-15-6bba50495a15>:7: SettingWithCopyWarning: \n",
      "A value is trying to be set on a copy of a slice from a DataFrame\n",
      "\n",
      "See the caveats in the documentation: https://pandas.pydata.org/pandas-docs/stable/user_guide/indexing.html#returning-a-view-versus-a-copy\n",
      "  df[\"Job\"][index] = 3\n",
      "<ipython-input-15-6bba50495a15>:5: SettingWithCopyWarning: \n",
      "A value is trying to be set on a copy of a slice from a DataFrame\n",
      "\n",
      "See the caveats in the documentation: https://pandas.pydata.org/pandas-docs/stable/user_guide/indexing.html#returning-a-view-versus-a-copy\n",
      "  df[\"Job\"][index] = 2\n",
      "<ipython-input-15-6bba50495a15>:9: SettingWithCopyWarning: \n",
      "A value is trying to be set on a copy of a slice from a DataFrame\n",
      "\n",
      "See the caveats in the documentation: https://pandas.pydata.org/pandas-docs/stable/user_guide/indexing.html#returning-a-view-versus-a-copy\n",
      "  df[\"Job\"][index] = 4\n",
      "<ipython-input-15-6bba50495a15>:3: SettingWithCopyWarning: \n",
      "A value is trying to be set on a copy of a slice from a DataFrame\n",
      "\n",
      "See the caveats in the documentation: https://pandas.pydata.org/pandas-docs/stable/user_guide/indexing.html#returning-a-view-versus-a-copy\n",
      "  df[\"Job\"][index] = 1\n"
     ]
    }
   ],
   "source": [
    "for index, data in enumerate(df[\"Job\"]):\n",
    "    if data == \"A171\":\n",
    "        df[\"Job\"][index] = 1\n",
    "    elif data == \"A172\":\n",
    "        df[\"Job\"][index] = 2\n",
    "    elif data == \"A173\":\n",
    "       df[\"Job\"][index] = 3\n",
    "    elif data == \"A174\":\n",
    "       df[\"Job\"][index] = 4\n",
    "    else:\n",
    "        continue"
   ]
  },
  {
   "cell_type": "code",
   "execution_count": 16,
   "metadata": {},
   "outputs": [
    {
     "name": "stderr",
     "output_type": "stream",
     "text": [
      "<ipython-input-16-dbb4e79ca308>:5: SettingWithCopyWarning: \n",
      "A value is trying to be set on a copy of a slice from a DataFrame\n",
      "\n",
      "See the caveats in the documentation: https://pandas.pydata.org/pandas-docs/stable/user_guide/indexing.html#returning-a-view-versus-a-copy\n",
      "  df[\"Telephone\"][index] = 2\n",
      "<ipython-input-16-dbb4e79ca308>:3: SettingWithCopyWarning: \n",
      "A value is trying to be set on a copy of a slice from a DataFrame\n",
      "\n",
      "See the caveats in the documentation: https://pandas.pydata.org/pandas-docs/stable/user_guide/indexing.html#returning-a-view-versus-a-copy\n",
      "  df[\"Telephone\"][index] = 1\n"
     ]
    }
   ],
   "source": [
    "for index, data in enumerate(df[\"Telephone\"]):\n",
    "    if data == \"A191\":\n",
    "        df[\"Telephone\"][index] = 1\n",
    "    elif data == \"A192\":\n",
    "        df[\"Telephone\"][index] = 2\n",
    "    else:\n",
    "        continue"
   ]
  },
  {
   "cell_type": "code",
   "execution_count": 17,
   "metadata": {},
   "outputs": [
    {
     "name": "stderr",
     "output_type": "stream",
     "text": [
      "<ipython-input-17-5e5925890c07>:3: SettingWithCopyWarning: \n",
      "A value is trying to be set on a copy of a slice from a DataFrame\n",
      "\n",
      "See the caveats in the documentation: https://pandas.pydata.org/pandas-docs/stable/user_guide/indexing.html#returning-a-view-versus-a-copy\n",
      "  df[\"foreign worker\"][index] = 1\n",
      "<ipython-input-17-5e5925890c07>:5: SettingWithCopyWarning: \n",
      "A value is trying to be set on a copy of a slice from a DataFrame\n",
      "\n",
      "See the caveats in the documentation: https://pandas.pydata.org/pandas-docs/stable/user_guide/indexing.html#returning-a-view-versus-a-copy\n",
      "  df[\"foreign worker\"][index] = 2\n"
     ]
    }
   ],
   "source": [
    "for index, data in enumerate(df[\"foreign worker\"]):\n",
    "    if data == \"A201\":\n",
    "        df[\"foreign worker\"][index] = 1\n",
    "    elif data == \"A202\":\n",
    "        df[\"foreign worker\"][index] = 2\n",
    "    else:\n",
    "        continue"
   ]
  },
  {
   "cell_type": "markdown",
   "metadata": {},
   "source": []
  },
  {
   "cell_type": "code",
   "execution_count": 18,
   "metadata": {},
   "outputs": [
    {
     "data": {
      "text/html": [
       "<div>\n",
       "<style scoped>\n",
       "    .dataframe tbody tr th:only-of-type {\n",
       "        vertical-align: middle;\n",
       "    }\n",
       "\n",
       "    .dataframe tbody tr th {\n",
       "        vertical-align: top;\n",
       "    }\n",
       "\n",
       "    .dataframe thead th {\n",
       "        text-align: right;\n",
       "    }\n",
       "</style>\n",
       "<table border=\"1\" class=\"dataframe\">\n",
       "  <thead>\n",
       "    <tr style=\"text-align: right;\">\n",
       "      <th></th>\n",
       "      <th>Status of existing checking account</th>\n",
       "      <th>Duration in month</th>\n",
       "      <th>Credit history</th>\n",
       "      <th>Purpose</th>\n",
       "      <th>Credit amount</th>\n",
       "      <th>Savings account/bonds</th>\n",
       "      <th>Present employment since</th>\n",
       "      <th>Installment rate in percentage of disposable income</th>\n",
       "      <th>Personal status and sex</th>\n",
       "      <th>Other debtors / guarantors</th>\n",
       "      <th>...</th>\n",
       "      <th>Property</th>\n",
       "      <th>Age in years</th>\n",
       "      <th>Other installment plans</th>\n",
       "      <th>Housing</th>\n",
       "      <th>Number of existing credits at this bank</th>\n",
       "      <th>Job</th>\n",
       "      <th>Number of people being liable to provide maintenance for</th>\n",
       "      <th>Telephone</th>\n",
       "      <th>foreign worker</th>\n",
       "      <th>actual classification</th>\n",
       "    </tr>\n",
       "  </thead>\n",
       "  <tbody>\n",
       "    <tr>\n",
       "      <th>0</th>\n",
       "      <td>1</td>\n",
       "      <td>6</td>\n",
       "      <td>5</td>\n",
       "      <td>4</td>\n",
       "      <td>1169</td>\n",
       "      <td>5</td>\n",
       "      <td>5</td>\n",
       "      <td>4</td>\n",
       "      <td>3</td>\n",
       "      <td>1</td>\n",
       "      <td>...</td>\n",
       "      <td>1</td>\n",
       "      <td>67</td>\n",
       "      <td>3</td>\n",
       "      <td>2</td>\n",
       "      <td>2</td>\n",
       "      <td>3</td>\n",
       "      <td>1</td>\n",
       "      <td>2</td>\n",
       "      <td>1</td>\n",
       "      <td>1</td>\n",
       "    </tr>\n",
       "    <tr>\n",
       "      <th>1</th>\n",
       "      <td>2</td>\n",
       "      <td>48</td>\n",
       "      <td>3</td>\n",
       "      <td>4</td>\n",
       "      <td>5951</td>\n",
       "      <td>1</td>\n",
       "      <td>3</td>\n",
       "      <td>2</td>\n",
       "      <td>2</td>\n",
       "      <td>1</td>\n",
       "      <td>...</td>\n",
       "      <td>1</td>\n",
       "      <td>22</td>\n",
       "      <td>3</td>\n",
       "      <td>2</td>\n",
       "      <td>1</td>\n",
       "      <td>3</td>\n",
       "      <td>1</td>\n",
       "      <td>1</td>\n",
       "      <td>1</td>\n",
       "      <td>2</td>\n",
       "    </tr>\n",
       "    <tr>\n",
       "      <th>2</th>\n",
       "      <td>4</td>\n",
       "      <td>12</td>\n",
       "      <td>5</td>\n",
       "      <td>7</td>\n",
       "      <td>2096</td>\n",
       "      <td>1</td>\n",
       "      <td>4</td>\n",
       "      <td>2</td>\n",
       "      <td>3</td>\n",
       "      <td>1</td>\n",
       "      <td>...</td>\n",
       "      <td>1</td>\n",
       "      <td>49</td>\n",
       "      <td>3</td>\n",
       "      <td>2</td>\n",
       "      <td>1</td>\n",
       "      <td>2</td>\n",
       "      <td>2</td>\n",
       "      <td>1</td>\n",
       "      <td>1</td>\n",
       "      <td>1</td>\n",
       "    </tr>\n",
       "    <tr>\n",
       "      <th>3</th>\n",
       "      <td>1</td>\n",
       "      <td>42</td>\n",
       "      <td>3</td>\n",
       "      <td>3</td>\n",
       "      <td>7882</td>\n",
       "      <td>1</td>\n",
       "      <td>4</td>\n",
       "      <td>2</td>\n",
       "      <td>3</td>\n",
       "      <td>3</td>\n",
       "      <td>...</td>\n",
       "      <td>2</td>\n",
       "      <td>45</td>\n",
       "      <td>3</td>\n",
       "      <td>3</td>\n",
       "      <td>1</td>\n",
       "      <td>3</td>\n",
       "      <td>2</td>\n",
       "      <td>1</td>\n",
       "      <td>1</td>\n",
       "      <td>1</td>\n",
       "    </tr>\n",
       "    <tr>\n",
       "      <th>4</th>\n",
       "      <td>1</td>\n",
       "      <td>24</td>\n",
       "      <td>4</td>\n",
       "      <td>1</td>\n",
       "      <td>4870</td>\n",
       "      <td>1</td>\n",
       "      <td>3</td>\n",
       "      <td>3</td>\n",
       "      <td>3</td>\n",
       "      <td>1</td>\n",
       "      <td>...</td>\n",
       "      <td>4</td>\n",
       "      <td>53</td>\n",
       "      <td>3</td>\n",
       "      <td>3</td>\n",
       "      <td>2</td>\n",
       "      <td>3</td>\n",
       "      <td>2</td>\n",
       "      <td>1</td>\n",
       "      <td>1</td>\n",
       "      <td>2</td>\n",
       "    </tr>\n",
       "    <tr>\n",
       "      <th>...</th>\n",
       "      <td>...</td>\n",
       "      <td>...</td>\n",
       "      <td>...</td>\n",
       "      <td>...</td>\n",
       "      <td>...</td>\n",
       "      <td>...</td>\n",
       "      <td>...</td>\n",
       "      <td>...</td>\n",
       "      <td>...</td>\n",
       "      <td>...</td>\n",
       "      <td>...</td>\n",
       "      <td>...</td>\n",
       "      <td>...</td>\n",
       "      <td>...</td>\n",
       "      <td>...</td>\n",
       "      <td>...</td>\n",
       "      <td>...</td>\n",
       "      <td>...</td>\n",
       "      <td>...</td>\n",
       "      <td>...</td>\n",
       "      <td>...</td>\n",
       "    </tr>\n",
       "    <tr>\n",
       "      <th>995</th>\n",
       "      <td>4</td>\n",
       "      <td>12</td>\n",
       "      <td>3</td>\n",
       "      <td>3</td>\n",
       "      <td>1736</td>\n",
       "      <td>1</td>\n",
       "      <td>4</td>\n",
       "      <td>3</td>\n",
       "      <td>2</td>\n",
       "      <td>1</td>\n",
       "      <td>...</td>\n",
       "      <td>1</td>\n",
       "      <td>31</td>\n",
       "      <td>3</td>\n",
       "      <td>2</td>\n",
       "      <td>1</td>\n",
       "      <td>2</td>\n",
       "      <td>1</td>\n",
       "      <td>1</td>\n",
       "      <td>1</td>\n",
       "      <td>1</td>\n",
       "    </tr>\n",
       "    <tr>\n",
       "      <th>996</th>\n",
       "      <td>1</td>\n",
       "      <td>30</td>\n",
       "      <td>3</td>\n",
       "      <td>2</td>\n",
       "      <td>3857</td>\n",
       "      <td>1</td>\n",
       "      <td>3</td>\n",
       "      <td>4</td>\n",
       "      <td>1</td>\n",
       "      <td>1</td>\n",
       "      <td>...</td>\n",
       "      <td>2</td>\n",
       "      <td>40</td>\n",
       "      <td>3</td>\n",
       "      <td>2</td>\n",
       "      <td>1</td>\n",
       "      <td>4</td>\n",
       "      <td>1</td>\n",
       "      <td>2</td>\n",
       "      <td>1</td>\n",
       "      <td>1</td>\n",
       "    </tr>\n",
       "    <tr>\n",
       "      <th>997</th>\n",
       "      <td>4</td>\n",
       "      <td>12</td>\n",
       "      <td>3</td>\n",
       "      <td>4</td>\n",
       "      <td>804</td>\n",
       "      <td>1</td>\n",
       "      <td>5</td>\n",
       "      <td>4</td>\n",
       "      <td>3</td>\n",
       "      <td>1</td>\n",
       "      <td>...</td>\n",
       "      <td>3</td>\n",
       "      <td>38</td>\n",
       "      <td>3</td>\n",
       "      <td>2</td>\n",
       "      <td>1</td>\n",
       "      <td>3</td>\n",
       "      <td>1</td>\n",
       "      <td>1</td>\n",
       "      <td>1</td>\n",
       "      <td>1</td>\n",
       "    </tr>\n",
       "    <tr>\n",
       "      <th>998</th>\n",
       "      <td>1</td>\n",
       "      <td>45</td>\n",
       "      <td>3</td>\n",
       "      <td>4</td>\n",
       "      <td>1845</td>\n",
       "      <td>1</td>\n",
       "      <td>3</td>\n",
       "      <td>4</td>\n",
       "      <td>3</td>\n",
       "      <td>1</td>\n",
       "      <td>...</td>\n",
       "      <td>4</td>\n",
       "      <td>23</td>\n",
       "      <td>3</td>\n",
       "      <td>3</td>\n",
       "      <td>1</td>\n",
       "      <td>3</td>\n",
       "      <td>1</td>\n",
       "      <td>2</td>\n",
       "      <td>1</td>\n",
       "      <td>2</td>\n",
       "    </tr>\n",
       "    <tr>\n",
       "      <th>999</th>\n",
       "      <td>2</td>\n",
       "      <td>45</td>\n",
       "      <td>5</td>\n",
       "      <td>2</td>\n",
       "      <td>4576</td>\n",
       "      <td>2</td>\n",
       "      <td>1</td>\n",
       "      <td>3</td>\n",
       "      <td>3</td>\n",
       "      <td>1</td>\n",
       "      <td>...</td>\n",
       "      <td>3</td>\n",
       "      <td>27</td>\n",
       "      <td>3</td>\n",
       "      <td>2</td>\n",
       "      <td>1</td>\n",
       "      <td>3</td>\n",
       "      <td>1</td>\n",
       "      <td>1</td>\n",
       "      <td>1</td>\n",
       "      <td>1</td>\n",
       "    </tr>\n",
       "  </tbody>\n",
       "</table>\n",
       "<p>1000 rows × 21 columns</p>\n",
       "</div>"
      ],
      "text/plain": [
       "    Status of existing checking account  Duration in month Credit history  \\\n",
       "0                                     1                  6              5   \n",
       "1                                     2                 48              3   \n",
       "2                                     4                 12              5   \n",
       "3                                     1                 42              3   \n",
       "4                                     1                 24              4   \n",
       "..                                  ...                ...            ...   \n",
       "995                                   4                 12              3   \n",
       "996                                   1                 30              3   \n",
       "997                                   4                 12              3   \n",
       "998                                   1                 45              3   \n",
       "999                                   2                 45              5   \n",
       "\n",
       "    Purpose  Credit amount Savings account/bonds Present employment since  \\\n",
       "0         4           1169                     5                        5   \n",
       "1         4           5951                     1                        3   \n",
       "2         7           2096                     1                        4   \n",
       "3         3           7882                     1                        4   \n",
       "4         1           4870                     1                        3   \n",
       "..      ...            ...                   ...                      ...   \n",
       "995       3           1736                     1                        4   \n",
       "996       2           3857                     1                        3   \n",
       "997       4            804                     1                        5   \n",
       "998       4           1845                     1                        3   \n",
       "999       2           4576                     2                        1   \n",
       "\n",
       "     Installment rate in percentage of disposable income  \\\n",
       "0                                                    4     \n",
       "1                                                    2     \n",
       "2                                                    2     \n",
       "3                                                    2     \n",
       "4                                                    3     \n",
       "..                                                 ...     \n",
       "995                                                  3     \n",
       "996                                                  4     \n",
       "997                                                  4     \n",
       "998                                                  4     \n",
       "999                                                  3     \n",
       "\n",
       "    Personal status and sex Other debtors / guarantors  ...  Property  \\\n",
       "0                         3                          1  ...         1   \n",
       "1                         2                          1  ...         1   \n",
       "2                         3                          1  ...         1   \n",
       "3                         3                          3  ...         2   \n",
       "4                         3                          1  ...         4   \n",
       "..                      ...                        ...  ...       ...   \n",
       "995                       2                          1  ...         1   \n",
       "996                       1                          1  ...         2   \n",
       "997                       3                          1  ...         3   \n",
       "998                       3                          1  ...         4   \n",
       "999                       3                          1  ...         3   \n",
       "\n",
       "    Age in years  Other installment plans Housing  \\\n",
       "0             67                        3       2   \n",
       "1             22                        3       2   \n",
       "2             49                        3       2   \n",
       "3             45                        3       3   \n",
       "4             53                        3       3   \n",
       "..           ...                      ...     ...   \n",
       "995           31                        3       2   \n",
       "996           40                        3       2   \n",
       "997           38                        3       2   \n",
       "998           23                        3       3   \n",
       "999           27                        3       2   \n",
       "\n",
       "    Number of existing credits at this bank  Job  \\\n",
       "0                                         2    3   \n",
       "1                                         1    3   \n",
       "2                                         1    2   \n",
       "3                                         1    3   \n",
       "4                                         2    3   \n",
       "..                                      ...  ...   \n",
       "995                                       1    2   \n",
       "996                                       1    4   \n",
       "997                                       1    3   \n",
       "998                                       1    3   \n",
       "999                                       1    3   \n",
       "\n",
       "    Number of people being liable to provide maintenance for  Telephone  \\\n",
       "0                                                    1                2   \n",
       "1                                                    1                1   \n",
       "2                                                    2                1   \n",
       "3                                                    2                1   \n",
       "4                                                    2                1   \n",
       "..                                                 ...              ...   \n",
       "995                                                  1                1   \n",
       "996                                                  1                2   \n",
       "997                                                  1                1   \n",
       "998                                                  1                2   \n",
       "999                                                  1                1   \n",
       "\n",
       "    foreign worker actual classification  \n",
       "0                1                     1  \n",
       "1                1                     2  \n",
       "2                1                     1  \n",
       "3                1                     1  \n",
       "4                1                     2  \n",
       "..             ...                   ...  \n",
       "995              1                     1  \n",
       "996              1                     1  \n",
       "997              1                     1  \n",
       "998              1                     2  \n",
       "999              1                     1  \n",
       "\n",
       "[1000 rows x 21 columns]"
      ]
     },
     "execution_count": 18,
     "metadata": {},
     "output_type": "execute_result"
    }
   ],
   "source": [
    "df"
   ]
  },
  {
   "cell_type": "code",
   "execution_count": 19,
   "metadata": {},
   "outputs": [
    {
     "data": {
      "text/plain": [
       "Status of existing checking account                         object\n",
       "Duration in month                                            int64\n",
       "Credit history                                              object\n",
       "Purpose                                                     object\n",
       "Credit amount                                                int64\n",
       "Savings account/bonds                                       object\n",
       "Present employment since                                    object\n",
       "Installment rate in percentage of disposable income          int64\n",
       "Personal status and sex                                     object\n",
       "Other debtors / guarantors                                  object\n",
       "Present residence since                                      int64\n",
       "Property                                                    object\n",
       "Age in years                                                 int64\n",
       "Other installment plans                                     object\n",
       "Housing                                                     object\n",
       "Number of existing credits at this bank                      int64\n",
       "Job                                                         object\n",
       "Number of people being liable to provide maintenance for     int64\n",
       "Telephone                                                   object\n",
       "foreign worker                                              object\n",
       "actual classification                                        int64\n",
       "dtype: object"
      ]
     },
     "execution_count": 19,
     "metadata": {},
     "output_type": "execute_result"
    }
   ],
   "source": [
    "df.dtypes"
   ]
  },
  {
   "cell_type": "code",
   "execution_count": 20,
   "metadata": {},
   "outputs": [
    {
     "data": {
      "text/html": [
       "<div>\n",
       "<style scoped>\n",
       "    .dataframe tbody tr th:only-of-type {\n",
       "        vertical-align: middle;\n",
       "    }\n",
       "\n",
       "    .dataframe tbody tr th {\n",
       "        vertical-align: top;\n",
       "    }\n",
       "\n",
       "    .dataframe thead th {\n",
       "        text-align: right;\n",
       "    }\n",
       "</style>\n",
       "<table border=\"1\" class=\"dataframe\">\n",
       "  <thead>\n",
       "    <tr style=\"text-align: right;\">\n",
       "      <th></th>\n",
       "      <th>Status of existing checking account</th>\n",
       "      <th>Credit history</th>\n",
       "      <th>Purpose</th>\n",
       "      <th>Savings account/bonds</th>\n",
       "      <th>Present employment since</th>\n",
       "      <th>Personal status and sex</th>\n",
       "      <th>Other debtors / guarantors</th>\n",
       "      <th>Property</th>\n",
       "      <th>Other installment plans</th>\n",
       "      <th>Housing</th>\n",
       "      <th>Job</th>\n",
       "      <th>Telephone</th>\n",
       "      <th>foreign worker</th>\n",
       "    </tr>\n",
       "  </thead>\n",
       "  <tbody>\n",
       "    <tr>\n",
       "      <th>0</th>\n",
       "      <td>1</td>\n",
       "      <td>5</td>\n",
       "      <td>4</td>\n",
       "      <td>5</td>\n",
       "      <td>5</td>\n",
       "      <td>3</td>\n",
       "      <td>1</td>\n",
       "      <td>1</td>\n",
       "      <td>3</td>\n",
       "      <td>2</td>\n",
       "      <td>3</td>\n",
       "      <td>2</td>\n",
       "      <td>1</td>\n",
       "    </tr>\n",
       "    <tr>\n",
       "      <th>1</th>\n",
       "      <td>2</td>\n",
       "      <td>3</td>\n",
       "      <td>4</td>\n",
       "      <td>1</td>\n",
       "      <td>3</td>\n",
       "      <td>2</td>\n",
       "      <td>1</td>\n",
       "      <td>1</td>\n",
       "      <td>3</td>\n",
       "      <td>2</td>\n",
       "      <td>3</td>\n",
       "      <td>1</td>\n",
       "      <td>1</td>\n",
       "    </tr>\n",
       "    <tr>\n",
       "      <th>2</th>\n",
       "      <td>4</td>\n",
       "      <td>5</td>\n",
       "      <td>7</td>\n",
       "      <td>1</td>\n",
       "      <td>4</td>\n",
       "      <td>3</td>\n",
       "      <td>1</td>\n",
       "      <td>1</td>\n",
       "      <td>3</td>\n",
       "      <td>2</td>\n",
       "      <td>2</td>\n",
       "      <td>1</td>\n",
       "      <td>1</td>\n",
       "    </tr>\n",
       "    <tr>\n",
       "      <th>3</th>\n",
       "      <td>1</td>\n",
       "      <td>3</td>\n",
       "      <td>3</td>\n",
       "      <td>1</td>\n",
       "      <td>4</td>\n",
       "      <td>3</td>\n",
       "      <td>3</td>\n",
       "      <td>2</td>\n",
       "      <td>3</td>\n",
       "      <td>3</td>\n",
       "      <td>3</td>\n",
       "      <td>1</td>\n",
       "      <td>1</td>\n",
       "    </tr>\n",
       "    <tr>\n",
       "      <th>4</th>\n",
       "      <td>1</td>\n",
       "      <td>4</td>\n",
       "      <td>1</td>\n",
       "      <td>1</td>\n",
       "      <td>3</td>\n",
       "      <td>3</td>\n",
       "      <td>1</td>\n",
       "      <td>4</td>\n",
       "      <td>3</td>\n",
       "      <td>3</td>\n",
       "      <td>3</td>\n",
       "      <td>1</td>\n",
       "      <td>1</td>\n",
       "    </tr>\n",
       "  </tbody>\n",
       "</table>\n",
       "</div>"
      ],
      "text/plain": [
       "  Status of existing checking account Credit history Purpose  \\\n",
       "0                                   1              5       4   \n",
       "1                                   2              3       4   \n",
       "2                                   4              5       7   \n",
       "3                                   1              3       3   \n",
       "4                                   1              4       1   \n",
       "\n",
       "  Savings account/bonds Present employment since Personal status and sex  \\\n",
       "0                     5                        5                       3   \n",
       "1                     1                        3                       2   \n",
       "2                     1                        4                       3   \n",
       "3                     1                        4                       3   \n",
       "4                     1                        3                       3   \n",
       "\n",
       "  Other debtors / guarantors Property Other installment plans Housing Job  \\\n",
       "0                          1        1                       3       2   3   \n",
       "1                          1        1                       3       2   3   \n",
       "2                          1        1                       3       2   2   \n",
       "3                          3        2                       3       3   3   \n",
       "4                          1        4                       3       3   3   \n",
       "\n",
       "  Telephone foreign worker  \n",
       "0         2              1  \n",
       "1         1              1  \n",
       "2         1              1  \n",
       "3         1              1  \n",
       "4         1              1  "
      ]
     },
     "execution_count": 20,
     "metadata": {},
     "output_type": "execute_result"
    }
   ],
   "source": [
    "obj_df = df.select_dtypes(include=['object']).copy()\n",
    "obj_df.head()"
   ]
  },
  {
   "cell_type": "code",
   "execution_count": 21,
   "metadata": {},
   "outputs": [
    {
     "data": {
      "image/png": "[encoded data removed]",
      "text/plain": [
       "<Figure size 720x576 with 2 Axes>"
      ]
     },
     "metadata": {
      "needs_background": "light"
     },
     "output_type": "display_data"
    }
   ],
   "source": [
    "plt.figure(figsize=(10,8))\n",
    "sns.heatmap(df.corr(), cmap='RdBu_r', annot=True)\n",
    "plt.show()"
   ]
  },
  {
   "cell_type": "code",
   "execution_count": 22,
   "metadata": {},
   "outputs": [
    {
     "data": {
      "text/html": [
       "<div>\n",
       "<style scoped>\n",
       "    .dataframe tbody tr th:only-of-type {\n",
       "        vertical-align: middle;\n",
       "    }\n",
       "\n",
       "    .dataframe tbody tr th {\n",
       "        vertical-align: top;\n",
       "    }\n",
       "\n",
       "    .dataframe thead th {\n",
       "        text-align: right;\n",
       "    }\n",
       "</style>\n",
       "<table border=\"1\" class=\"dataframe\">\n",
       "  <thead>\n",
       "    <tr style=\"text-align: right;\">\n",
       "      <th></th>\n",
       "      <th>Duration in month</th>\n",
       "      <th>Credit amount</th>\n",
       "      <th>Installment rate in percentage of disposable income</th>\n",
       "      <th>Present residence since</th>\n",
       "      <th>Age in years</th>\n",
       "      <th>Number of existing credits at this bank</th>\n",
       "      <th>Number of people being liable to provide maintenance for</th>\n",
       "      <th>actual classification</th>\n",
       "    </tr>\n",
       "  </thead>\n",
       "  <tbody>\n",
       "    <tr>\n",
       "      <th>count</th>\n",
       "      <td>1000.000000</td>\n",
       "      <td>1000.000000</td>\n",
       "      <td>1000.000000</td>\n",
       "      <td>1000.000000</td>\n",
       "      <td>1000.000000</td>\n",
       "      <td>1000.000000</td>\n",
       "      <td>1000.000000</td>\n",
       "      <td>1000.000000</td>\n",
       "    </tr>\n",
       "    <tr>\n",
       "      <th>mean</th>\n",
       "      <td>20.903000</td>\n",
       "      <td>3271.258000</td>\n",
       "      <td>2.973000</td>\n",
       "      <td>2.845000</td>\n",
       "      <td>35.546000</td>\n",
       "      <td>1.407000</td>\n",
       "      <td>1.155000</td>\n",
       "      <td>1.300000</td>\n",
       "    </tr>\n",
       "    <tr>\n",
       "      <th>std</th>\n",
       "      <td>12.058814</td>\n",
       "      <td>2822.736876</td>\n",
       "      <td>1.118715</td>\n",
       "      <td>1.103718</td>\n",
       "      <td>11.375469</td>\n",
       "      <td>0.577654</td>\n",
       "      <td>0.362086</td>\n",
       "      <td>0.458487</td>\n",
       "    </tr>\n",
       "    <tr>\n",
       "      <th>min</th>\n",
       "      <td>4.000000</td>\n",
       "      <td>250.000000</td>\n",
       "      <td>1.000000</td>\n",
       "      <td>1.000000</td>\n",
       "      <td>19.000000</td>\n",
       "      <td>1.000000</td>\n",
       "      <td>1.000000</td>\n",
       "      <td>1.000000</td>\n",
       "    </tr>\n",
       "    <tr>\n",
       "      <th>25%</th>\n",
       "      <td>12.000000</td>\n",
       "      <td>1365.500000</td>\n",
       "      <td>2.000000</td>\n",
       "      <td>2.000000</td>\n",
       "      <td>27.000000</td>\n",
       "      <td>1.000000</td>\n",
       "      <td>1.000000</td>\n",
       "      <td>1.000000</td>\n",
       "    </tr>\n",
       "    <tr>\n",
       "      <th>50%</th>\n",
       "      <td>18.000000</td>\n",
       "      <td>2319.500000</td>\n",
       "      <td>3.000000</td>\n",
       "      <td>3.000000</td>\n",
       "      <td>33.000000</td>\n",
       "      <td>1.000000</td>\n",
       "      <td>1.000000</td>\n",
       "      <td>1.000000</td>\n",
       "    </tr>\n",
       "    <tr>\n",
       "      <th>75%</th>\n",
       "      <td>24.000000</td>\n",
       "      <td>3972.250000</td>\n",
       "      <td>4.000000</td>\n",
       "      <td>4.000000</td>\n",
       "      <td>42.000000</td>\n",
       "      <td>2.000000</td>\n",
       "      <td>1.000000</td>\n",
       "      <td>2.000000</td>\n",
       "    </tr>\n",
       "    <tr>\n",
       "      <th>max</th>\n",
       "      <td>72.000000</td>\n",
       "      <td>18424.000000</td>\n",
       "      <td>4.000000</td>\n",
       "      <td>4.000000</td>\n",
       "      <td>75.000000</td>\n",
       "      <td>4.000000</td>\n",
       "      <td>2.000000</td>\n",
       "      <td>2.000000</td>\n",
       "    </tr>\n",
       "  </tbody>\n",
       "</table>\n",
       "</div>"
      ],
      "text/plain": [
       "       Duration in month  Credit amount  \\\n",
       "count        1000.000000    1000.000000   \n",
       "mean           20.903000    3271.258000   \n",
       "std            12.058814    2822.736876   \n",
       "min             4.000000     250.000000   \n",
       "25%            12.000000    1365.500000   \n",
       "50%            18.000000    2319.500000   \n",
       "75%            24.000000    3972.250000   \n",
       "max            72.000000   18424.000000   \n",
       "\n",
       "       Installment rate in percentage of disposable income  \\\n",
       "count                                        1000.000000     \n",
       "mean                                            2.973000     \n",
       "std                                             1.118715     \n",
       "min                                             1.000000     \n",
       "25%                                             2.000000     \n",
       "50%                                             3.000000     \n",
       "75%                                             4.000000     \n",
       "max                                             4.000000     \n",
       "\n",
       "       Present residence since  Age in years  \\\n",
       "count              1000.000000   1000.000000   \n",
       "mean                  2.845000     35.546000   \n",
       "std                   1.103718     11.375469   \n",
       "min                   1.000000     19.000000   \n",
       "25%                   2.000000     27.000000   \n",
       "50%                   3.000000     33.000000   \n",
       "75%                   4.000000     42.000000   \n",
       "max                   4.000000     75.000000   \n",
       "\n",
       "       Number of existing credits at this bank  \\\n",
       "count                              1000.000000   \n",
       "mean                                  1.407000   \n",
       "std                                   0.577654   \n",
       "min                                   1.000000   \n",
       "25%                                   1.000000   \n",
       "50%                                   1.000000   \n",
       "75%                                   2.000000   \n",
       "max                                   4.000000   \n",
       "\n",
       "       Number of people being liable to provide maintenance for  \\\n",
       "count                                        1000.000000          \n",
       "mean                                            1.155000          \n",
       "std                                             0.362086          \n",
       "min                                             1.000000          \n",
       "25%                                             1.000000          \n",
       "50%                                             1.000000          \n",
       "75%                                             1.000000          \n",
       "max                                             2.000000          \n",
       "\n",
       "       actual classification  \n",
       "count            1000.000000  \n",
       "mean                1.300000  \n",
       "std                 0.458487  \n",
       "min                 1.000000  \n",
       "25%                 1.000000  \n",
       "50%                 1.000000  \n",
       "75%                 2.000000  \n",
       "max                 2.000000  "
      ]
     },
     "execution_count": 22,
     "metadata": {},
     "output_type": "execute_result"
    }
   ],
   "source": [
    "df.describe( )"
   ]
  },
  {
   "cell_type": "code",
   "execution_count": 23,
   "metadata": {},
   "outputs": [
    {
     "data": {
      "text/plain": [
       "<AxesSubplot:xlabel='Credit amount', ylabel='Count'>"
      ]
     },
     "execution_count": 23,
     "metadata": {},
     "output_type": "execute_result"
    },
    {
     "data": {
      "image/png": "[encoded data removed]",
      "text/plain": [
       "<Figure size 576x360 with 1 Axes>"
      ]
     },
     "metadata": {
      "needs_background": "light"
     },
     "output_type": "display_data"
    }
   ],
   "source": [
    "plt.figure(figsize=(8,5))\n",
    "\n",
    "sns.histplot(df,  x=\"Credit amount\", kde=True, color='r')\n"
   ]
  },
  {
   "cell_type": "code",
   "execution_count": 24,
   "metadata": {},
   "outputs": [
    {
     "data": {
      "text/html": [
       "<style  type=\"text/css\" >\n",
       "#T_899ac_row0_col0,#T_899ac_row0_col1,#T_899ac_row0_col2{\n",
       "            background-color:  #ffff00;\n",
       "            color:  #000000;\n",
       "        }#T_899ac_row1_col0,#T_899ac_row1_col2{\n",
       "            background-color:  #ffe300;\n",
       "            color:  #000000;\n",
       "        }#T_899ac_row1_col1{\n",
       "            background-color:  #ffe500;\n",
       "            color:  #000000;\n",
       "        }#T_899ac_row2_col0{\n",
       "            background-color:  #fffb00;\n",
       "            color:  #000000;\n",
       "        }#T_899ac_row2_col1{\n",
       "            background-color:  #fff500;\n",
       "            color:  #000000;\n",
       "        }#T_899ac_row2_col2{\n",
       "            background-color:  #fff900;\n",
       "            color:  #000000;\n",
       "        }#T_899ac_row3_col0{\n",
       "            background-color:  #ffa300;\n",
       "            color:  #000000;\n",
       "        }#T_899ac_row3_col1{\n",
       "            background-color:  #ff8700;\n",
       "            color:  #000000;\n",
       "        }#T_899ac_row3_col2{\n",
       "            background-color:  #ff9b00;\n",
       "            color:  #000000;\n",
       "        }#T_899ac_row4_col0,#T_899ac_row4_col1,#T_899ac_row4_col2{\n",
       "            background-color:  #ff0000;\n",
       "            color:  #f1f1f1;\n",
       "        }</style><table id=\"T_899ac_\" ><thead>    <tr>        <th class=\"index_name level0\" >actual classification</th>        <th class=\"col_heading level0 col0\" >1</th>        <th class=\"col_heading level0 col1\" >2</th>        <th class=\"col_heading level0 col2\" >All</th>    </tr>    <tr>        <th class=\"index_name level0\" >Installment rate in percentage of disposable income</th>        <th class=\"blank\" ></th>        <th class=\"blank\" ></th>        <th class=\"blank\" ></th>    </tr></thead><tbody>\n",
       "                <tr>\n",
       "                        <th id=\"T_899ac_level0_row0\" class=\"row_heading level0 row0\" >1</th>\n",
       "                        <td id=\"T_899ac_row0_col0\" class=\"data row0 col0\" >102</td>\n",
       "                        <td id=\"T_899ac_row0_col1\" class=\"data row0 col1\" >34</td>\n",
       "                        <td id=\"T_899ac_row0_col2\" class=\"data row0 col2\" >136</td>\n",
       "            </tr>\n",
       "            <tr>\n",
       "                        <th id=\"T_899ac_level0_row1\" class=\"row_heading level0 row1\" >2</th>\n",
       "                        <td id=\"T_899ac_row1_col0\" class=\"data row1 col0\" >169</td>\n",
       "                        <td id=\"T_899ac_row1_col1\" class=\"data row1 col1\" >62</td>\n",
       "                        <td id=\"T_899ac_row1_col2\" class=\"data row1 col2\" >231</td>\n",
       "            </tr>\n",
       "            <tr>\n",
       "                        <th id=\"T_899ac_level0_row2\" class=\"row_heading level0 row2\" >3</th>\n",
       "                        <td id=\"T_899ac_row2_col0\" class=\"data row2 col0\" >112</td>\n",
       "                        <td id=\"T_899ac_row2_col1\" class=\"data row2 col1\" >45</td>\n",
       "                        <td id=\"T_899ac_row2_col2\" class=\"data row2 col2\" >157</td>\n",
       "            </tr>\n",
       "            <tr>\n",
       "                        <th id=\"T_899ac_level0_row3\" class=\"row_heading level0 row3\" >4</th>\n",
       "                        <td id=\"T_899ac_row3_col0\" class=\"data row3 col0\" >317</td>\n",
       "                        <td id=\"T_899ac_row3_col1\" class=\"data row3 col1\" >159</td>\n",
       "                        <td id=\"T_899ac_row3_col2\" class=\"data row3 col2\" >476</td>\n",
       "            </tr>\n",
       "            <tr>\n",
       "                        <th id=\"T_899ac_level0_row4\" class=\"row_heading level0 row4\" >All</th>\n",
       "                        <td id=\"T_899ac_row4_col0\" class=\"data row4 col0\" >700</td>\n",
       "                        <td id=\"T_899ac_row4_col1\" class=\"data row4 col1\" >300</td>\n",
       "                        <td id=\"T_899ac_row4_col2\" class=\"data row4 col2\" >1000</td>\n",
       "            </tr>\n",
       "    </tbody></table>"
      ],
      "text/plain": [
       "<pandas.io.formats.style.Styler at 0x204f0dd9e80>"
      ]
     },
     "execution_count": 24,
     "metadata": {},
     "output_type": "execute_result"
    }
   ],
   "source": [
    "import pandas as pd\n",
    "import matplotlib.pyplot as plt\n",
    "   \n",
    "pd.crosstab(df['Installment rate in percentage of disposable income'], df['actual classification'], margins=True).style.background_gradient(cmap='autumn_r')\n",
    "#df[\"Installment rate in percentage of disposable income\"].value_counts()"
   ]
  },
  {
   "cell_type": "code",
   "execution_count": 25,
   "metadata": {},
   "outputs": [
    {
     "data": {
      "text/plain": [
       "1    633\n",
       "2    333\n",
       "3     28\n",
       "4      6\n",
       "Name: Number of existing credits at this bank, dtype: int64"
      ]
     },
     "execution_count": 25,
     "metadata": {},
     "output_type": "execute_result"
    }
   ],
   "source": [
    "df[\"Number of existing credits at this bank\"].value_counts()"
   ]
  },
  {
   "cell_type": "code",
   "execution_count": 26,
   "metadata": {},
   "outputs": [
    {
     "data": {
      "text/plain": [
       "<AxesSubplot:xlabel='Number of existing credits at this bank', ylabel='Age in years'>"
      ]
     },
     "execution_count": 26,
     "metadata": {},
     "output_type": "execute_result"
    },
    {
     "data": {
      "image/png": "[encoded data removed]",
      "text/plain": [
       "<Figure size 432x288 with 1 Axes>"
      ]
     },
     "metadata": {
      "needs_background": "light"
     },
     "output_type": "display_data"
    }
   ],
   "source": [
    "sns.violinplot(x =\"Number of existing credits at this bank\", y =\"Age in years\", hue =df['actual classification'],\n",
    "data = df, split = True)"
   ]
  },
  {
   "cell_type": "code",
   "execution_count": 27,
   "metadata": {},
   "outputs": [
    {
     "data": {
      "text/plain": [
       "<seaborn.axisgrid.FacetGrid at 0x204f1533fd0>"
      ]
     },
     "execution_count": 27,
     "metadata": {},
     "output_type": "execute_result"
    },
    {
     "data": {
      "image/png": "[encoded data removed]",
      "text/plain": [
       "<Figure size 467.125x360 with 1 Axes>"
      ]
     },
     "metadata": {
      "needs_background": "light"
     },
     "output_type": "display_data"
    }
   ],
   "source": [
    "import seaborn as sns\n",
    "import matplotlib.pyplot as plt\n",
    " \n",
    "# Countplot\n",
    "sns.catplot(x =\"Present residence since\", hue =\"actual classification\",\n",
    "kind =\"count\", data = df)"
   ]
  },
  {
   "cell_type": "code",
   "execution_count": 28,
   "metadata": {},
   "outputs": [
    {
     "data": {
      "text/plain": [
       "1    845\n",
       "2    155\n",
       "Name: Number of people being liable to provide maintenance for, dtype: int64"
      ]
     },
     "execution_count": 28,
     "metadata": {},
     "output_type": "execute_result"
    }
   ],
   "source": [
    "df[\"Number of people being liable to provide maintenance for\"].value_counts()"
   ]
  },
  {
   "cell_type": "code",
   "execution_count": 29,
   "metadata": {},
   "outputs": [
    {
     "data": {
      "text/plain": [
       "<seaborn.axisgrid.FacetGrid at 0x204f0df8cd0>"
      ]
     },
     "execution_count": 29,
     "metadata": {},
     "output_type": "execute_result"
    },
    {
     "data": {
      "image/png": "[encoded data removed]",
      "text/plain": [
       "<Figure size 467.125x360 with 1 Axes>"
      ]
     },
     "metadata": {
      "needs_background": "light"
     },
     "output_type": "display_data"
    }
   ],
   "source": [
    "sns.catplot(x =\"Number of people being liable to provide maintenance for\", hue =\"actual classification\",\n",
    "kind =\"count\", data = df)"
   ]
  },
  {
   "cell_type": "code",
   "execution_count": 30,
   "metadata": {},
   "outputs": [
    {
     "data": {
      "image/png": "[encoded data removed]",
      "text/plain": [
       "<Figure size 1080x360 with 2 Axes>"
      ]
     },
     "metadata": {
      "needs_background": "light"
     },
     "output_type": "display_data"
    },
    {
     "data": {
      "image/png": "[encoded data removed]",
      "text/plain": [
       "<Figure size 1080x360 with 2 Axes>"
      ]
     },
     "metadata": {
      "needs_background": "light"
     },
     "output_type": "display_data"
    }
   ],
   "source": [
    "fig, ax = plt.subplots(1,2,figsize=(15,5))\n",
    "sns.histplot(df, x=\"Credit amount\", bins=30, ax=ax[0]).set_title(\"Credit Amount Distribution\");\n",
    "sns.histplot(df, x='Duration in month', bins=30, ax=ax[1]).set_title(\"Duration in month\");\n",
    "\n",
    "fig, ax = plt.subplots(1,2,figsize=(15,5))\n",
    "sns.boxplot(data=df, x=\"actual classification\", y=\"Credit amount\", ax=ax[0]).set_title(\"Credit Amount,Distribution with Risk\");\n",
    "sns.boxplot(data=df, x=\"actual classification\", y='Duration in month', ax=ax[1]).set_title(\"'Duration in month Distribution with Risk\");"
   ]
  },
  {
   "cell_type": "markdown",
   "metadata": {},
   "source": [
    "Analysis: The higher credit amount and longer duration means higher risk to the bank."
   ]
  },
  {
   "cell_type": "code",
   "execution_count": 31,
   "metadata": {},
   "outputs": [
    {
     "data": {
      "image/png": "[encoded data removed]",
      "text/plain": [
       "<Figure size 1224x432 with 2 Axes>"
      ]
     },
     "metadata": {
      "needs_background": "light"
     },
     "output_type": "display_data"
    },
    {
     "data": {
      "image/png": "[encoded data removed]",
      "text/plain": [
       "<Figure size 1224x432 with 2 Axes>"
      ]
     },
     "metadata": {
      "needs_background": "light"
     },
     "output_type": "display_data"
    }
   ],
   "source": [
    "fig, ax = plt.subplots(1,2,figsize=(17,6))\n",
    "sns.histplot(df, x='Age in years', bins=30, hue=\"Personal status and sex\", ax=ax[0]).set_title(\"Age/Sex Distribution\");\n",
    "sns.boxplot(data=df, x=\"Personal status and sex\", y=\"Age in years\", ax=ax[1]).set_title(\"Age/Sex Distribution\");\n",
    "\n",
    "fig, ax = plt.subplots(1,2,figsize=(17,6))\n",
    "sns.boxplot(data=df, x='actual classification', y='Age in years', ax=ax[0]).set_title(\"Age Distribution with Risk\");\n",
    "sns.countplot(data=df, x=\"Personal status and sex\", hue=\"actual classification\", ax=ax[1]).set_title(\"Sex Distribution with Risk\");"
   ]
  },
  {
   "cell_type": "markdown",
   "metadata": {},
   "source": [
    "Analysis:\n",
    "\n",
    "* Age does not affect the risk rating much.\n",
    "* Males (Single) take more count of credit from Bank.\n",
    "* Males have lower percentage of bad rating than woman."
   ]
  },
  {
   "cell_type": "code",
   "execution_count": 32,
   "metadata": {},
   "outputs": [
    {
     "data": {
      "image/png": "[encoded data removed]",
      "text/plain": [
       "<Figure size 1080x360 with 2 Axes>"
      ]
     },
     "metadata": {
      "needs_background": "light"
     },
     "output_type": "display_data"
    }
   ],
   "source": [
    "fig, ax = plt.subplots(1,2, figsize=(15,5))\n",
    "sns.countplot(data=df, x=\"Job\", hue=\"actual classification\", ax=ax[0]).set_title(\"Job Distribution with Risk\");\n",
    "sns.countplot(data=df, x=\"Housing\", hue=\"actual classification\", ax=ax[1]).set_title(\"Housing Distribution with Risk\");"
   ]
  },
  {
   "cell_type": "markdown",
   "metadata": {},
   "source": [
    "Analysis:\n",
    "\n",
    "* Most of people in records have job skill level 3, but the job skill level does not affect the risk rating much.\n",
    "* People who own 2 houses means low risk and good rating to the bank."
   ]
  },
  {
   "cell_type": "code",
   "execution_count": 33,
   "metadata": {},
   "outputs": [
    {
     "data": {
      "image/png": "[encoded data removed]",
      "text/plain": [
       "<Figure size 1080x360 with 2 Axes>"
      ]
     },
     "metadata": {
      "needs_background": "light"
     },
     "output_type": "display_data"
    }
   ],
   "source": [
    "fig, ax = plt.subplots(1,2, figsize=(15,5))\n",
    "sns.countplot(data=df, x=\"Status of existing checking account\", hue=\"actual classification\", ax=ax[0]).set_title(\"Checking Account Quality Distribution with Risk\");\n",
    "sns.countplot(data=df, x=\"Savings account/bonds\", hue=\"actual classification\", ax=ax[1]).set_title(\"Saving Account Quality Distribution with Risk\");"
   ]
  },
  {
   "cell_type": "markdown",
   "metadata": {},
   "source": [
    "Analysis (since 5 means unknown, only discuss quality level 1 to 4 for savings accounts/ since 4 means unknown level 1 to 3 for checking account):\n",
    "\n",
    "* The person with more saving means less risk to the bank, but most people in the records have little saving (not rich!)\n",
    "* About half of people who have little checking account are considered as bad rating in risk.\n",
    "* About 20% of people who have moderate checking account are considered as bad rating in risk."
   ]
  },
  {
   "cell_type": "code",
   "execution_count": 46,
   "metadata": {},
   "outputs": [
    {
     "data": {
      "text/plain": [
       "<seaborn.axisgrid.FacetGrid at 0x204f1a51b20>"
      ]
     },
     "execution_count": 46,
     "metadata": {},
     "output_type": "execute_result"
    },
    {
     "data": {
      "image/png": "[encoded data removed]",
      "text/plain": [
       "<Figure size 467.125x360 with 1 Axes>"
      ]
     },
     "metadata": {
      "needs_background": "light"
     },
     "output_type": "display_data"
    }
   ],
   "source": [
    "sns.catplot(x =\"Telephone\", hue =\"actual classification\",kind =\"count\", data = df)"
   ]
  },
  {
   "cell_type": "markdown",
   "metadata": {},
   "source": [
    "Analaysis: whether people are registered their phones under their customers' names does not affect the risk rating much."
   ]
  },
  {
   "cell_type": "markdown",
   "metadata": {},
   "source": [
    "## Target class distribution"
   ]
  },
  {
   "cell_type": "code",
   "execution_count": 34,
   "metadata": {},
   "outputs": [
    {
     "data": {
      "text/plain": [
       "1    700\n",
       "2    300\n",
       "Name: actual classification, dtype: int64"
      ]
     },
     "execution_count": 34,
     "metadata": {},
     "output_type": "execute_result"
    }
   ],
   "source": [
    "df[\"actual classification\"].value_counts()"
   ]
  },
  {
   "cell_type": "code",
   "execution_count": 35,
   "metadata": {},
   "outputs": [
    {
     "data": {
      "image/png": "[encoded data removed]",
      "text/plain": [
       "<Figure size 432x288 with 1 Axes>"
      ]
     },
     "metadata": {},
     "output_type": "display_data"
    }
   ],
   "source": [
    "my_labels = '1 = Good','2 = Bad'\n",
    "my_colors = ['lightblue','lightsteelblue']\n",
    "my_explode = (0, 0.1)\n",
    "plt.pie(df[\"actual classification\"].value_counts(), labels=my_labels, autopct='%1.1f%%', startangle=15, shadow = True, colors=my_colors, explode=my_explode)\n",
    "plt.title('actual classification')\n",
    "plt.axis('equal')\n",
    "plt.show()"
   ]
  },
  {
   "cell_type": "markdown",
   "metadata": {},
   "source": [
    "We can see that there is huge class imbalance which is a very important observation. This has great influence on how to select instances for training and testing. It is recommended to stratify the data when randomly selecting in order to keep the same distribution of classes in training and testing sets. In some cases techniques like oversampling or undersampling may need to be used to restore class balance for better model training. Moreover, this will even have an effect on choosing the classification model and whether it can deal with class imbalance appropriately or no"
   ]
  },
  {
   "cell_type": "markdown",
   "metadata": {},
   "source": [
    "## Feature Selection"
   ]
  },
  {
   "cell_type": "code",
   "execution_count": 36,
   "metadata": {},
   "outputs": [],
   "source": [
    "X= df.iloc[:,:-1].values\n",
    "y = df.iloc[:,-1].values"
   ]
  },
  {
   "cell_type": "code",
   "execution_count": 37,
   "metadata": {},
   "outputs": [],
   "source": [
    "from sklearn.model_selection import train_test_split\n",
    "X_train,X_test,y_train,y_test = train_test_split(X,y,test_size=0.3,random_state=42)"
   ]
  },
  {
   "cell_type": "code",
   "execution_count": 38,
   "metadata": {},
   "outputs": [],
   "source": [
    "# Feature Scaling  \n",
    "from sklearn.preprocessing import StandardScaler  \n",
    "sc = StandardScaler()  \n",
    "x_train = sc.fit_transform(X_train)  \n",
    "x_test = sc.transform(X_test) \n"
   ]
  },
  {
   "cell_type": "markdown",
   "metadata": {},
   "source": [
    "## GaussianNaiveBayes CLassification"
   ]
  },
  {
   "cell_type": "code",
   "execution_count": 39,
   "metadata": {},
   "outputs": [
    {
     "data": {
      "text/plain": [
       "GaussianNB()"
      ]
     },
     "execution_count": 39,
     "metadata": {},
     "output_type": "execute_result"
    }
   ],
   "source": [
    "# Fitting Naive Bayes to the Training set  \n",
    "from sklearn.naive_bayes import GaussianNB\n",
    "from sklearn.metrics import mean_squared_error, r2_score, accuracy_score, confusion_matrix, classification_report, fbeta_score\n",
    "classifier = GaussianNB()  \n",
    "classifier.fit(x_train, y_train) "
   ]
  },
  {
   "cell_type": "code",
   "execution_count": 40,
   "metadata": {},
   "outputs": [],
   "source": [
    "# Predicting the Test set results  \n",
    "y_pred = classifier.predict(x_test)  "
   ]
  },
  {
   "cell_type": "code",
   "execution_count": 41,
   "metadata": {},
   "outputs": [
    {
     "name": "stdout",
     "output_type": "stream",
     "text": [
      "Test predict accuracy score:  0.7266666666666667 \n",
      "\n",
      "Confussion Matrix: \n",
      " [[163  46]\n",
      " [ 36  55]] \n",
      "\n",
      "Classification report according to Test prediction: \n",
      "               precision    recall  f1-score   support\n",
      "\n",
      "           1       0.82      0.78      0.80       209\n",
      "           2       0.54      0.60      0.57        91\n",
      "\n",
      "    accuracy                           0.73       300\n",
      "   macro avg       0.68      0.69      0.69       300\n",
      "weighted avg       0.74      0.73      0.73       300\n",
      "\n"
     ]
    }
   ],
   "source": [
    "\n",
    "print(\"Test predict accuracy score: \", accuracy_score(y_test,y_pred),\"\\n\")\n",
    "\n",
    "print(\"Confussion Matrix: \\n\", confusion_matrix(y_test, y_pred),\"\\n\")\n",
    "\n",
    "print(\"Classification report according to Test prediction: \\n\", classification_report(y_test, y_pred))"
   ]
  },
  {
   "cell_type": "markdown",
   "metadata": {},
   "source": [
    "## K-Nearest Neighbors Classification"
   ]
  },
  {
   "cell_type": "code",
   "execution_count": 42,
   "metadata": {},
   "outputs": [
    {
     "name": "stdout",
     "output_type": "stream",
     "text": [
      "If use K-Nearest Neighbors Classification, the k should be 33 to get best prediction, and then the  f_score is 0.8493723849372385\n",
      "Accuracy: 0.72\n",
      "Precision: 0.7133105802047781\n",
      "Recall: 1.0\n",
      "Confussion Matrix: \n",
      " [[163  46]\n",
      " [ 36  55]] \n",
      "\n"
     ]
    }
   ],
   "source": [
    "from sklearn.neighbors import KNeighborsClassifier\n",
    "from sklearn.metrics import recall_score, precision_score, accuracy_score\n",
    "from sklearn.metrics import f1_score\n",
    "max_score = 0\n",
    "max_k = 0\n",
    "for k in range(1, 100):\n",
    "    neigh = KNeighborsClassifier(n_neighbors=k)\n",
    "    neigh.fit(x_train,y_train)\n",
    "    score = f1_score(y_test, neigh.predict(x_test))\n",
    "    if score > max_score:\n",
    "        max_k = k\n",
    "        max_score = score\n",
    "print(\"If use K-Nearest Neighbors Classification, the k should be \" + str(max_k) + \" to get best prediction, and then the  f_score is \" + str(max_score))\n",
    "print(f'Accuracy: {accuracy_score(y_test, neigh.predict(x_test))}')\n",
    "print(f'Precision: {precision_score(y_test, neigh.predict(x_test))}')\n",
    "print(f'Recall: {recall_score(y_test, neigh.predict(x_test))}')\n",
    "print(\"Confussion Matrix: \\n\", confusion_matrix(y_test, y_pred),\"\\n\")"
   ]
  },
  {
   "cell_type": "markdown",
   "metadata": {},
   "source": [
    "## Random Forest"
   ]
  },
  {
   "cell_type": "code",
   "execution_count": 43,
   "metadata": {},
   "outputs": [],
   "source": [
    "from sklearn.ensemble import RandomForestClassifier\n",
    "from sklearn.model_selection import GridSearchCV\n",
    "#Seting the Hyper Parameters\n",
    "param_grid = {\"max_depth\": [3,5, 7, 10,None],\n",
    "              \"n_estimators\":[3,5,10,25,50,150],\n",
    "              \"max_features\": [4,7,15,20]}\n",
    "\n",
    "#Creating the classifier\n",
    "model = RandomForestClassifier(random_state=2)\n",
    "\n"
   ]
  },
  {
   "cell_type": "code",
   "execution_count": 44,
   "metadata": {},
   "outputs": [
    {
     "data": {
      "text/plain": [
       "RandomForestClassifier(max_features=10, n_estimators=15, random_state=2)"
      ]
     },
     "execution_count": 44,
     "metadata": {},
     "output_type": "execute_result"
    }
   ],
   "source": [
    "rf = RandomForestClassifier(max_depth=None, max_features=10, n_estimators=15, random_state=2)\n",
    "\n",
    "#trainning with the best params\n",
    "rf.fit(X_train, y_train)"
   ]
  },
  {
   "cell_type": "code",
   "execution_count": 45,
   "metadata": {},
   "outputs": [
    {
     "name": "stdout",
     "output_type": "stream",
     "text": [
      "Test predict accuracy score:  0.72\n",
      "\n",
      "\n",
      "Confussion Matrix: \n",
      " [[187  22]\n",
      " [ 62  29]]\n",
      "\n",
      "\n",
      "Classification report according to Test prediction: \n",
      "               precision    recall  f1-score   support\n",
      "\n",
      "           1       0.75      0.89      0.82       209\n",
      "           2       0.57      0.32      0.41        91\n",
      "\n",
      "    accuracy                           0.72       300\n",
      "   macro avg       0.66      0.61      0.61       300\n",
      "weighted avg       0.70      0.72      0.69       300\n",
      "\n"
     ]
    }
   ],
   "source": [
    "#Testing the model \n",
    "#Predicting using our  model\n",
    "y_pred = rf.predict(X_test)\n",
    "\n",
    "# Verificaar os resultados obtidos\n",
    "print(\"Test predict accuracy score: \",accuracy_score(y_test,y_pred))\n",
    "print(\"\\n\")\n",
    "print(\"Confussion Matrix: \\n\",confusion_matrix(y_test, y_pred))\n",
    "print(\"\\n\")\n",
    "print(\"Classification report according to Test prediction: \\n\", classification_report(y_test, y_pred))"
   ]
  },
  {
   "cell_type": "code",
   "execution_count": null,
   "metadata": {},
   "outputs": [],
   "source": []
  }
 ],
 "metadata": {
  "kernelspec": {
   "display_name": "Python 3",
   "language": "python",
   "name": "python3"
  },
  "language_info": {
   "codemirror_mode": {
    "name": "ipython",
    "version": 3
   },
   "file_extension": ".py",
   "mimetype": "text/x-python",
   "name": "python",
   "nbconvert_exporter": "python",
   "pygments_lexer": "ipython3",
   "version": "3.8.8"
  },
  "vscode": {
   "interpreter": {
    "hash": "fe16b9764dddfec7e33d5a59a702071abbc14fa961af2cda2141dc7bd3508ed1"
   }
  }
 },
 "nbformat": 4,
 "nbformat_minor": 2
}
