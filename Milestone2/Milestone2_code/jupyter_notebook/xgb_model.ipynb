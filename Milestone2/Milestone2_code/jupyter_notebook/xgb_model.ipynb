{
 "cells": [
  {
   "cell_type": "markdown",
   "metadata": {},
   "source": [
    "Import Library useful"
   ]
  },
  {
   "cell_type": "code",
   "execution_count": 1,
   "metadata": {},
   "outputs": [],
   "source": [
    "import pandas as pd\n",
    "import seaborn as sns\n",
    "import numpy as np\n",
    "\n",
    "from sklearn.model_selection import train_test_split\n",
    "from sklearn.pipeline import Pipeline\n",
    "from sklearn.compose import ColumnTransformer\n",
    "\n",
    "#Imputation of missing values\n",
    "from sklearn.impute import KNNImputer, SimpleImputer\n",
    "\n",
    "#Preprocessing scaler, one-hot\n",
    "from sklearn.preprocessing import StandardScaler, OneHotEncoder, RobustScaler, MinMaxScaler, MaxAbsScaler\n",
    "\n",
    "#Model\n",
    "from sklearn.neural_network import MLPClassifier\n",
    "from sklearn.linear_model import SGDClassifier, LogisticRegression\n",
    "from xgboost import XGBClassifier\n",
    "from sklearn.tree import DecisionTreeClassifier\n",
    "\n",
    "# Metrics and graph\n",
    "from sklearn.metrics import confusion_matrix, f1_score, ConfusionMatrixDisplay, classification_report\n",
    "import matplotlib.pyplot as plt\n",
    "\n",
    "from timeit import default_timer as timer\n",
    "import psutil\n",
    "from collections import Counter\n",
    "%matplotlib inline"
   ]
  },
  {
   "cell_type": "markdown",
   "metadata": {},
   "source": [
    "Import data and description"
   ]
  },
  {
   "cell_type": "code",
   "execution_count": 2,
   "metadata": {},
   "outputs": [
    {
     "data": {
      "text/html": [
       "<div>\n",
       "<style scoped>\n",
       "    .dataframe tbody tr th:only-of-type {\n",
       "        vertical-align: middle;\n",
       "    }\n",
       "\n",
       "    .dataframe tbody tr th {\n",
       "        vertical-align: top;\n",
       "    }\n",
       "\n",
       "    .dataframe thead th {\n",
       "        text-align: right;\n",
       "    }\n",
       "</style>\n",
       "<table border=\"1\" class=\"dataframe\">\n",
       "  <thead>\n",
       "    <tr style=\"text-align: right;\">\n",
       "      <th></th>\n",
       "      <th>status</th>\n",
       "      <th>duration</th>\n",
       "      <th>credit_history</th>\n",
       "      <th>purpose</th>\n",
       "      <th>credit_amount</th>\n",
       "      <th>savings_account</th>\n",
       "      <th>present_employment</th>\n",
       "      <th>installment_rate</th>\n",
       "      <th>personal_status_sex</th>\n",
       "      <th>guarantors</th>\n",
       "      <th>...</th>\n",
       "      <th>property</th>\n",
       "      <th>age</th>\n",
       "      <th>installment_plan</th>\n",
       "      <th>housing</th>\n",
       "      <th>existing_credits</th>\n",
       "      <th>job</th>\n",
       "      <th>liables</th>\n",
       "      <th>telephone</th>\n",
       "      <th>foreign</th>\n",
       "      <th>class</th>\n",
       "    </tr>\n",
       "  </thead>\n",
       "  <tbody>\n",
       "    <tr>\n",
       "      <th>0</th>\n",
       "      <td>A11</td>\n",
       "      <td>6</td>\n",
       "      <td>A34</td>\n",
       "      <td>A43</td>\n",
       "      <td>1169</td>\n",
       "      <td>A65</td>\n",
       "      <td>A75</td>\n",
       "      <td>4</td>\n",
       "      <td>A93</td>\n",
       "      <td>A101</td>\n",
       "      <td>...</td>\n",
       "      <td>A121</td>\n",
       "      <td>67</td>\n",
       "      <td>A143</td>\n",
       "      <td>A152</td>\n",
       "      <td>2</td>\n",
       "      <td>A173</td>\n",
       "      <td>1</td>\n",
       "      <td>A192</td>\n",
       "      <td>A201</td>\n",
       "      <td>1</td>\n",
       "    </tr>\n",
       "    <tr>\n",
       "      <th>1</th>\n",
       "      <td>A12</td>\n",
       "      <td>48</td>\n",
       "      <td>A32</td>\n",
       "      <td>A43</td>\n",
       "      <td>5951</td>\n",
       "      <td>A61</td>\n",
       "      <td>A73</td>\n",
       "      <td>2</td>\n",
       "      <td>A92</td>\n",
       "      <td>A101</td>\n",
       "      <td>...</td>\n",
       "      <td>A121</td>\n",
       "      <td>22</td>\n",
       "      <td>A143</td>\n",
       "      <td>A152</td>\n",
       "      <td>1</td>\n",
       "      <td>A173</td>\n",
       "      <td>1</td>\n",
       "      <td>A191</td>\n",
       "      <td>A201</td>\n",
       "      <td>0</td>\n",
       "    </tr>\n",
       "    <tr>\n",
       "      <th>2</th>\n",
       "      <td>A14</td>\n",
       "      <td>12</td>\n",
       "      <td>A34</td>\n",
       "      <td>A46</td>\n",
       "      <td>2096</td>\n",
       "      <td>A61</td>\n",
       "      <td>A74</td>\n",
       "      <td>2</td>\n",
       "      <td>A93</td>\n",
       "      <td>A101</td>\n",
       "      <td>...</td>\n",
       "      <td>A121</td>\n",
       "      <td>49</td>\n",
       "      <td>A143</td>\n",
       "      <td>A152</td>\n",
       "      <td>1</td>\n",
       "      <td>A172</td>\n",
       "      <td>2</td>\n",
       "      <td>A191</td>\n",
       "      <td>A201</td>\n",
       "      <td>1</td>\n",
       "    </tr>\n",
       "    <tr>\n",
       "      <th>3</th>\n",
       "      <td>A11</td>\n",
       "      <td>42</td>\n",
       "      <td>A32</td>\n",
       "      <td>A42</td>\n",
       "      <td>7882</td>\n",
       "      <td>A61</td>\n",
       "      <td>A74</td>\n",
       "      <td>2</td>\n",
       "      <td>A93</td>\n",
       "      <td>A103</td>\n",
       "      <td>...</td>\n",
       "      <td>A122</td>\n",
       "      <td>45</td>\n",
       "      <td>A143</td>\n",
       "      <td>A153</td>\n",
       "      <td>1</td>\n",
       "      <td>A173</td>\n",
       "      <td>2</td>\n",
       "      <td>A191</td>\n",
       "      <td>A201</td>\n",
       "      <td>1</td>\n",
       "    </tr>\n",
       "    <tr>\n",
       "      <th>4</th>\n",
       "      <td>A11</td>\n",
       "      <td>24</td>\n",
       "      <td>A33</td>\n",
       "      <td>A40</td>\n",
       "      <td>4870</td>\n",
       "      <td>A61</td>\n",
       "      <td>A73</td>\n",
       "      <td>3</td>\n",
       "      <td>A93</td>\n",
       "      <td>A101</td>\n",
       "      <td>...</td>\n",
       "      <td>A124</td>\n",
       "      <td>53</td>\n",
       "      <td>A143</td>\n",
       "      <td>A153</td>\n",
       "      <td>2</td>\n",
       "      <td>A173</td>\n",
       "      <td>2</td>\n",
       "      <td>A191</td>\n",
       "      <td>A201</td>\n",
       "      <td>0</td>\n",
       "    </tr>\n",
       "  </tbody>\n",
       "</table>\n",
       "<p>5 rows × 21 columns</p>\n",
       "</div>"
      ],
      "text/plain": [
       "  status  duration credit_history purpose  credit_amount savings_account  \\\n",
       "0    A11         6            A34     A43           1169             A65   \n",
       "1    A12        48            A32     A43           5951             A61   \n",
       "2    A14        12            A34     A46           2096             A61   \n",
       "3    A11        42            A32     A42           7882             A61   \n",
       "4    A11        24            A33     A40           4870             A61   \n",
       "\n",
       "  present_employment  installment_rate personal_status_sex guarantors  ...  \\\n",
       "0                A75                 4                 A93       A101  ...   \n",
       "1                A73                 2                 A92       A101  ...   \n",
       "2                A74                 2                 A93       A101  ...   \n",
       "3                A74                 2                 A93       A103  ...   \n",
       "4                A73                 3                 A93       A101  ...   \n",
       "\n",
       "   property age  installment_plan housing existing_credits   job liables  \\\n",
       "0      A121  67              A143    A152                2  A173       1   \n",
       "1      A121  22              A143    A152                1  A173       1   \n",
       "2      A121  49              A143    A152                1  A172       2   \n",
       "3      A122  45              A143    A153                1  A173       2   \n",
       "4      A124  53              A143    A153                2  A173       2   \n",
       "\n",
       "   telephone foreign class  \n",
       "0       A192    A201     1  \n",
       "1       A191    A201     0  \n",
       "2       A191    A201     1  \n",
       "3       A191    A201     1  \n",
       "4       A191    A201     0  \n",
       "\n",
       "[5 rows x 21 columns]"
      ]
     },
     "execution_count": 2,
     "metadata": {},
     "output_type": "execute_result"
    }
   ],
   "source": [
    "#data link https://archive.ics.uci.edu/ml/datasets/Statlog+%28German+Credit+Data%29\\n\",\n",
    "# header_column = [\"Status of existing checking account\",\n",
    "#                 \"Duration in month\",\n",
    "#                 \"Credit history\",\n",
    "#                 \"Purpose\",\n",
    "#                 \"Credit amount\",\n",
    "#                 \"Savings account/bonds\",\n",
    "#                 \"Present employment since\",\n",
    "#                 \"Installment rate in percentage of disposable income\",\n",
    "#                 \"Personal status and sex\",\n",
    "#                 \"Other debtors / guarantors\",\n",
    "#                 \"Present residence since\",\n",
    "#                 \"Property\",\n",
    "#                 \"Age in years\",\n",
    "#                 \"Other installment plans\",\n",
    "#                 \"Housing\",\n",
    "#                 \"Number of existing credits at this bank\",\n",
    "#                 \"Job\",\n",
    "#                 \"Number of people being liable to provide maintenance for\",\n",
    "#                 \"Telephone\",\n",
    "#                 \"foreign worker\",\n",
    "#                 \"actual classification\"]\n",
    "data = pd.read_csv(\"./data/german_clean.csv\")\n",
    "df = pd.DataFrame(data = data)\n",
    "\n",
    "#Check data\n",
    "df.head()"
   ]
  },
  {
   "cell_type": "code",
   "execution_count": 3,
   "metadata": {},
   "outputs": [
    {
     "name": "stdout",
     "output_type": "stream",
     "text": [
      "<class 'pandas.core.frame.DataFrame'>\n",
      "RangeIndex: 995 entries, 0 to 994\n",
      "Data columns (total 21 columns):\n",
      " #   Column               Non-Null Count  Dtype \n",
      "---  ------               --------------  ----- \n",
      " 0   status               995 non-null    object\n",
      " 1   duration             995 non-null    int64 \n",
      " 2   credit_history       995 non-null    object\n",
      " 3   purpose              995 non-null    object\n",
      " 4   credit_amount        995 non-null    int64 \n",
      " 5   savings_account      995 non-null    object\n",
      " 6   present_employment   995 non-null    object\n",
      " 7   installment_rate     995 non-null    int64 \n",
      " 8   personal_status_sex  995 non-null    object\n",
      " 9   guarantors           995 non-null    object\n",
      " 10  residence            995 non-null    int64 \n",
      " 11  property             995 non-null    object\n",
      " 12  age                  995 non-null    int64 \n",
      " 13  installment_plan     995 non-null    object\n",
      " 14  housing              995 non-null    object\n",
      " 15  existing_credits     995 non-null    int64 \n",
      " 16  job                  995 non-null    object\n",
      " 17  liables              995 non-null    int64 \n",
      " 18  telephone            995 non-null    object\n",
      " 19  foreign              995 non-null    object\n",
      " 20  class                995 non-null    int64 \n",
      "dtypes: int64(8), object(13)\n",
      "memory usage: 163.4+ KB\n"
     ]
    }
   ],
   "source": [
    "df.info()"
   ]
  },
  {
   "cell_type": "markdown",
   "metadata": {},
   "source": [
    "Change object -> category\n",
    "\n",
    ": Category dtype better than object when you train model."
   ]
  },
  {
   "cell_type": "code",
   "execution_count": 4,
   "metadata": {},
   "outputs": [
    {
     "name": "stdout",
     "output_type": "stream",
     "text": [
      "<class 'pandas.core.frame.DataFrame'>\n",
      "RangeIndex: 995 entries, 0 to 994\n",
      "Data columns (total 21 columns):\n",
      " #   Column               Non-Null Count  Dtype   \n",
      "---  ------               --------------  -----   \n",
      " 0   status               995 non-null    category\n",
      " 1   duration             995 non-null    int64   \n",
      " 2   credit_history       995 non-null    category\n",
      " 3   purpose              995 non-null    category\n",
      " 4   credit_amount        995 non-null    int64   \n",
      " 5   savings_account      995 non-null    category\n",
      " 6   present_employment   995 non-null    category\n",
      " 7   installment_rate     995 non-null    int64   \n",
      " 8   personal_status_sex  995 non-null    category\n",
      " 9   guarantors           995 non-null    category\n",
      " 10  residence            995 non-null    int64   \n",
      " 11  property             995 non-null    category\n",
      " 12  age                  995 non-null    int64   \n",
      " 13  installment_plan     995 non-null    category\n",
      " 14  housing              995 non-null    category\n",
      " 15  existing_credits     995 non-null    int64   \n",
      " 16  job                  995 non-null    category\n",
      " 17  liables              995 non-null    int64   \n",
      " 18  telephone            995 non-null    category\n",
      " 19  foreign              995 non-null    category\n",
      " 20  class                995 non-null    int64   \n",
      "dtypes: category(13), int64(8)\n",
      "memory usage: 77.4 KB\n"
     ]
    }
   ],
   "source": [
    "#Change dtype object -> category\n",
    "df_cat = df.copy()\n",
    "for col_name in df_cat.columns:\n",
    "    if np.dtype(df_cat[col_name]) == \"object\":\n",
    "        df_cat[col_name] = df_cat[col_name].astype(\"category\")\n",
    "df_cat.info()"
   ]
  },
  {
   "cell_type": "markdown",
   "metadata": {},
   "source": [
    "***Actual class \n",
    "\n",
    ": 0 -> bad\n",
    "\n",
    ": 1 -> good"
   ]
  },
  {
   "cell_type": "markdown",
   "metadata": {},
   "source": [
    "Data management"
   ]
  },
  {
   "cell_type": "code",
   "execution_count": 5,
   "metadata": {},
   "outputs": [],
   "source": [
    "#When you random value from library, A values will be same point at the different time.\n",
    "SEED = 42 \n",
    "\n",
    "#Define target and feature from dataframe.\n",
    "TARGET = \"class\"\n",
    "FEATURES = df_cat.columns.drop(TARGET)\n",
    "\n",
    "#Select data columns name only dtype 'number'\n",
    "NUMERICAL = df_cat[FEATURES].select_dtypes('number').columns\n",
    "\n",
    "#Select data coulumn name only dtype 'category'\n",
    "CATEGORICAL = pd.Index(np.setdiff1d(FEATURES, NUMERICAL)) # np.setdiff1d(a, b) -> return unique values in a that b value not in a Ex. [1, 2, 3], [3, 4] => [1, 2]\n",
    "\n",
    "#Change string to float\n",
    "for column_name in df_cat[CATEGORICAL]:\n",
    "    df_cat[column_name] = df_cat[column_name].cat.codes\n",
    "\n",
    "#Change Class 0-> bad, 1-> good\n",
    "for index, val in enumerate(df_cat[\"class\"]):\n",
    "    if val == 2:\n",
    "        df_cat[\"class\"][index] = 0\n",
    "\n",
    "input = df_cat.drop(columns=TARGET)\n",
    "target = df_cat[TARGET]"
   ]
  },
  {
   "cell_type": "markdown",
   "metadata": {},
   "source": [
    "Pipline"
   ]
  },
  {
   "cell_type": "code",
   "execution_count": 6,
   "metadata": {},
   "outputs": [],
   "source": [
    "#Numerical_pipline\n",
    "numerical_pipe = Pipeline([\n",
    "    ('imputer', SimpleImputer(strategy='mean')), #Method to solve missing values\n",
    "    ('scaler', MinMaxScaler()) #Change scale on data\n",
    "])\n",
    "\n",
    "categorical_pipe = Pipeline([\n",
    "    ('imputer', SimpleImputer(strategy='constant')),\n",
    "    ('encoder', OneHotEncoder())  #Extract data to one-hot to each columns\n",
    "])\n",
    "\n",
    "#numerical and cateforical add to preprocessor\n",
    "preprocessor = ColumnTransformer(\n",
    "    transformers=[\n",
    "    ('num', numerical_pipe, NUMERICAL),\n",
    "    ('cat', categorical_pipe, CATEGORICAL)\n",
    "])"
   ]
  },
  {
   "cell_type": "code",
   "execution_count": 7,
   "metadata": {},
   "outputs": [],
   "source": [
    "X_train, X_test, y_train, y_test = train_test_split(input, target, test_size=.2, random_state=SEED, \n",
    "                                    stratify=df_cat[TARGET]) #Dividing data to train and test set"
   ]
  },
  {
   "cell_type": "code",
   "execution_count": 8,
   "metadata": {},
   "outputs": [
    {
     "name": "stdout",
     "output_type": "stream",
     "text": [
      "Memory Usage : 166.34MB\n"
     ]
    }
   ],
   "source": [
    "target_names = ['bad', 'good']\n",
    "print(\"Memory Usage : {:.2f}MB\".format(psutil.Process().memory_info().rss / (1024*1024)))"
   ]
  },
  {
   "cell_type": "markdown",
   "metadata": {},
   "source": [
    "Extreme Gradient Boosting"
   ]
  },
  {
   "cell_type": "code",
   "execution_count": 9,
   "metadata": {},
   "outputs": [
    {
     "name": "stdout",
     "output_type": "stream",
     "text": [
      "For Normal data :\n",
      "Time taken: 0.16104 s\n",
      "Memory Usage : 11.000MB\n"
     ]
    }
   ],
   "source": [
    "#Create Pipline of model\n",
    "print('For Normal data :')\n",
    "XGB_pipeline = Pipeline([\n",
    "    ('preprocessor', preprocessor),\n",
    "    ('model', XGBClassifier())\n",
    "])\n",
    "\n",
    "#Train model\n",
    "nor_start_mem = psutil.Process().memory_info().rss / (1024*1024)\n",
    "nor_start= timer()\n",
    "XGB_pipeline.fit(X_train, y_train)\n",
    "nor_end = timer()\n",
    "nor_end_mem = psutil.Process().memory_info().rss / (1024*1024)\n",
    "\n",
    "print(\"Time taken: {} s\".format(round(nor_end-nor_start,5)))\n",
    "print(\"Memory Usage : {:.3f}MB\".format(nor_end_mem - nor_start_mem))"
   ]
  },
  {
   "cell_type": "code",
   "execution_count": 10,
   "metadata": {},
   "outputs": [
    {
     "name": "stdout",
     "output_type": "stream",
     "text": [
      "accuracy:  0.7688442211055276\n",
      "f1_score:  0.7621280091389258\n",
      "              precision    recall  f1-score   support\n",
      "\n",
      "         bad       0.63      0.53      0.57        59\n",
      "        good       0.81      0.87      0.84       140\n",
      "\n",
      "    accuracy                           0.77       199\n",
      "   macro avg       0.72      0.70      0.71       199\n",
      "weighted avg       0.76      0.77      0.76       199\n",
      "\n"
     ]
    }
   ],
   "source": [
    "#Predictation of model to test dataset and measure\n",
    "y_pred = XGB_pipeline.predict(X_test)\n",
    "accuracy = XGB_pipeline.score(X_test, y_test)\n",
    "\n",
    "print(\"accuracy: \",accuracy)\n",
    "print(\"f1_score: \",f1_score(y_test, y_pred, average=\"weighted\"))\n",
    "\n",
    "#Check confusiong matrix\n",
    "print(classification_report(y_test, y_pred, target_names=target_names))"
   ]
  },
  {
   "cell_type": "code",
   "execution_count": 11,
   "metadata": {},
   "outputs": [
    {
     "data": {
      "image/png": "[encoded data removed]",
      "text/plain": [
       "<Figure size 432x288 with 2 Axes>"
      ]
     },
     "metadata": {
      "needs_background": "light"
     },
     "output_type": "display_data"
    },
    {
     "name": "stdout",
     "output_type": "stream",
     "text": [
      "Total test data ->  199\n"
     ]
    }
   ],
   "source": [
    "#Visualization confusion matrix\n",
    "disp = ConfusionMatrixDisplay(confusion_matrix=confusion_matrix(y_test, y_pred), display_labels=target_names)\n",
    "disp = disp.plot()\n",
    "plt.show()\n",
    "print(\"Total test data -> \", X_test.shape[0])"
   ]
  },
  {
   "cell_type": "code",
   "execution_count": 12,
   "metadata": {},
   "outputs": [],
   "source": [
    "from imblearn.over_sampling import RandomOverSampler\n",
    "from imblearn.under_sampling import RandomUnderSampler"
   ]
  },
  {
   "cell_type": "code",
   "execution_count": 13,
   "metadata": {},
   "outputs": [
    {
     "name": "stdout",
     "output_type": "stream",
     "text": [
      "Over sampled class distribution :  [(0, 558), (1, 558)]\n",
      "For OverSampling data :\n",
      "Time taken: 0.14188 s\n",
      "Memory Usage : 2.488MB\n",
      "\n",
      "accuracy:  0.7336683417085427\n",
      "f1_score:  0.7355277446395985\n",
      "              precision    recall  f1-score   support\n",
      "\n",
      "         bad       0.55      0.58      0.56        59\n",
      "        good       0.82      0.80      0.81       140\n",
      "\n",
      "    accuracy                           0.73       199\n",
      "   macro avg       0.68      0.69      0.69       199\n",
      "weighted avg       0.74      0.73      0.74       199\n",
      "\n"
     ]
    }
   ],
   "source": [
    "ros = RandomOverSampler(random_state=SEED)\n",
    "X_oversampled, y_oversampled = ros.fit_resample(X_train, y_train)\n",
    "print('Over sampled class distribution : ',sorted(Counter(y_oversampled).items()))\n",
    "\n",
    "print('For OverSampling data :')\n",
    "over_XGB_pipeline = Pipeline([\n",
    "    ('preprocessor', preprocessor),\n",
    "    ('model', XGBClassifier())\n",
    "])\n",
    "\n",
    "#Train model\n",
    "over_start_mem = psutil.Process().memory_info().rss / (1024*1024)\n",
    "over_start= timer()\n",
    "over_XGB_pipeline.fit(X_oversampled, y_oversampled)\n",
    "over_end = timer()\n",
    "over_end_mem = psutil.Process().memory_info().rss / (1024*1024)\n",
    "\n",
    "print(\"Time taken: {} s\".format(round(over_end-over_start,5)))\n",
    "print(\"Memory Usage : {:.3f}MB\".format(over_end_mem - over_start_mem))\n",
    "print(\"\")\n",
    "\n",
    "#Predictation of model to test dataset and measure\n",
    "over_y_pred = over_XGB_pipeline.predict(X_test)\n",
    "accuracy = over_XGB_pipeline.score(X_test, y_test)\n",
    "\n",
    "print(\"accuracy: \",accuracy)\n",
    "print(\"f1_score: \",f1_score(y_test, over_y_pred, average=\"weighted\"))\n",
    "\n",
    "#Check confusiong matrix\n",
    "print(classification_report(y_test, over_y_pred, target_names=target_names))"
   ]
  },
  {
   "cell_type": "code",
   "execution_count": 14,
   "metadata": {},
   "outputs": [
    {
     "name": "stdout",
     "output_type": "stream",
     "text": [
      "Under sampled class distribution :  [(0, 238), (1, 238)]\n",
      "For OverSampling data :\n",
      "Time taken: 0.09304 s\n",
      "Memory Usage : 0.0000000000MB\n",
      "\n",
      "accuracy:  0.678391959798995\n",
      "f1_score:  0.6899491922514008\n",
      "              precision    recall  f1-score   support\n",
      "\n",
      "         bad       0.47      0.64      0.54        59\n",
      "        good       0.82      0.69      0.75       140\n",
      "\n",
      "    accuracy                           0.68       199\n",
      "   macro avg       0.65      0.67      0.65       199\n",
      "weighted avg       0.72      0.68      0.69       199\n",
      "\n"
     ]
    }
   ],
   "source": [
    "ros = RandomUnderSampler(random_state=SEED)\n",
    "X_undersampled, y_undersampled = ros.fit_resample(X_train, y_train)\n",
    "print('Under sampled class distribution : ',sorted(Counter(y_undersampled).items()))\n",
    "\n",
    "print('For OverSampling data :')\n",
    "under_XGB_pipeline = Pipeline([\n",
    "    ('preprocessor', preprocessor),\n",
    "    ('model', XGBClassifier())\n",
    "])\n",
    "\n",
    "#Train model\n",
    "under_start_mem = psutil.Process().memory_info().rss / (1024*1024)\n",
    "under_start= timer()\n",
    "under_XGB_pipeline.fit(X_undersampled, y_undersampled)\n",
    "under_end = timer()\n",
    "under_end_mem = psutil.Process().memory_info().rss / (1024*1024)\n",
    "\n",
    "print(\"Time taken: {} s\".format(round(under_end-under_start,5)))\n",
    "print(\"Memory Usage : {:.10f}MB\".format(under_end_mem - under_start_mem))\n",
    "print(\"\")\n",
    "\n",
    "#Predictation of model to test dataset and measure\n",
    "under_y_pred = under_XGB_pipeline.predict(X_test)\n",
    "accuracy = under_XGB_pipeline.score(X_test, y_test)\n",
    "\n",
    "print(\"accuracy: \",accuracy)\n",
    "print(\"f1_score: \",f1_score(y_test, under_y_pred, average=\"weighted\"))\n",
    "\n",
    "#Check confusiong matrix\n",
    "print(classification_report(y_test, under_y_pred, target_names=target_names))"
   ]
  },
  {
   "cell_type": "code",
   "execution_count": null,
   "metadata": {},
   "outputs": [],
   "source": []
  }
 ],
 "metadata": {
  "kernelspec": {
   "display_name": "soft_dev",
   "language": "python",
   "name": "soft_dev"
  },
  "language_info": {
   "codemirror_mode": {
    "name": "ipython",
    "version": 3
   },
   "file_extension": ".py",
   "mimetype": "text/x-python",
   "name": "python",
   "nbconvert_exporter": "python",
   "pygments_lexer": "ipython3",
   "version": "3.9.5"
  },
  "orig_nbformat": 4,
  "vscode": {
   "interpreter": {
    "hash": "36d6d4d0b7e4fd7889a3b12873a4e2768d1de40a9ec1741a1684a8e9d8b73569"
   }
  }
 },
 "nbformat": 4,
 "nbformat_minor": 2
}
